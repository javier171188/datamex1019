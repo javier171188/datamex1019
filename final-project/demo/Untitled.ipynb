{
 "cells": [
  {
   "cell_type": "code",
   "execution_count": 1,
   "metadata": {},
   "outputs": [],
   "source": [
    "import random"
   ]
  },
  {
   "cell_type": "code",
   "execution_count": 13,
   "metadata": {},
   "outputs": [],
   "source": []
  },
  {
   "cell_type": "code",
   "execution_count": 23,
   "metadata": {},
   "outputs": [
    {
     "name": "stdout",
     "output_type": "stream",
     "text": [
      "El participante eligió la puerta C, el conductor abrió la puerta A y el premio estaba en la puerta B\n",
      "El participante eligió la puerta A, el conductor abrió la puerta C y el premio estaba en la puerta A\n",
      "El participante eligió la puerta B, el conductor abrió la puerta C y el premio estaba en la puerta B\n",
      "El participante eligió la puerta C, el conductor abrió la puerta B y el premio estaba en la puerta A\n",
      "El participante eligió la puerta C, el conductor abrió la puerta A y el premio estaba en la puerta B\n",
      "El participante eligió la puerta A, el conductor abrió la puerta C y el premio estaba en la puerta B\n",
      "El participante eligió la puerta A, el conductor abrió la puerta C y el premio estaba en la puerta B\n",
      "El participante eligió la puerta B, el conductor abrió la puerta C y el premio estaba en la puerta A\n",
      "El participante eligió la puerta C, el conductor abrió la puerta A y el premio estaba en la puerta B\n",
      "El participante eligió la puerta B, el conductor abrió la puerta A y el premio estaba en la puerta C\n",
      "El participante eligió la puerta A, el conductor abrió la puerta B y el premio estaba en la puerta A\n",
      "El participante eligió la puerta B, el conductor abrió la puerta A y el premio estaba en la puerta C\n",
      "El participante eligió la puerta B, el conductor abrió la puerta C y el premio estaba en la puerta A\n",
      "El participante eligió la puerta A, el conductor abrió la puerta C y el premio estaba en la puerta B\n",
      "El participante eligió la puerta A, el conductor abrió la puerta C y el premio estaba en la puerta B\n",
      "El participante eligió la puerta A, el conductor abrió la puerta B y el premio estaba en la puerta A\n",
      "El participante eligió la puerta A, el conductor abrió la puerta C y el premio estaba en la puerta B\n",
      "El participante eligió la puerta A, el conductor abrió la puerta C y el premio estaba en la puerta B\n",
      "El participante eligió la puerta C, el conductor abrió la puerta B y el premio estaba en la puerta A\n",
      "El participante eligió la puerta B, el conductor abrió la puerta A y el premio estaba en la puerta C\n",
      "El participante eligió la puerta B, el conductor abrió la puerta C y el premio estaba en la puerta B\n",
      "El participante eligió la puerta C, el conductor abrió la puerta A y el premio estaba en la puerta C\n",
      "El participante eligió la puerta B, el conductor abrió la puerta A y el premio estaba en la puerta B\n",
      "El participante eligió la puerta C, el conductor abrió la puerta B y el premio estaba en la puerta A\n",
      "El participante eligió la puerta A, el conductor abrió la puerta B y el premio estaba en la puerta A\n",
      "El participante eligió la puerta A, el conductor abrió la puerta B y el premio estaba en la puerta A\n",
      "El participante eligió la puerta C, el conductor abrió la puerta A y el premio estaba en la puerta C\n",
      "El participante eligió la puerta C, el conductor abrió la puerta B y el premio estaba en la puerta C\n",
      "El participante eligió la puerta A, el conductor abrió la puerta B y el premio estaba en la puerta A\n",
      "El participante eligió la puerta B, el conductor abrió la puerta C y el premio estaba en la puerta A\n",
      "El participante eligió la puerta A, el conductor abrió la puerta B y el premio estaba en la puerta C\n",
      "El participante eligió la puerta B, el conductor abrió la puerta C y el premio estaba en la puerta A\n",
      "El participante eligió la puerta A, el conductor abrió la puerta B y el premio estaba en la puerta C\n",
      "El participante eligió la puerta C, el conductor abrió la puerta A y el premio estaba en la puerta B\n",
      "El participante eligió la puerta B, el conductor abrió la puerta A y el premio estaba en la puerta C\n",
      "El participante eligió la puerta C, el conductor abrió la puerta B y el premio estaba en la puerta A\n",
      "El participante eligió la puerta C, el conductor abrió la puerta B y el premio estaba en la puerta A\n",
      "El participante eligió la puerta C, el conductor abrió la puerta B y el premio estaba en la puerta C\n",
      "El participante eligió la puerta A, el conductor abrió la puerta B y el premio estaba en la puerta A\n",
      "El participante eligió la puerta A, el conductor abrió la puerta C y el premio estaba en la puerta B\n",
      "El participante eligió la puerta C, el conductor abrió la puerta B y el premio estaba en la puerta A\n",
      "El participante eligió la puerta B, el conductor abrió la puerta C y el premio estaba en la puerta B\n",
      "El participante eligió la puerta A, el conductor abrió la puerta B y el premio estaba en la puerta A\n",
      "El participante eligió la puerta C, el conductor abrió la puerta A y el premio estaba en la puerta B\n",
      "El participante eligió la puerta A, el conductor abrió la puerta B y el premio estaba en la puerta A\n",
      "El participante eligió la puerta C, el conductor abrió la puerta A y el premio estaba en la puerta B\n",
      "El participante eligió la puerta B, el conductor abrió la puerta A y el premio estaba en la puerta C\n",
      "El participante eligió la puerta C, el conductor abrió la puerta A y el premio estaba en la puerta C\n",
      "El participante eligió la puerta C, el conductor abrió la puerta A y el premio estaba en la puerta B\n",
      "El participante eligió la puerta B, el conductor abrió la puerta C y el premio estaba en la puerta A\n",
      "El participante eligió la puerta A, el conductor abrió la puerta C y el premio estaba en la puerta A\n",
      "El participante eligió la puerta A, el conductor abrió la puerta B y el premio estaba en la puerta C\n",
      "El participante eligió la puerta A, el conductor abrió la puerta C y el premio estaba en la puerta B\n",
      "El participante eligió la puerta A, el conductor abrió la puerta C y el premio estaba en la puerta B\n",
      "El participante eligió la puerta A, el conductor abrió la puerta B y el premio estaba en la puerta C\n",
      "El participante eligió la puerta A, el conductor abrió la puerta C y el premio estaba en la puerta B\n",
      "El participante eligió la puerta B, el conductor abrió la puerta A y el premio estaba en la puerta C\n",
      "El participante eligió la puerta A, el conductor abrió la puerta C y el premio estaba en la puerta B\n",
      "El participante eligió la puerta A, el conductor abrió la puerta C y el premio estaba en la puerta B\n",
      "El participante eligió la puerta A, el conductor abrió la puerta C y el premio estaba en la puerta A\n",
      "El participante eligió la puerta B, el conductor abrió la puerta A y el premio estaba en la puerta C\n",
      "El participante eligió la puerta C, el conductor abrió la puerta A y el premio estaba en la puerta B\n",
      "El participante eligió la puerta A, el conductor abrió la puerta B y el premio estaba en la puerta C\n",
      "El participante eligió la puerta B, el conductor abrió la puerta C y el premio estaba en la puerta B\n",
      "El participante eligió la puerta A, el conductor abrió la puerta B y el premio estaba en la puerta C\n",
      "El participante eligió la puerta A, el conductor abrió la puerta C y el premio estaba en la puerta B\n",
      "El participante eligió la puerta B, el conductor abrió la puerta A y el premio estaba en la puerta C\n",
      "El participante eligió la puerta B, el conductor abrió la puerta A y el premio estaba en la puerta C\n",
      "El participante eligió la puerta C, el conductor abrió la puerta B y el premio estaba en la puerta C\n",
      "El participante eligió la puerta A, el conductor abrió la puerta C y el premio estaba en la puerta A\n",
      "El participante eligió la puerta B, el conductor abrió la puerta A y el premio estaba en la puerta C\n",
      "El participante eligió la puerta A, el conductor abrió la puerta C y el premio estaba en la puerta B\n",
      "El participante eligió la puerta A, el conductor abrió la puerta C y el premio estaba en la puerta B\n",
      "El participante eligió la puerta C, el conductor abrió la puerta A y el premio estaba en la puerta B\n",
      "El participante eligió la puerta C, el conductor abrió la puerta A y el premio estaba en la puerta B\n",
      "El participante eligió la puerta A, el conductor abrió la puerta B y el premio estaba en la puerta A\n",
      "El participante eligió la puerta C, el conductor abrió la puerta B y el premio estaba en la puerta C\n",
      "El participante eligió la puerta B, el conductor abrió la puerta C y el premio estaba en la puerta B\n",
      "El participante eligió la puerta A, el conductor abrió la puerta B y el premio estaba en la puerta C\n",
      "El participante eligió la puerta C, el conductor abrió la puerta B y el premio estaba en la puerta A\n",
      "El participante eligió la puerta C, el conductor abrió la puerta B y el premio estaba en la puerta C\n",
      "El participante eligió la puerta B, el conductor abrió la puerta A y el premio estaba en la puerta C\n",
      "El participante eligió la puerta C, el conductor abrió la puerta B y el premio estaba en la puerta A\n",
      "El participante eligió la puerta B, el conductor abrió la puerta C y el premio estaba en la puerta A\n",
      "El participante eligió la puerta B, el conductor abrió la puerta A y el premio estaba en la puerta B\n",
      "El participante eligió la puerta C, el conductor abrió la puerta A y el premio estaba en la puerta B\n",
      "El participante eligió la puerta C, el conductor abrió la puerta B y el premio estaba en la puerta A\n",
      "El participante eligió la puerta B, el conductor abrió la puerta A y el premio estaba en la puerta B\n",
      "El participante eligió la puerta B, el conductor abrió la puerta C y el premio estaba en la puerta B\n",
      "El participante eligió la puerta B, el conductor abrió la puerta A y el premio estaba en la puerta C\n",
      "El participante eligió la puerta A, el conductor abrió la puerta C y el premio estaba en la puerta B\n",
      "El participante eligió la puerta B, el conductor abrió la puerta A y el premio estaba en la puerta C\n",
      "El participante eligió la puerta B, el conductor abrió la puerta C y el premio estaba en la puerta A\n",
      "El participante eligió la puerta B, el conductor abrió la puerta A y el premio estaba en la puerta B\n",
      "El participante eligió la puerta C, el conductor abrió la puerta B y el premio estaba en la puerta A\n",
      "El participante eligió la puerta B, el conductor abrió la puerta C y el premio estaba en la puerta A\n",
      "El participante eligió la puerta B, el conductor abrió la puerta A y el premio estaba en la puerta B\n",
      "El participante eligió la puerta A, el conductor abrió la puerta C y el premio estaba en la puerta B\n",
      "El participante eligió la puerta B, el conductor abrió la puerta A y el premio estaba en la puerta C\n",
      "El participante eligió la puerta B, el conductor abrió la puerta A y el premio estaba en la puerta C\n"
     ]
    }
   ],
   "source": [
    "for i in range(100):\n",
    "    pj=0\n",
    "    pne=0\n",
    "    puertas = ['A','B','C']\n",
    "    premio = random.choice(puertas)\n",
    "    part= random.choice(puertas)\n",
    "    puertas.remove(part)\n",
    "    if part != premio:\n",
    "        pj+=1\n",
    "        puertas.remove(premio)\n",
    "        abierta = puertas[0]\n",
    "        \n",
    "    else:\n",
    "        pne+=1\n",
    "        \n",
    "        puertas.remove(random.choice(puertas))\n",
    "        abierta =  puertas[0]\n",
    "        \n",
    "    print('El participante eligió la puerta {}, el conductor abrió la puerta {} y el premio estaba en la puerta {}'.format(part, abierta, premio))"
   ]
  },
  {
   "cell_type": "code",
   "execution_count": 17,
   "metadata": {},
   "outputs": [
    {
     "data": {
      "text/plain": [
       "['B', 'A']"
      ]
     },
     "execution_count": 17,
     "metadata": {},
     "output_type": "execute_result"
    }
   ],
   "source": [
    "\n"
   ]
  },
  {
   "cell_type": "code",
   "execution_count": null,
   "metadata": {},
   "outputs": [],
   "source": []
  },
  {
   "cell_type": "code",
   "execution_count": null,
   "metadata": {},
   "outputs": [],
   "source": []
  }
 ],
 "metadata": {
  "kernelspec": {
   "display_name": "Python 3",
   "language": "python",
   "name": "python3"
  },
  "language_info": {
   "codemirror_mode": {
    "name": "ipython",
    "version": 3
   },
   "file_extension": ".py",
   "mimetype": "text/x-python",
   "name": "python",
   "nbconvert_exporter": "python",
   "pygments_lexer": "ipython3",
   "version": "3.7.1"
  }
 },
 "nbformat": 4,
 "nbformat_minor": 2
}

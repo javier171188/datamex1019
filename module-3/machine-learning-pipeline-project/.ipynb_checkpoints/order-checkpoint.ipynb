{
 "cells": [
  {
   "cell_type": "code",
   "execution_count": 1,
   "metadata": {},
   "outputs": [],
   "source": [
    "#importar las bibliotecas necesarias\n",
    "import pandas as pd\n",
    "import seaborn as sns; sns.set()\n",
    "from sklearn.model_selection import train_test_split\n",
    "from sklearn.linear_model import LinearRegression\n",
    "from sklearn.metrics import r2_score\n",
    "import numpy as np\n",
    "import matplotlib.pyplot as plt\n",
    "from sklearn.ensemble import RandomForestRegressor as RFR\n",
    "from sklearn.linear_model import SGDRegressor as SGDR\n",
    "from sklearn.linear_model import ElasticNet\n",
    "from sklearn.naive_bayes import GaussianNB as GNB\n",
    "from sklearn.naive_bayes import MultinomialNB as MNB\n",
    "from sklearn.naive_bayes import BernoulliNB as BNB\n",
    "from sklearn.naive_bayes import ComplementNB as CNB\n",
    "from sklearn.neighbors import KNeighborsRegressor as KNNR\n",
    "from xgboost import XGBRegressor as XGBR\n",
    "from sklearn.ensemble import GradientBoostingRegressor as GBR\n",
    "from lightgbm import LGBMRegressor as LGBMR\n",
    "from mlxtend.regressor import StackingRegressor\n",
    "from sklearn.linear_model import LinearRegression\n",
    "from sklearn.linear_model import Lasso\n",
    "from sklearn.linear_model import Ridge\n",
    "from sklearn.svm import SVR\n",
    "from sklearn.neighbors import KNeighborsRegressor as KNNR\n",
    "from sklearn.ensemble import GradientBoostingRegressor as GBR\n",
    "from sklearn.metrics import mean_squared_error as mse\n",
    "from sklearn.preprocessing import PolynomialFeatures\n",
    "from sklearn.linear_model import LinearRegression\n",
    "from sklearn.pipeline import make_pipeline\n"
   ]
  },
  {
   "cell_type": "code",
   "execution_count": null,
   "metadata": {},
   "outputs": [],
   "source": [
    "#función para generar archivo de envío\n",
    "def predacsv(preds, nombre):\n",
    "    id1 = list(range(9625))\n",
    "    sub_file = pd.DataFrame(columns=[\"id\",\"price\"])\n",
    "    sub_file['price'] = preds\n",
    "    sub_file[\"id\"]= id1\n",
    "    sub_file.to_csv(nombre + '.csv', index = False)"
   ]
  },
  {
   "cell_type": "code",
   "execution_count": null,
   "metadata": {},
   "outputs": [],
   "source": [
    "#Función para normalizar datos\n",
    "def norma(col):\n",
    "    m = col.mean()\n",
    "    st = col.std()\n",
    "    \n",
    "    def subs(s):\n",
    "        s = (s-m)/st\n",
    "        return s\n",
    "    col = col.apply(subs)\n",
    "    return col"
   ]
  },
  {
   "cell_type": "code",
   "execution_count": 2,
   "metadata": {},
   "outputs": [],
   "source": [
    "#Abrimos el archivo\n",
    "df = pd.read_csv('airbnb_data.csv.zip', compression='zip')"
   ]
  },
  {
   "cell_type": "code",
   "execution_count": null,
   "metadata": {},
   "outputs": [],
   "source": [
    "#Abrimos el archivo para enviar\n",
    "df_sub = pd.read_csv('airbnb_submission.csv.zip', compression='zip')"
   ]
  },
  {
   "cell_type": "code",
   "execution_count": 28,
   "metadata": {},
   "outputs": [],
   "source": [
    "def limpio(df):\n",
    "    for e in df.columns:\n",
    "        print('\\n'+'Columna: '+e+'\\n')\n",
    "        print(df[e].value_counts())\n",
    "    return "
   ]
  },
  {
   "cell_type": "code",
   "execution_count": 29,
   "metadata": {},
   "outputs": [
    {
     "name": "stdout",
     "output_type": "stream",
     "text": [
      "\n",
      "Columna: property_type\n",
      "\n",
      "Apartment             18543\n",
      "House                  6655\n",
      "Condominium            1081\n",
      "Townhouse               720\n",
      "Loft                    552\n",
      "Other                   260\n",
      "Guesthouse              248\n",
      "Bed & Breakfast         214\n",
      "Bungalow                166\n",
      "Guest suite              72\n",
      "Dorm                     61\n",
      "Villa                    54\n",
      "In-law                   44\n",
      "Hostel                   36\n",
      "Cabin                    32\n",
      "Timeshare                26\n",
      "Camper/RV                24\n",
      "Boat                     22\n",
      "Boutique hotel           20\n",
      "Castle                    9\n",
      "Serviced apartment        9\n",
      "Tent                      7\n",
      "Vacation home             4\n",
      "Hut                       4\n",
      "Chalet                    4\n",
      "Tipi                      3\n",
      "Cave                      2\n",
      "Treehouse                 2\n",
      "Earth House               2\n",
      "Yurt                      1\n",
      "Name: property_type, dtype: int64\n",
      "\n",
      "Columna: room_type\n",
      "\n",
      "Entire home/apt    16158\n",
      "Private room       11993\n",
      "Shared room          726\n",
      "Name: room_type, dtype: int64\n",
      "\n",
      "Columna: amenities\n",
      "\n",
      "{}                                                                                                                                                                                                                                                                                                                                                                    49\n",
      "{\"translation missing: en.hosting_amenity_49\",\"translation missing: en.hosting_amenity_50\"}                                                                                                                                                                                                                                                                           21\n",
      "{TV,\"Cable TV\",Internet,\"Wireless Internet\",\"Air conditioning\",Kitchen,Heating,\"Family/kid friendly\",Washer,Dryer,\"Smoke detector\",\"Carbon monoxide detector\",\"First aid kit\",\"Safety card\",\"Fire extinguisher\",Essentials,Shampoo,\"24-hour check-in\",Hangers,\"Hair dryer\",Iron,\"Laptop friendly workspace\"}                                                          12\n",
      "{TV,\"Cable TV\",Internet,\"Wireless Internet\",\"Air conditioning\",Kitchen,\"Buzzer/wireless intercom\",Heating,\"Family/kid friendly\",\"Smoke detector\",\"Carbon monoxide detector\",Essentials,Shampoo,\"24-hour check-in\",Hangers,\"Hair dryer\",Iron,\"Laptop friendly workspace\"}                                                                                              12\n",
      "{\"Family/kid friendly\"}                                                                                                                                                                                                                                                                                                                                               12\n",
      "                                                                                                                                                                                                                                                                                                                                                                      ..\n",
      "{TV,Internet,\"Wireless Internet\",\"Air conditioning\",\"Wheelchair accessible\",Kitchen,Elevator,Heating,Washer,Dryer,\"Smoke detector\",\"Carbon monoxide detector\",Essentials,Shampoo,Hangers,Iron,\"translation missing: en.hosting_amenity_49\",\"translation missing: en.hosting_amenity_50\"}                                                                               1\n",
      "{TV,Internet,\"Wireless Internet\",Kitchen,\"Pets allowed\",Heating,\"Family/kid friendly\",\"Smoke detector\",\"Carbon monoxide detector\",Essentials,Shampoo,Hangers,\"Hair dryer\",Iron}                                                                                                                                                                                        1\n",
      "{TV,\"Wireless Internet\",\"Air conditioning\",Kitchen,\"Free parking on premises\",Breakfast,\"Indoor fireplace\",Heating,\"Family/kid friendly\",Washer,Dryer,\"Smoke detector\",\"Carbon monoxide detector\",\"First aid kit\",Essentials,Shampoo,\"Lock on bedroom door\",Hangers,\"Hair dryer\",Iron,\"Laptop friendly workspace\"}                                                     1\n",
      "{TV,Internet,\"Wireless Internet\",\"Air conditioning\",Pool,Kitchen,\"Free parking on premises\",\"Pets live on this property\",Dog(s),\"Indoor fireplace\",Heating,Washer,Dryer,\"Smoke detector\",\"Carbon monoxide detector\",\"First aid kit\",\"Safety card\",\"Fire extinguisher\",Essentials,Shampoo,\"24-hour check-in\",Hangers,\"Hair dryer\",Iron,\"Laptop friendly workspace\"}     1\n",
      "{\"Wireless Internet\",\"Air conditioning\",Kitchen,Essentials,Shampoo,Iron}                                                                                                                                                                                                                                                                                               1\n",
      "Name: amenities, Length: 27436, dtype: int64\n",
      "\n",
      "Columna: accommodates\n",
      "\n",
      "2     12713\n",
      "4      4915\n",
      "3      3135\n",
      "1      2861\n",
      "6      2050\n",
      "5      1373\n",
      "8       719\n",
      "7       405\n",
      "10      282\n",
      "9       111\n",
      "16       98\n",
      "12       95\n",
      "14       49\n",
      "11       40\n",
      "15       17\n",
      "13       14\n",
      "Name: accommodates, dtype: int64\n",
      "\n",
      "Columna: bathrooms\n",
      "\n",
      "1.0    23105\n",
      "2.0     2929\n",
      "1.5     1475\n",
      "2.5      502\n",
      "3.0      378\n",
      "3.5      134\n",
      "4.0       97\n",
      "0.0       84\n",
      "0.5       67\n",
      "4.5       35\n",
      "5.0       25\n",
      "8.0       20\n",
      "5.5       13\n",
      "6.0        6\n",
      "6.5        3\n",
      "7.0        2\n",
      "7.5        2\n",
      "Name: bathrooms, dtype: int64\n",
      "\n",
      "Columna: bed_type\n",
      "\n",
      "Real Bed         28092\n",
      "Futon              319\n",
      "Pull-out Sofa      246\n",
      "Airbed             146\n",
      "Couch               74\n",
      "Name: bed_type, dtype: int64\n",
      "\n",
      "Columna: cancellation_policy\n",
      "\n",
      "strict             14816\n",
      "moderate            8492\n",
      "flexible            5539\n",
      "super_strict_30       25\n",
      "super_strict_60        5\n",
      "Name: cancellation_policy, dtype: int64\n",
      "\n",
      "Columna: cleaning_fee\n",
      "\n",
      "True     23693\n",
      "False     5184\n",
      "Name: cleaning_fee, dtype: int64\n",
      "\n",
      "Columna: city\n",
      "\n",
      "NYC        13379\n",
      "LA          7571\n",
      "SF          2713\n",
      "DC          1815\n",
      "Boston      1776\n",
      "Chicago     1623\n",
      "Name: city, dtype: int64\n",
      "\n",
      "Columna: description\n",
      "\n",
      "Hello, I've been running guest house for Koreans visiting U.S. for 3years, and recently decided to run this place for other travelers also. There are 10 room in the house. They are mostly dormitory rooms and couple of couple room and family room. This places are our women's dormitory in third floor. There are three rooms, but no doors. It is basically open space. There are 2 beds in two rooms and 4 in one room. I do not have closet in this room but there are hangers and mini shelves. My travelers usually put their baggage on the floor. There is one full bathroom only for women in 2nd floor, which you will be sharing with other women guests. Right next that bathroom, there is unisex half bathroom. All bathrooms have hair dryers. You cannot use kitchen, but you can use refrigerator.  I offer breakfast every morning from 7-10 am. Bread, cereal, fruits, coffee, milk and juice will be served. You can eat take-out food in the kitchen, but please wash dishes that you used and put trash in the    6\n",
      "HUGE loft in converted factory, with in building: -COFFEE SHOP -YOGA STUDIO -ROOF DECK -FOOD CO/OP -TATTOO PARLOR -VAPE SHOP -CLOTHING STORES -SHIPPING AND PRINTING STORE -Located in vibrant Bushwick Brooklyn within walking distance to some of the best street art in the US. -Just 3 blocks to subway with easy access to Manhattan, Williamsburg and JFK airport. At your disposal is a comfortable lounge and dining area with a kitchen, and 2 bathrooms, that is all cleaned daily. There is also a HUGE ROOF DECK, as well as mini mall downstairs containing a yoga studio, coffee shop, art gallery, skate shop, and clothing store.  Right across the street are 2 of the biggest vintage shops in Brooklyn. Your room has a brand new super comfortable PILLOW TOP double bed, as well as your own air conditioner and space heater to combat extreme NYC temperatures. Free WIFI :)  We pay for extra for the really fast internet so stream video at ease. We also provide professionally laundered fresh sheets and to    4\n",
      "Private room in the heart of Little Italy with FREE PARKING :) You will have your own personal door code and may arrive at ANY time you would like and as late as you wish. You can store your luggage in the closet before check-in and after check-out times :) Price adapts to demand, my rates change constantly - every night is different! Put your dates in the calendar, with the number of guests, and what you see is what you'll pay :) The neighborhood is extremely safe even at night :) Restaurants and bars are right round the corner, both upscale and casual. This room is 6 minutes away by car or uber to Chicago's famous Willis (Sears) tower. Uber costs about $7. If you are arriving by car, I am providing free resident parking passes for anywhere in the area. (Yes, that means you can drive a few blocks and still park anywhere you want!) The room will be solely yours for the time you'll stay in the Windy City. Shall you have any concerns or need any tips from the local, I'll always be happy     4\n",
      "本地方是个两层楼townhouse温馨之家,一楼我们自己住,二楼五个房间做出租房,有两个洗手间和浴室供您们使用,每个房间都配备双人床 被子枕头床头柜 台灯 书桌椅 电视机Wi-Fi 热水壶 毛巾牙刷 牙膏 拖鞋 餐巾纸 房间干净卫生。大门进出有密码锁 每个房间也都有密码锁 走廊有安装电眼探头,厨房可以煮简单的食物,可以说是麻雀虽小五脏俱全。 地方位于纽约布鲁克林八大道华人集聚地,附近各种餐馆林立,地区治安好交通发达,走路2分钟到小巴站25分钟车程到达曼哈顿唐人街,门口有大巴站坐两站到地铁站也可以走路8分钟到N地铁站或走12分钟到D或R地铁站。 如果您开车过来白天很容易找到车位,晚上8点后如果找不到车位,您可以把车停在我们旁边8大道meter车位上直到第二天早晨7点半后就有很多车位了,欢迎您的到来!                                                                                                                                                                                                                                                                                                                                                                                                                                                                                                                                                                                                                                                                           4\n",
      "Brand New 2017 Construction, Featuring 2 Bedrooms and 2 bathrooms . comfortable couch, coffee table, 50-inch TV in living room, with free Satellite Cable channel and internet Wi-Fi. Washer and Dryer in the building on each floor.This lovely Apartment is perfect for families, couples or four close friends! With over 900 square feet of living space.A short freeway ride to Westwood, Hollywood Bowl, Griffith Park, LA Zoo, and downtown venues such as Chinatown, LA Live, Staples Center and Olivera St. Enjoy the open entertainer floor plan featuring a gourmet kitchen with quartz counters w/natural mosaic stone and quartz back splash, Stainless Steel appliances, and designer cabinetry. All baths are tastefully done with tub/showers and sinks. Awesome living area, Enjoy those high ceilings! Terrific master suite with closet space. This is a \"smart home\" featuring an LED recessed lighting. Gated Garage is ready for two full sized cars all side by side.  A cozy retreat for your stay in Los Angele    4\n",
      "                                                                                                                                                                                                                                                                                                                                                                                                                                                                                                                                                                                                                                                                                                                                                                                                                                                                                                                                                                                                                                           ..\n",
      "Comfortable, clean, modern condo 1/2 block from the Lake, central to all East Lakeview, Wrigleyville and Boystown have to offer – prime location with numerous entertainment/dining options and multiple forms of public transportation. Washer/dryer too! Welcome to your perfect home-away-from-home! My condo is comfortable, clean, and easily accommodates two people; with total accommodations of up to three people for those on a budget. The space is recently renovated and features:  - Full kitchen with modern fixtures, high-end finishes and appliances including refrigerator/freezer, full size oven/cooktop, dishwasher, microwave, coffeemaker – also contains basic supplies, cookware, utensils, plates, mugs, glasses - Walk-in closet with tons of shelves and hangers/racks with full-sized front load washer and dryer; steamer and mending kit provided - Thermostat-controlled central heat and air conditioning  - Separate bedroom area with Full bed and Memory Foam mattress top, linens included - Bath    1\n",
      "Airy, sunny home with unique design, deck, garden & cabana sleeps 4. In the sunny Mission district near 24th street and famous restaurants, cafes, nightlife & murals. Parking space for one car. Or walk to nearby bus or BART (subway). Tech buses stop 1 block away. Entire home with deck and garden available in the heart of the sunny Mission district near 24th street and famous restaurants, cafes, night life and murals. See below for more info on the location and transportation.  The home is a modern loft space with 20-foot high ceilings in the living room/dining room/kitchen area, and a door that opens onto the redwood deck and sunny garden. This is a magical, one of a kind place. It's set back from the street and very quiet.   --One upstairs bedroom, with 1 queen size bed.--One full bathroom upstairs with a shower and luxurious 6' bath tub.--One downstairs bedroom, with 1 queen size bed.--One small half bathroom downstairs.--Detached writing studio/cabana in the garden.--Redwood deck an    1\n",
      "Enjoy the best of DC right by historic Lincoln Park in the heart of Capitol Hill in this lower level apartment! Park is great for evening walks or morning jogs... Sleeps up to 4 comfortably or possibly 5 in a pinch if you use sectional couch. Close to transportation, parks, Eastern Market, 8th Street, the National Mall and all that DC has to offer. Super stylish basement with lots of coziness! Parking Permits for street parking can be provided for an additional fee of $25 upon request! There is a manager on duty just a phone call away! Capitol Hill is a unique part of DC, close to all that DC has to offer but also a quiet tree lined community filled with restaurants and shops to explore.                                                                                                                                                                                                                                                                                                                    1\n",
      "I love my place in Alphabet City/ East Village and you will too! Beautiful, spacious apartment in one of Manhattan's hippest neighborhoods. The apt comes with wifi. There is a full queen size bed in one bedroom and large comfortable sofa in the other. Everything you need is in walking distance. Restaurants, bars, boutiques,  Tompkin's Square Park. A supermarket is around the corner. A laundromat is down the block. The bus stops across the street and the L train is a 5 min walk away. I'll be in New York should you need my assistance for something.                                                                                                                                                                                                                                                                                                                                                                                                                                                                    1\n",
      "Charming Private Room/Bath artist's room available in Santa Monica in a two bedroom/two bath condo. Walking distance to everything! Private, very large (about 130 square feet) furnished MASTER BEDROOM with private bathroom,  secure, covered parking space. north of Wilshire, 12 blocks from the beach, and walking distance to just about every amenity you can think of--Santa Monica beach, Whole Foods, Vons, Right Aid, 3rd Street Promenade, post office, and more! I can't say enough good things about the neighborhood. Public transit available, near Montana Street shopping and cafes. Laundry facility on the premises.  The Room is located in my 2 bedroom apartment with large kitchen, living room, and full dining area.  I also share my space with a roommate and two very friendly dogs, a 12 year old dachshund named Penny and a 10 year old Aussie Shepard named Zoe.   I am a 45 year old female screenwriter and film director. There is laundry in the building, wifi, a sunny front porch, full kitchen    1\n",
      "Name: description, Length: 28685, dtype: int64\n",
      "\n",
      "Columna: first_review\n",
      "\n",
      "2017-01-01    147\n",
      "2017-09-04    138\n",
      "2017-01-02    107\n",
      "2017-01-22    105\n",
      "2017-04-16     95\n",
      "             ... \n",
      "2010-06-26      1\n",
      "2017-10-05      1\n",
      "2012-01-14      1\n",
      "2011-05-31      1\n",
      "2011-08-06      1\n",
      "Name: first_review, Length: 2339, dtype: int64\n",
      "\n",
      "Columna: host_has_profile_pic\n",
      "\n"
     ]
    },
    {
     "name": "stdout",
     "output_type": "stream",
     "text": [
      "t    28829\n",
      "f       48\n",
      "Name: host_has_profile_pic, dtype: int64\n",
      "\n",
      "Columna: host_identity_verified\n",
      "\n",
      "t    20923\n",
      "f     7954\n",
      "Name: host_identity_verified, dtype: int64\n",
      "\n",
      "Columna: host_response_rate\n",
      "\n",
      "100%    23319\n",
      "90%      1241\n",
      "80%       540\n",
      "70%       252\n",
      "50%       219\n",
      "        ...  \n",
      "15%         1\n",
      "26%         1\n",
      "35%         1\n",
      "61%         1\n",
      "21%         1\n",
      "Name: host_response_rate, Length: 73, dtype: int64\n",
      "\n",
      "Columna: host_since\n",
      "\n",
      "2014-02-14    110\n",
      "2015-03-30     68\n",
      "2014-09-02     41\n",
      "2014-03-17     38\n",
      "2016-08-23     37\n",
      "             ... \n",
      "2009-12-29      1\n",
      "2011-03-31      1\n",
      "2009-11-16      1\n",
      "2009-09-19      1\n",
      "2010-07-23      1\n",
      "Name: host_since, Length: 2910, dtype: int64\n",
      "\n",
      "Columna: instant_bookable\n",
      "\n",
      "f    20005\n",
      "t     8872\n",
      "Name: instant_bookable, dtype: int64\n",
      "\n",
      "Columna: last_review\n",
      "\n",
      "2017-09-24    916\n",
      "2017-09-17    862\n",
      "2017-04-30    689\n",
      "2017-09-18    590\n",
      "2017-09-25    585\n",
      "             ... \n",
      "2014-11-14      1\n",
      "2014-10-01      1\n",
      "2014-04-20      1\n",
      "2012-06-25      1\n",
      "2016-04-15      1\n",
      "Name: last_review, Length: 916, dtype: int64\n",
      "\n",
      "Columna: latitude\n",
      "\n",
      "34.115717    1\n",
      "40.788663    1\n",
      "40.717470    1\n",
      "40.702684    1\n",
      "40.762606    1\n",
      "            ..\n",
      "40.670258    1\n",
      "40.727221    1\n",
      "40.615882    1\n",
      "38.934029    1\n",
      "40.636796    1\n",
      "Name: latitude, Length: 28877, dtype: int64\n",
      "\n",
      "Columna: longitude\n",
      "\n",
      "-77.023411     1\n",
      "-73.938533     1\n",
      "-122.492099    1\n",
      "-118.346209    1\n",
      "-73.942305     1\n",
      "              ..\n",
      "-71.156259     1\n",
      "-118.474656    1\n",
      "-73.942951     1\n",
      "-73.991177     1\n",
      "-74.087238     1\n",
      "Name: longitude, Length: 28877, dtype: int64\n",
      "\n",
      "Columna: name\n",
      "\n",
      "Brooklyn Oasis                                       4\n",
      "Bunk bed in the Treat Street Clubhouse               3\n",
      "Make的小屋（地理位置好，交通方便，洛杉矶市中心，提供机场名牌店景点等接送，包车游玩等服务）      3\n",
      "East Village Gem                                     3\n",
      "Spacious Private Room in Brooklyn                    3\n",
      "                                                    ..\n",
      "Amazing Getaway - Luxury, European Designed Condo    1\n",
      "Zen and Bright Private Studio                        1\n",
      "Brand New Building/Apt - Great Area                  1\n",
      "Charming Getaway in Echo Park Hills                  1\n",
      "Room TO SHARE by DAY,week,month (for men,hombres)    1\n",
      "Name: name, Length: 28765, dtype: int64\n",
      "\n",
      "Columna: neighbourhood\n",
      "\n",
      "Williamsburg          1139\n",
      "Bedford-Stuyvesant    1017\n",
      "Mid-Wilshire           660\n",
      "Bushwick               649\n",
      "Hell's Kitchen         604\n",
      "                      ... \n",
      "Skyland                  1\n",
      "South El Monte           1\n",
      "Co-op City               1\n",
      "Morrisania               1\n",
      "Annadale                 1\n",
      "Name: neighbourhood, Length: 569, dtype: int64\n",
      "\n",
      "Columna: number_of_reviews\n",
      "\n",
      "1      2079\n",
      "2      1740\n",
      "3      1550\n",
      "4      1257\n",
      "5      1177\n",
      "       ... \n",
      "326       1\n",
      "374       1\n",
      "383       1\n",
      "295       1\n",
      "279       1\n",
      "Name: number_of_reviews, Length: 347, dtype: int64\n",
      "\n",
      "Columna: review_scores_rating\n",
      "\n",
      "100.0    7007\n",
      "98.0     2512\n",
      "97.0     2314\n",
      "96.0     2286\n",
      "95.0     2036\n",
      "93.0     1872\n",
      "99.0     1587\n",
      "94.0     1508\n",
      "90.0     1269\n",
      "92.0     1143\n",
      "91.0      903\n",
      "80.0      753\n",
      "89.0      659\n",
      "88.0      574\n",
      "87.0      513\n",
      "85.0      340\n",
      "86.0      274\n",
      "84.0      246\n",
      "83.0      208\n",
      "60.0      137\n",
      "82.0      106\n",
      "81.0       83\n",
      "70.0       73\n",
      "73.0       63\n",
      "79.0       53\n",
      "78.0       52\n",
      "75.0       50\n",
      "77.0       38\n",
      "76.0       36\n",
      "20.0       27\n",
      "67.0       27\n",
      "74.0       21\n",
      "40.0       21\n",
      "65.0       16\n",
      "72.0       16\n",
      "50.0       10\n",
      "68.0       10\n",
      "47.0        5\n",
      "64.0        5\n",
      "71.0        5\n",
      "69.0        4\n",
      "63.0        3\n",
      "53.0        3\n",
      "57.0        1\n",
      "54.0        1\n",
      "62.0        1\n",
      "27.0        1\n",
      "35.0        1\n",
      "56.0        1\n",
      "55.0        1\n",
      "49.0        1\n",
      "66.0        1\n",
      "Name: review_scores_rating, dtype: int64\n",
      "\n",
      "Columna: thumbnail_url\n",
      "\n",
      "https://a0.muscache.com/im/pictures/23033013/54d62516_original.jpg?aki_policy=small              2\n",
      "https://a0.muscache.com/im/pictures/61042471/5543b0e0_original.jpg?aki_policy=small              2\n",
      "https://a0.muscache.com/im/pictures/104667326/a7a2b145_original.jpg?aki_policy=small             2\n",
      "https://a0.muscache.com/im/pictures/70087089/bc66229a_original.jpg?aki_policy=small              2\n",
      "https://a0.muscache.com/im/pictures/3f21b631-3bdf-41e5-8212-c0f1cdc02aa3.jpg?aki_policy=small    1\n",
      "                                                                                                ..\n",
      "https://a0.muscache.com/im/pictures/49907940-6da3-4352-b0f4-9c0ca995adb4.jpg?aki_policy=small    1\n",
      "https://a0.muscache.com/im/pictures/58b3d167-7a4e-474b-bdaf-49eca074ad05.jpg?aki_policy=small    1\n",
      "https://a0.muscache.com/im/pictures/42b5eab4-6929-4879-982d-a0b7fbbf69db.jpg?aki_policy=small    1\n",
      "https://a0.muscache.com/im/pictures/f9ec8b7f-8e29-438d-9f6f-987cb7d566da.jpg?aki_policy=small    1\n",
      "https://a0.muscache.com/im/pictures/c339eb07-091d-4d08-a590-6a22990cd14d.jpg?aki_policy=small    1\n",
      "Name: thumbnail_url, Length: 28873, dtype: int64\n",
      "\n",
      "Columna: zipcode\n",
      "\n",
      "11221                                                   536\n",
      "11211.0                                                 523\n",
      "90291                                                   465\n",
      "94110                                                   440\n",
      "20002                                                   356\n",
      "                                                       ... \n",
      "10309                                                     1\n",
      "20001-4044                                                1\n",
      "91744                                                     1\n",
      "95202\\r\\r\\r\\r\\r\\r\\n\\r\\r\\r\\r\\r\\r\\n\\r\\r\\r\\r\\r\\r\\n94158      1\n",
      "94104.0                                                   1\n",
      "Name: zipcode, Length: 629, dtype: int64\n",
      "\n",
      "Columna: bedrooms\n",
      "\n",
      "1.0     19309\n",
      "2.0      4534\n",
      "0.0      2758\n",
      "3.0      1618\n",
      "4.0       478\n",
      "5.0       119\n",
      "6.0        36\n",
      "7.0        15\n",
      "8.0         5\n",
      "10.0        3\n",
      "9.0         2\n",
      "Name: bedrooms, dtype: int64\n",
      "\n",
      "Columna: beds\n",
      "\n",
      "1.0     16991\n",
      "2.0      6786\n",
      "3.0      2724\n",
      "4.0      1288\n",
      "5.0       536\n",
      "6.0       263\n",
      "8.0        87\n",
      "7.0        81\n",
      "10.0       38\n",
      "9.0        36\n",
      "16.0       13\n",
      "12.0       12\n",
      "11.0       10\n",
      "13.0        7\n",
      "15.0        2\n",
      "18.0        1\n",
      "14.0        1\n",
      "0.0         1\n",
      "Name: beds, dtype: int64\n",
      "\n",
      "Columna: price\n",
      "\n",
      "150.0     961\n",
      "100.0     891\n",
      "75.0      782\n",
      "99.0      717\n",
      "65.0      695\n",
      "         ... \n",
      "262.0       1\n",
      "482.0       1\n",
      "266.0       1\n",
      "509.0       1\n",
      "1040.0      1\n",
      "Name: price, Length: 564, dtype: int64\n"
     ]
    }
   ],
   "source": [
    "limpio(df)"
   ]
  },
  {
   "cell_type": "code",
   "execution_count": null,
   "metadata": {
    "scrolled": true
   },
   "outputs": [],
   "source": [
    "#Vamos a hacer una primera aproximación con lineal\n",
    "aplin = df[['accommodates', 'bathrooms', 'review_scores_rating', 'number_of_reviews', 'bedrooms', 'beds', 'latitude', 'longitude']]"
   ]
  },
  {
   "cell_type": "code",
   "execution_count": null,
   "metadata": {},
   "outputs": [],
   "source": [
    "X_train, X_test, y_train, y_test=train_test_split(aplin,df['price'], test_size=0.25)"
   ]
  },
  {
   "cell_type": "code",
   "execution_count": null,
   "metadata": {},
   "outputs": [],
   "source": [
    "ridge=Ridge()\n",
    "ridge.fit(X_train, y_train )"
   ]
  },
  {
   "cell_type": "code",
   "execution_count": null,
   "metadata": {},
   "outputs": [],
   "source": [
    "y_pred = ridge.predict(X_train)"
   ]
  },
  {
   "cell_type": "code",
   "execution_count": null,
   "metadata": {},
   "outputs": [],
   "source": [
    "mse(y_train, y_pred)**(0.5)"
   ]
  },
  {
   "cell_type": "code",
   "execution_count": null,
   "metadata": {},
   "outputs": [],
   "source": [
    "y_pred = ridge.predict(X_test)\n",
    "mse(y_test, y_pred)**(0.5)"
   ]
  },
  {
   "cell_type": "code",
   "execution_count": null,
   "metadata": {},
   "outputs": [],
   "source": [
    "#Ya chequeamos el error, ahora a entrenar con todos los datos"
   ]
  },
  {
   "cell_type": "code",
   "execution_count": null,
   "metadata": {},
   "outputs": [],
   "source": [
    "ridge.fit(aplin, df['price'])"
   ]
  },
  {
   "cell_type": "code",
   "execution_count": null,
   "metadata": {},
   "outputs": [],
   "source": [
    "y_pred = ridge.predict(aplin)\n",
    "mse(df['price'], y_pred)**(0.5)"
   ]
  },
  {
   "cell_type": "code",
   "execution_count": null,
   "metadata": {},
   "outputs": [],
   "source": [
    "#Con todos los datos entrenados,  hacemos las predicciones para el submit"
   ]
  },
  {
   "cell_type": "code",
   "execution_count": null,
   "metadata": {},
   "outputs": [],
   "source": []
  },
  {
   "cell_type": "code",
   "execution_count": null,
   "metadata": {},
   "outputs": [],
   "source": [
    "y_pred = ridge.predict(df_sub[['accommodates', 'bathrooms', 'review_scores_rating', 'number_of_reviews', 'bedrooms', 'beds','latitude', 'longitude']])"
   ]
  },
  {
   "cell_type": "code",
   "execution_count": null,
   "metadata": {},
   "outputs": [],
   "source": [
    "#ahora generamos el archivo para enviar"
   ]
  },
  {
   "cell_type": "code",
   "execution_count": null,
   "metadata": {},
   "outputs": [],
   "source": [
    "predacsv(y_pred, 'linealcoord')"
   ]
  },
  {
   "cell_type": "code",
   "execution_count": null,
   "metadata": {},
   "outputs": [],
   "source": [
    "#Ahora vamos a hacer lo mismo, pero con una función \n",
    "def gen_pred(df):\n",
    "    X = df[['accommodates', 'bathrooms', 'review_scores_rating', 'number_of_reviews', 'bedrooms', 'beds']]\n",
    "    y = df['price']\n",
    "    \n",
    "    \n",
    "    \n",
    "    return"
   ]
  },
  {
   "cell_type": "code",
   "execution_count": null,
   "metadata": {},
   "outputs": [],
   "source": [
    "model = make_pipeline(PolynomialFeatures(degree=2), LinearRegression())\n",
    "model.fit(aplin, df['price'])"
   ]
  },
  {
   "cell_type": "code",
   "execution_count": null,
   "metadata": {},
   "outputs": [],
   "source": [
    "y_pred = model.predict(aplin)"
   ]
  },
  {
   "cell_type": "code",
   "execution_count": null,
   "metadata": {},
   "outputs": [],
   "source": [
    "mse(df['price'], y_pred)**(0.5)"
   ]
  },
  {
   "cell_type": "code",
   "execution_count": null,
   "metadata": {},
   "outputs": [],
   "source": [
    "y_pred_sub = model.predict(X_sub)"
   ]
  },
  {
   "cell_type": "code",
   "execution_count": null,
   "metadata": {},
   "outputs": [],
   "source": []
  },
  {
   "cell_type": "code",
   "execution_count": null,
   "metadata": {},
   "outputs": [],
   "source": []
  },
  {
   "cell_type": "code",
   "execution_count": null,
   "metadata": {},
   "outputs": [],
   "source": []
  },
  {
   "cell_type": "code",
   "execution_count": null,
   "metadata": {},
   "outputs": [],
   "source": []
  },
  {
   "cell_type": "code",
   "execution_count": null,
   "metadata": {},
   "outputs": [],
   "source": []
  },
  {
   "cell_type": "code",
   "execution_count": null,
   "metadata": {},
   "outputs": [],
   "source": []
  },
  {
   "cell_type": "code",
   "execution_count": null,
   "metadata": {},
   "outputs": [],
   "source": [
    "pru = norma(df.price)"
   ]
  },
  {
   "cell_type": "code",
   "execution_count": null,
   "metadata": {},
   "outputs": [],
   "source": [
    "predacsv(y_pred_sub, 'polidoscoord')"
   ]
  },
  {
   "cell_type": "code",
   "execution_count": null,
   "metadata": {},
   "outputs": [],
   "source": []
  },
  {
   "cell_type": "code",
   "execution_count": null,
   "metadata": {},
   "outputs": [],
   "source": []
  },
  {
   "cell_type": "code",
   "execution_count": null,
   "metadata": {},
   "outputs": [],
   "source": []
  },
  {
   "cell_type": "code",
   "execution_count": null,
   "metadata": {},
   "outputs": [],
   "source": [
    "for e in df.select_dtypes('integer').columns:\n",
    "            df[e]=pd.to_numeric(df[e], downcast='integer')"
   ]
  },
  {
   "cell_type": "code",
   "execution_count": null,
   "metadata": {},
   "outputs": [],
   "source": [
    "df.dtypes"
   ]
  },
  {
   "cell_type": "code",
   "execution_count": null,
   "metadata": {},
   "outputs": [],
   "source": []
  },
  {
   "cell_type": "code",
   "execution_count": null,
   "metadata": {},
   "outputs": [],
   "source": [
    "#espliteamos los datos\n",
    "X_train, X_test, y_train, y_test=train_test_split(aplin[['accommodates', 'bathrooms', 'review_scores_rating', 'number_of_reviews', 'bedrooms', 'beds', 'price']],df['price'], test_size=0.25)"
   ]
  },
  {
   "cell_type": "code",
   "execution_count": null,
   "metadata": {},
   "outputs": [],
   "source": [
    "ridge=Ridge()\n",
    "ridge.fit(X_train, y_train )"
   ]
  },
  {
   "cell_type": "code",
   "execution_count": null,
   "metadata": {},
   "outputs": [],
   "source": [
    "y_pred = ridge.predict(X_train)"
   ]
  },
  {
   "cell_type": "code",
   "execution_count": null,
   "metadata": {},
   "outputs": [],
   "source": [
    "#se chequea el valor de nuestro error\n",
    "mse(y_test, y_pred)**(0.5)"
   ]
  },
  {
   "cell_type": "code",
   "execution_count": null,
   "metadata": {},
   "outputs": [],
   "source": [
    "#pos fue muy "
   ]
  },
  {
   "cell_type": "code",
   "execution_count": null,
   "metadata": {},
   "outputs": [],
   "source": []
  },
  {
   "cell_type": "code",
   "execution_count": null,
   "metadata": {},
   "outputs": [],
   "source": [
    "#Chequeamos el valor de nuestro error\n",
    "mse(y_test, y_pred)**(0.5)"
   ]
  },
  {
   "cell_type": "code",
   "execution_count": null,
   "metadata": {},
   "outputs": [],
   "source": [
    "df_sub = pd.read_csv('airbnb_submission.csv.zip', compression='zip')\n"
   ]
  },
  {
   "cell_type": "code",
   "execution_count": null,
   "metadata": {},
   "outputs": [],
   "source": [
    "X_sub= df_sub[['accommodates', 'bathrooms', 'review_scores_rating', 'number_of_reviews', 'bedrooms', 'beds','latitude', 'longitude']]"
   ]
  },
  {
   "cell_type": "code",
   "execution_count": null,
   "metadata": {},
   "outputs": [],
   "source": []
  },
  {
   "cell_type": "code",
   "execution_count": null,
   "metadata": {},
   "outputs": [],
   "source": [
    "sub_file['price'] = pd.DataFrame(ridge.predict(X_sub))"
   ]
  },
  {
   "cell_type": "code",
   "execution_count": null,
   "metadata": {},
   "outputs": [],
   "source": []
  }
 ],
 "metadata": {
  "kernelspec": {
   "display_name": "Python 3",
   "language": "python",
   "name": "python3"
  },
  "language_info": {
   "codemirror_mode": {
    "name": "ipython",
    "version": 3
   },
   "file_extension": ".py",
   "mimetype": "text/x-python",
   "name": "python",
   "nbconvert_exporter": "python",
   "pygments_lexer": "ipython3",
   "version": "3.7.3"
  }
 },
 "nbformat": 4,
 "nbformat_minor": 2
}

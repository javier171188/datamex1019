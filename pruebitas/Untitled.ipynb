{
 "cells": [
  {
   "cell_type": "code",
   "execution_count": null,
   "metadata": {},
   "outputs": [],
   "source": [
    "def count_sheep(n):\n",
    "    # your code\n",
    "     st = []\n",
    "    for i in range(n):\n",
    "       st=st +str(i+1)+' '+'sheep...'\n",
    "       \n",
    "    return st"
   ]
  },
  {
   "cell_type": "code",
   "execution_count": 1,
   "metadata": {},
   "outputs": [
    {
     "name": "stdout",
     "output_type": "stream",
     "text": [
      "Collecting numba\n",
      "  Downloading https://files.pythonhosted.org/packages/a8/9b/d4688f9d26c51f6bb9778644cae8aea842309b338c8f6d32b41668024a35/numba-0.46.0-cp37-cp37m-win_amd64.whl (2.0MB)\n",
      "Collecting llvmlite>=0.30.0dev0 (from numba)\n",
      "  Downloading https://files.pythonhosted.org/packages/79/32/59b4f7037cb24aed86d962a805bb02319515608aa91473118c7ff3a02996/llvmlite-0.30.0-cp37-cp37m-win_amd64.whl (13.6MB)\n",
      "Collecting numpy (from numba)\n",
      "  Downloading https://files.pythonhosted.org/packages/e9/dd/a177f27765b1e5f94fa879cbeef61f8807086371d0b6aa232b836d38b78b/numpy-1.17.3-cp37-cp37m-win_amd64.whl (12.7MB)\n",
      "Installing collected packages: llvmlite, numpy, numba\n"
     ]
    },
    {
     "name": "stderr",
     "output_type": "stream",
     "text": [
      "Could not install packages due to an EnvironmentError: [WinError 5] Acceso denegado: 'c:\\\\program files\\\\python37\\\\Lib\\\\site-packages\\\\llvmlite'\n",
      "Consider using the `--user` option or check the permissions.\n",
      "\n",
      "You are using pip version 10.0.1, however version 19.3.1 is available.\n",
      "You should consider upgrading via the 'python -m pip install --upgrade pip' command.\n"
     ]
    }
   ],
   "source": [
    "!pip3 install numba"
   ]
  },
  {
   "cell_type": "code",
   "execution_count": null,
   "metadata": {},
   "outputs": [],
   "source": []
  }
 ],
 "metadata": {
  "kernelspec": {
   "display_name": "Python 3",
   "language": "python",
   "name": "python3"
  },
  "language_info": {
   "codemirror_mode": {
    "name": "ipython",
    "version": 3
   },
   "file_extension": ".py",
   "mimetype": "text/x-python",
   "name": "python",
   "nbconvert_exporter": "python",
   "pygments_lexer": "ipython3",
   "version": "3.7.1"
  }
 },
 "nbformat": 4,
 "nbformat_minor": 2
}

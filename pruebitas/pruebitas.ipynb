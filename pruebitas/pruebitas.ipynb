{
 "cells": [
  {
   "cell_type": "code",
   "execution_count": 1,
   "metadata": {},
   "outputs": [
    {
     "name": "stdout",
     "output_type": "stream",
     "text": [
      "hola :D\n"
     ]
    }
   ],
   "source": [
    "print('hola :D')"
   ]
  },
  {
   "cell_type": "code",
   "execution_count": 3,
   "metadata": {},
   "outputs": [],
   "source": [
    "#Básico\n"
   ]
  },
  {
   "cell_type": "code",
   "execution_count": 6,
   "metadata": {},
   "outputs": [
    {
     "ename": "IndentationError",
     "evalue": "unindent does not match any outer indentation level (<tokenize>, line 9)",
     "output_type": "error",
     "traceback": [
      "\u001b[1;36m  File \u001b[1;32m\"<tokenize>\"\u001b[1;36m, line \u001b[1;32m9\u001b[0m\n\u001b[1;33m    if dic['a']==0 and dic['l'] == 0: return [media, dic, 'They did well']\u001b[0m\n\u001b[1;37m    ^\u001b[0m\n\u001b[1;31mIndentationError\u001b[0m\u001b[1;31m:\u001b[0m unindent does not match any outer indentation level\n"
     ]
    }
   ],
   "source": [
    "def test(r):\n",
    "    media = round(sum(r)/len(r),3)\n",
    "    \n",
    "    dic = {'h':0, 'a':0, 'l':0}\n",
    "    for e in r:\n",
    "        if e>=9: dic['h']+=1\n",
    "        elif e<9 and e>=7: dic['a']+=1\n",
    "        else: dic['l']+=1\n",
    "    if dic['a']==0 and dic['l'] == 0: return [media, dic, 'They did well']\n",
    "      else: return [media, dic]"
   ]
  },
  {
   "cell_type": "code",
   "execution_count": 46,
   "metadata": {},
   "outputs": [
    {
     "name": "stdout",
     "output_type": "stream",
     "text": [
      "{'a': 13, 'b': 20, 'c': 36, 'l': 2, 'r': 3, 'd': 3}\n"
     ]
    }
   ],
   "source": [
    "def combine(o1,o2):\n",
    "        #your code here\n",
    "        k1 = list(o1.keys())\n",
    "        k2 = list(o2.keys())\n",
    "        u = []\n",
    "        for i in k1:\n",
    "            if i in k2:\n",
    "                u.append(i)\n",
    "              \n",
    "        for j in list(o1.keys()):\n",
    "            if j in u:\n",
    "                o1[j] = o1[j]+o2[j]\n",
    "        for k in list(o2.keys()):\n",
    "            if k not in u:\n",
    "                o1.update({k: o2[k]})            \n",
    "                print (o1)\n",
    "objA = { 'a': 10, 'b': 20, 'c': 30, 'l':2, 'r':3 }\n",
    "objB = { 'a': 3, 'c': 6, 'd': 3 }\n",
    "combine(objA, objB)"
   ]
  },
  {
   "cell_type": "code",
   "execution_count": null,
   "metadata": {},
   "outputs": [],
   "source": [
    "def combine(o1,o2):\n",
    "    \n",
    "    \n",
    "objA = { 'a': 10, 'b': 20, 'c': 30, 'l':2, 'r':3 }\n",
    "objB = { 'a': 3, 'c': 6, 'd': 3 }\n",
    "combine(objA, objB)"
   ]
  },
  {
   "cell_type": "code",
   "execution_count": 47,
   "metadata": {},
   "outputs": [
    {
     "data": {
      "text/plain": [
       "int"
      ]
     },
     "execution_count": 47,
     "metadata": {},
     "output_type": "execute_result"
    }
   ],
   "source": [
    "type(5)"
   ]
  },
  {
   "cell_type": "code",
   "execution_count": 1,
   "metadata": {},
   "outputs": [],
   "source": [
    "import re"
   ]
  },
  {
   "cell_type": "code",
   "execution_count": null,
   "metadata": {},
   "outputs": [],
   "source": [
    "print('')\n",
    "text.upper()"
   ]
  },
  {
   "cell_type": "code",
   "execution_count": 18,
   "metadata": {},
   "outputs": [
    {
     "name": "stdout",
     "output_type": "stream",
     "text": [
      "a\n",
      "c\n",
      "{}\n"
     ]
    }
   ],
   "source": [
    "def combine(a,b):\n",
    "    dic = {}\n",
    "    for e in a:\n",
    "        if e in b:\n",
    "            dic.update({})\n",
    "    print(dic)    \n",
    "    \n",
    "combine(objA,objB)    \n",
    "objA = { 'a': 10, 'b': 20, 'c': 30 }\n",
    "objB = { 'a': 3, 'c': 6, 'd': 3 }\n",
    "    "
   ]
  },
  {
   "cell_type": "code",
   "execution_count": 21,
   "metadata": {},
   "outputs": [],
   "source": [
    "def is_sator_square(tablet):\n",
    "\n",
    "    #  <----  hajime!\n",
    "    n = len(tablet)\n",
    "    w = []\n",
    "    wr =[]\n",
    "    wu = []\n",
    "    wup=[]\n",
    "    wd = []\n",
    "    \n",
    "    for e in tablet:\n",
    "        temp = ''\n",
    "        for i in e:\n",
    "            temp = temp + i\n",
    "        w.append(temp)\n",
    "    for e in w:  \n",
    "        wr.append(e[::-1])\n",
    "    \n",
    "    for e in tablet:\n",
    "        wu.append(e)\n",
    "    \n",
    "    for e in tablet:\n",
    "        temp = ''\n",
    "        for i in e:\n",
    "            temp = temp + i\n",
    "        wup.append(temp)\n",
    "    \n",
    "    for e in wup:  \n",
    "        wd.append(e[::-1])\n",
    "    print(w)"
   ]
  },
  {
   "cell_type": "code",
   "execution_count": 22,
   "metadata": {},
   "outputs": [],
   "source": [
    "tablet = [['S', 'T', 'A', 'B'],\n",
    "          ['T', 'U', 'B', 'A'],\n",
    "          ['A', 'B', 'U', 'T'],\n",
    "          ['B', 'A', 'T', 'S']]\n",
    "is_sator_square(tablet)"
   ]
  },
  {
   "cell_type": "code",
   "execution_count": null,
   "metadata": {},
   "outputs": [],
   "source": []
  }
 ],
 "metadata": {
  "kernelspec": {
   "display_name": "Python 3",
   "language": "python",
   "name": "python3"
  },
  "language_info": {
   "codemirror_mode": {
    "name": "ipython",
    "version": 3
   },
   "file_extension": ".py",
   "mimetype": "text/x-python",
   "name": "python",
   "nbconvert_exporter": "python",
   "pygments_lexer": "ipython3",
   "version": "3.7.1"
  }
 },
 "nbformat": 4,
 "nbformat_minor": 2
}

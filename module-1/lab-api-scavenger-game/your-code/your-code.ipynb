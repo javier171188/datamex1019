{
 "cells": [
  {
   "cell_type": "code",
   "execution_count": null,
   "metadata": {},
   "outputs": [],
   "source": [
    "import pandas as pd\n",
    "import json\n",
    "import requests"
   ]
  },
  {
   "cell_type": "code",
   "execution_count": null,
   "metadata": {},
   "outputs": [],
   "source": [
    "URL='https://api.github.com/repositories'\n",
    "resp=requests.get(URL)\n",
    "resp"
   ]
  },
  {
   "cell_type": "code",
   "execution_count": 10,
   "metadata": {},
   "outputs": [],
   "source": [
    "f = open(\"ejemplo.txt\", \"r\")\n",
    "#print(f.read())"
   ]
  },
  {
   "cell_type": "code",
   "execution_count": null,
   "metadata": {},
   "outputs": [],
   "source": [
    "!pip3 install PyGithub --user"
   ]
  },
  {
   "cell_type": "code",
   "execution_count": null,
   "metadata": {},
   "outputs": [],
   "source": [
    "from github import Github"
   ]
  },
  {
   "cell_type": "code",
   "execution_count": 76,
   "metadata": {},
   "outputs": [
    {
     "name": "stdout",
     "output_type": "stream",
     "text": [
      "\n"
     ]
    }
   ],
   "source": [
    "t = f.read()\n",
    "#g = Github(t)\n",
    "print(t)"
   ]
  },
  {
   "cell_type": "code",
   "execution_count": null,
   "metadata": {},
   "outputs": [],
   "source": [
    "g = Github(base_url=\"https://{javier171188}/api/v3\", login_or_token=t)\n",
    "g = Github(base_url=\"https://{hostname}/api/v3\", login_or_token=t)"
   ]
  },
  {
   "cell_type": "code",
   "execution_count": null,
   "metadata": {},
   "outputs": [],
   "source": [
    "for repo in g.get_user().get_repos():\n",
    "    print(repo.name)"
   ]
  },
  {
   "cell_type": "code",
   "execution_count": null,
   "metadata": {},
   "outputs": [],
   "source": [
    "##Challenge 1"
   ]
  },
  {
   "cell_type": "code",
   "execution_count": 1,
   "metadata": {},
   "outputs": [],
   "source": [
    "import pandas as pd\n",
    "import json\n",
    "import requests"
   ]
  },
  {
   "cell_type": "code",
   "execution_count": 32,
   "metadata": {},
   "outputs": [
    {
     "data": {
      "text/plain": [
       "<Response [200]>"
      ]
     },
     "execution_count": 32,
     "metadata": {},
     "output_type": "execute_result"
    }
   ],
   "source": [
    "URL=\"https://api.github.com/repos/ironhack-datalabs/datamex1019/forks\"\n",
    "#\"https://api.github.com/repos/{owner}/{repo}\"\n",
    "resp=requests.get(URL, auth = ('javier171188', t))\n",
    "resp"
   ]
  },
  {
   "cell_type": "code",
   "execution_count": 33,
   "metadata": {},
   "outputs": [
    {
     "data": {
      "text/html": [
       "<div>\n",
       "<style scoped>\n",
       "    .dataframe tbody tr th:only-of-type {\n",
       "        vertical-align: middle;\n",
       "    }\n",
       "\n",
       "    .dataframe tbody tr th {\n",
       "        vertical-align: top;\n",
       "    }\n",
       "\n",
       "    .dataframe thead th {\n",
       "        text-align: right;\n",
       "    }\n",
       "</style>\n",
       "<table border=\"1\" class=\"dataframe\">\n",
       "  <thead>\n",
       "    <tr style=\"text-align: right;\">\n",
       "      <th></th>\n",
       "      <th>id</th>\n",
       "      <th>node_id</th>\n",
       "      <th>name</th>\n",
       "      <th>full_name</th>\n",
       "      <th>private</th>\n",
       "      <th>owner</th>\n",
       "      <th>html_url</th>\n",
       "      <th>description</th>\n",
       "      <th>fork</th>\n",
       "      <th>url</th>\n",
       "      <th>...</th>\n",
       "      <th>mirror_url</th>\n",
       "      <th>archived</th>\n",
       "      <th>disabled</th>\n",
       "      <th>open_issues_count</th>\n",
       "      <th>license</th>\n",
       "      <th>forks</th>\n",
       "      <th>open_issues</th>\n",
       "      <th>watchers</th>\n",
       "      <th>default_branch</th>\n",
       "      <th>permissions</th>\n",
       "    </tr>\n",
       "  </thead>\n",
       "  <tbody>\n",
       "    <tr>\n",
       "      <th>0</th>\n",
       "      <td>218619240</td>\n",
       "      <td>MDEwOlJlcG9zaXRvcnkyMTg2MTkyNDA=</td>\n",
       "      <td>datamex1019</td>\n",
       "      <td>diegorv1994/datamex1019</td>\n",
       "      <td>False</td>\n",
       "      <td>{'login': 'diegorv1994', 'id': 56409940, 'node...</td>\n",
       "      <td>https://github.com/diegorv1994/datamex1019</td>\n",
       "      <td>None</td>\n",
       "      <td>True</td>\n",
       "      <td>https://api.github.com/repos/diegorv1994/datam...</td>\n",
       "      <td>...</td>\n",
       "      <td>None</td>\n",
       "      <td>False</td>\n",
       "      <td>False</td>\n",
       "      <td>0</td>\n",
       "      <td>{'key': 'agpl-3.0', 'name': 'GNU Affero Genera...</td>\n",
       "      <td>0</td>\n",
       "      <td>0</td>\n",
       "      <td>0</td>\n",
       "      <td>master</td>\n",
       "      <td>{'admin': False, 'push': False, 'pull': True}</td>\n",
       "    </tr>\n",
       "    <tr>\n",
       "      <th>1</th>\n",
       "      <td>217363066</td>\n",
       "      <td>MDEwOlJlcG9zaXRvcnkyMTczNjMwNjY=</td>\n",
       "      <td>datamex1019</td>\n",
       "      <td>Sviliesid13/datamex1019</td>\n",
       "      <td>False</td>\n",
       "      <td>{'login': 'Sviliesid13', 'id': 55924230, 'node...</td>\n",
       "      <td>https://github.com/Sviliesid13/datamex1019</td>\n",
       "      <td>None</td>\n",
       "      <td>True</td>\n",
       "      <td>https://api.github.com/repos/Sviliesid13/datam...</td>\n",
       "      <td>...</td>\n",
       "      <td>None</td>\n",
       "      <td>False</td>\n",
       "      <td>False</td>\n",
       "      <td>0</td>\n",
       "      <td>{'key': 'agpl-3.0', 'name': 'GNU Affero Genera...</td>\n",
       "      <td>0</td>\n",
       "      <td>0</td>\n",
       "      <td>0</td>\n",
       "      <td>master</td>\n",
       "      <td>{'admin': False, 'push': False, 'pull': True}</td>\n",
       "    </tr>\n",
       "    <tr>\n",
       "      <th>2</th>\n",
       "      <td>216659447</td>\n",
       "      <td>MDEwOlJlcG9zaXRvcnkyMTY2NTk0NDc=</td>\n",
       "      <td>datamex1019</td>\n",
       "      <td>diegodg78/datamex1019</td>\n",
       "      <td>False</td>\n",
       "      <td>{'login': 'diegodg78', 'id': 51806639, 'node_i...</td>\n",
       "      <td>https://github.com/diegodg78/datamex1019</td>\n",
       "      <td>None</td>\n",
       "      <td>True</td>\n",
       "      <td>https://api.github.com/repos/diegodg78/datamex...</td>\n",
       "      <td>...</td>\n",
       "      <td>None</td>\n",
       "      <td>False</td>\n",
       "      <td>False</td>\n",
       "      <td>0</td>\n",
       "      <td>{'key': 'agpl-3.0', 'name': 'GNU Affero Genera...</td>\n",
       "      <td>0</td>\n",
       "      <td>0</td>\n",
       "      <td>0</td>\n",
       "      <td>master</td>\n",
       "      <td>{'admin': False, 'push': False, 'pull': True}</td>\n",
       "    </tr>\n",
       "    <tr>\n",
       "      <th>3</th>\n",
       "      <td>216617567</td>\n",
       "      <td>MDEwOlJlcG9zaXRvcnkyMTY2MTc1Njc=</td>\n",
       "      <td>datamex1019</td>\n",
       "      <td>oscarifh/datamex1019</td>\n",
       "      <td>False</td>\n",
       "      <td>{'login': 'oscarifh', 'id': 52328664, 'node_id...</td>\n",
       "      <td>https://github.com/oscarifh/datamex1019</td>\n",
       "      <td>None</td>\n",
       "      <td>True</td>\n",
       "      <td>https://api.github.com/repos/oscarifh/datamex1019</td>\n",
       "      <td>...</td>\n",
       "      <td>None</td>\n",
       "      <td>False</td>\n",
       "      <td>False</td>\n",
       "      <td>0</td>\n",
       "      <td>{'key': 'agpl-3.0', 'name': 'GNU Affero Genera...</td>\n",
       "      <td>0</td>\n",
       "      <td>0</td>\n",
       "      <td>0</td>\n",
       "      <td>master</td>\n",
       "      <td>{'admin': False, 'push': False, 'pull': True}</td>\n",
       "    </tr>\n",
       "    <tr>\n",
       "      <th>4</th>\n",
       "      <td>216611773</td>\n",
       "      <td>MDEwOlJlcG9zaXRvcnkyMTY2MTE3NzM=</td>\n",
       "      <td>datamex1019</td>\n",
       "      <td>ArturoQR/datamex1019</td>\n",
       "      <td>False</td>\n",
       "      <td>{'login': 'ArturoQR', 'id': 56689571, 'node_id...</td>\n",
       "      <td>https://github.com/ArturoQR/datamex1019</td>\n",
       "      <td>None</td>\n",
       "      <td>True</td>\n",
       "      <td>https://api.github.com/repos/ArturoQR/datamex1019</td>\n",
       "      <td>...</td>\n",
       "      <td>None</td>\n",
       "      <td>False</td>\n",
       "      <td>False</td>\n",
       "      <td>0</td>\n",
       "      <td>{'key': 'agpl-3.0', 'name': 'GNU Affero Genera...</td>\n",
       "      <td>0</td>\n",
       "      <td>0</td>\n",
       "      <td>0</td>\n",
       "      <td>master</td>\n",
       "      <td>{'admin': False, 'push': False, 'pull': True}</td>\n",
       "    </tr>\n",
       "  </tbody>\n",
       "</table>\n",
       "<p>5 rows × 74 columns</p>\n",
       "</div>"
      ],
      "text/plain": [
       "          id                           node_id         name  \\\n",
       "0  218619240  MDEwOlJlcG9zaXRvcnkyMTg2MTkyNDA=  datamex1019   \n",
       "1  217363066  MDEwOlJlcG9zaXRvcnkyMTczNjMwNjY=  datamex1019   \n",
       "2  216659447  MDEwOlJlcG9zaXRvcnkyMTY2NTk0NDc=  datamex1019   \n",
       "3  216617567  MDEwOlJlcG9zaXRvcnkyMTY2MTc1Njc=  datamex1019   \n",
       "4  216611773  MDEwOlJlcG9zaXRvcnkyMTY2MTE3NzM=  datamex1019   \n",
       "\n",
       "                 full_name  private  \\\n",
       "0  diegorv1994/datamex1019    False   \n",
       "1  Sviliesid13/datamex1019    False   \n",
       "2    diegodg78/datamex1019    False   \n",
       "3     oscarifh/datamex1019    False   \n",
       "4     ArturoQR/datamex1019    False   \n",
       "\n",
       "                                               owner  \\\n",
       "0  {'login': 'diegorv1994', 'id': 56409940, 'node...   \n",
       "1  {'login': 'Sviliesid13', 'id': 55924230, 'node...   \n",
       "2  {'login': 'diegodg78', 'id': 51806639, 'node_i...   \n",
       "3  {'login': 'oscarifh', 'id': 52328664, 'node_id...   \n",
       "4  {'login': 'ArturoQR', 'id': 56689571, 'node_id...   \n",
       "\n",
       "                                     html_url description  fork  \\\n",
       "0  https://github.com/diegorv1994/datamex1019        None  True   \n",
       "1  https://github.com/Sviliesid13/datamex1019        None  True   \n",
       "2    https://github.com/diegodg78/datamex1019        None  True   \n",
       "3     https://github.com/oscarifh/datamex1019        None  True   \n",
       "4     https://github.com/ArturoQR/datamex1019        None  True   \n",
       "\n",
       "                                                 url  ... mirror_url archived  \\\n",
       "0  https://api.github.com/repos/diegorv1994/datam...  ...       None    False   \n",
       "1  https://api.github.com/repos/Sviliesid13/datam...  ...       None    False   \n",
       "2  https://api.github.com/repos/diegodg78/datamex...  ...       None    False   \n",
       "3  https://api.github.com/repos/oscarifh/datamex1019  ...       None    False   \n",
       "4  https://api.github.com/repos/ArturoQR/datamex1019  ...       None    False   \n",
       "\n",
       "  disabled open_issues_count  \\\n",
       "0    False                 0   \n",
       "1    False                 0   \n",
       "2    False                 0   \n",
       "3    False                 0   \n",
       "4    False                 0   \n",
       "\n",
       "                                             license forks open_issues  \\\n",
       "0  {'key': 'agpl-3.0', 'name': 'GNU Affero Genera...     0           0   \n",
       "1  {'key': 'agpl-3.0', 'name': 'GNU Affero Genera...     0           0   \n",
       "2  {'key': 'agpl-3.0', 'name': 'GNU Affero Genera...     0           0   \n",
       "3  {'key': 'agpl-3.0', 'name': 'GNU Affero Genera...     0           0   \n",
       "4  {'key': 'agpl-3.0', 'name': 'GNU Affero Genera...     0           0   \n",
       "\n",
       "  watchers default_branch                                    permissions  \n",
       "0        0         master  {'admin': False, 'push': False, 'pull': True}  \n",
       "1        0         master  {'admin': False, 'push': False, 'pull': True}  \n",
       "2        0         master  {'admin': False, 'push': False, 'pull': True}  \n",
       "3        0         master  {'admin': False, 'push': False, 'pull': True}  \n",
       "4        0         master  {'admin': False, 'push': False, 'pull': True}  \n",
       "\n",
       "[5 rows x 74 columns]"
      ]
     },
     "execution_count": 33,
     "metadata": {},
     "output_type": "execute_result"
    }
   ],
   "source": [
    "data=pd.DataFrame(resp.json())\n",
    "data.head()"
   ]
  },
  {
   "cell_type": "code",
   "execution_count": 34,
   "metadata": {},
   "outputs": [
    {
     "data": {
      "text/html": [
       "<div>\n",
       "<style scoped>\n",
       "    .dataframe tbody tr th:only-of-type {\n",
       "        vertical-align: middle;\n",
       "    }\n",
       "\n",
       "    .dataframe tbody tr th {\n",
       "        vertical-align: top;\n",
       "    }\n",
       "\n",
       "    .dataframe thead th {\n",
       "        text-align: right;\n",
       "    }\n",
       "</style>\n",
       "<table border=\"1\" class=\"dataframe\">\n",
       "  <thead>\n",
       "    <tr style=\"text-align: right;\">\n",
       "      <th></th>\n",
       "      <th>id</th>\n",
       "      <th>node_id</th>\n",
       "      <th>name</th>\n",
       "      <th>full_name</th>\n",
       "      <th>private</th>\n",
       "      <th>html_url</th>\n",
       "      <th>description</th>\n",
       "      <th>fork</th>\n",
       "      <th>url</th>\n",
       "      <th>forks_url</th>\n",
       "      <th>...</th>\n",
       "      <th>owner.type</th>\n",
       "      <th>owner.site_admin</th>\n",
       "      <th>license.key</th>\n",
       "      <th>license.name</th>\n",
       "      <th>license.spdx_id</th>\n",
       "      <th>license.url</th>\n",
       "      <th>license.node_id</th>\n",
       "      <th>permissions.admin</th>\n",
       "      <th>permissions.push</th>\n",
       "      <th>permissions.pull</th>\n",
       "    </tr>\n",
       "  </thead>\n",
       "  <tbody>\n",
       "    <tr>\n",
       "      <th>0</th>\n",
       "      <td>218619240</td>\n",
       "      <td>MDEwOlJlcG9zaXRvcnkyMTg2MTkyNDA=</td>\n",
       "      <td>datamex1019</td>\n",
       "      <td>diegorv1994/datamex1019</td>\n",
       "      <td>False</td>\n",
       "      <td>https://github.com/diegorv1994/datamex1019</td>\n",
       "      <td>None</td>\n",
       "      <td>True</td>\n",
       "      <td>https://api.github.com/repos/diegorv1994/datam...</td>\n",
       "      <td>https://api.github.com/repos/diegorv1994/datam...</td>\n",
       "      <td>...</td>\n",
       "      <td>User</td>\n",
       "      <td>False</td>\n",
       "      <td>agpl-3.0</td>\n",
       "      <td>GNU Affero General Public License v3.0</td>\n",
       "      <td>AGPL-3.0</td>\n",
       "      <td>https://api.github.com/licenses/agpl-3.0</td>\n",
       "      <td>MDc6TGljZW5zZTE=</td>\n",
       "      <td>False</td>\n",
       "      <td>False</td>\n",
       "      <td>True</td>\n",
       "    </tr>\n",
       "    <tr>\n",
       "      <th>1</th>\n",
       "      <td>217363066</td>\n",
       "      <td>MDEwOlJlcG9zaXRvcnkyMTczNjMwNjY=</td>\n",
       "      <td>datamex1019</td>\n",
       "      <td>Sviliesid13/datamex1019</td>\n",
       "      <td>False</td>\n",
       "      <td>https://github.com/Sviliesid13/datamex1019</td>\n",
       "      <td>None</td>\n",
       "      <td>True</td>\n",
       "      <td>https://api.github.com/repos/Sviliesid13/datam...</td>\n",
       "      <td>https://api.github.com/repos/Sviliesid13/datam...</td>\n",
       "      <td>...</td>\n",
       "      <td>User</td>\n",
       "      <td>False</td>\n",
       "      <td>agpl-3.0</td>\n",
       "      <td>GNU Affero General Public License v3.0</td>\n",
       "      <td>AGPL-3.0</td>\n",
       "      <td>https://api.github.com/licenses/agpl-3.0</td>\n",
       "      <td>MDc6TGljZW5zZTE=</td>\n",
       "      <td>False</td>\n",
       "      <td>False</td>\n",
       "      <td>True</td>\n",
       "    </tr>\n",
       "    <tr>\n",
       "      <th>2</th>\n",
       "      <td>216659447</td>\n",
       "      <td>MDEwOlJlcG9zaXRvcnkyMTY2NTk0NDc=</td>\n",
       "      <td>datamex1019</td>\n",
       "      <td>diegodg78/datamex1019</td>\n",
       "      <td>False</td>\n",
       "      <td>https://github.com/diegodg78/datamex1019</td>\n",
       "      <td>None</td>\n",
       "      <td>True</td>\n",
       "      <td>https://api.github.com/repos/diegodg78/datamex...</td>\n",
       "      <td>https://api.github.com/repos/diegodg78/datamex...</td>\n",
       "      <td>...</td>\n",
       "      <td>User</td>\n",
       "      <td>False</td>\n",
       "      <td>agpl-3.0</td>\n",
       "      <td>GNU Affero General Public License v3.0</td>\n",
       "      <td>AGPL-3.0</td>\n",
       "      <td>https://api.github.com/licenses/agpl-3.0</td>\n",
       "      <td>MDc6TGljZW5zZTE=</td>\n",
       "      <td>False</td>\n",
       "      <td>False</td>\n",
       "      <td>True</td>\n",
       "    </tr>\n",
       "    <tr>\n",
       "      <th>3</th>\n",
       "      <td>216617567</td>\n",
       "      <td>MDEwOlJlcG9zaXRvcnkyMTY2MTc1Njc=</td>\n",
       "      <td>datamex1019</td>\n",
       "      <td>oscarifh/datamex1019</td>\n",
       "      <td>False</td>\n",
       "      <td>https://github.com/oscarifh/datamex1019</td>\n",
       "      <td>None</td>\n",
       "      <td>True</td>\n",
       "      <td>https://api.github.com/repos/oscarifh/datamex1019</td>\n",
       "      <td>https://api.github.com/repos/oscarifh/datamex1...</td>\n",
       "      <td>...</td>\n",
       "      <td>User</td>\n",
       "      <td>False</td>\n",
       "      <td>agpl-3.0</td>\n",
       "      <td>GNU Affero General Public License v3.0</td>\n",
       "      <td>AGPL-3.0</td>\n",
       "      <td>https://api.github.com/licenses/agpl-3.0</td>\n",
       "      <td>MDc6TGljZW5zZTE=</td>\n",
       "      <td>False</td>\n",
       "      <td>False</td>\n",
       "      <td>True</td>\n",
       "    </tr>\n",
       "    <tr>\n",
       "      <th>4</th>\n",
       "      <td>216611773</td>\n",
       "      <td>MDEwOlJlcG9zaXRvcnkyMTY2MTE3NzM=</td>\n",
       "      <td>datamex1019</td>\n",
       "      <td>ArturoQR/datamex1019</td>\n",
       "      <td>False</td>\n",
       "      <td>https://github.com/ArturoQR/datamex1019</td>\n",
       "      <td>None</td>\n",
       "      <td>True</td>\n",
       "      <td>https://api.github.com/repos/ArturoQR/datamex1019</td>\n",
       "      <td>https://api.github.com/repos/ArturoQR/datamex1...</td>\n",
       "      <td>...</td>\n",
       "      <td>User</td>\n",
       "      <td>False</td>\n",
       "      <td>agpl-3.0</td>\n",
       "      <td>GNU Affero General Public License v3.0</td>\n",
       "      <td>AGPL-3.0</td>\n",
       "      <td>https://api.github.com/licenses/agpl-3.0</td>\n",
       "      <td>MDc6TGljZW5zZTE=</td>\n",
       "      <td>False</td>\n",
       "      <td>False</td>\n",
       "      <td>True</td>\n",
       "    </tr>\n",
       "  </tbody>\n",
       "</table>\n",
       "<p>5 rows × 97 columns</p>\n",
       "</div>"
      ],
      "text/plain": [
       "          id                           node_id         name  \\\n",
       "0  218619240  MDEwOlJlcG9zaXRvcnkyMTg2MTkyNDA=  datamex1019   \n",
       "1  217363066  MDEwOlJlcG9zaXRvcnkyMTczNjMwNjY=  datamex1019   \n",
       "2  216659447  MDEwOlJlcG9zaXRvcnkyMTY2NTk0NDc=  datamex1019   \n",
       "3  216617567  MDEwOlJlcG9zaXRvcnkyMTY2MTc1Njc=  datamex1019   \n",
       "4  216611773  MDEwOlJlcG9zaXRvcnkyMTY2MTE3NzM=  datamex1019   \n",
       "\n",
       "                 full_name  private  \\\n",
       "0  diegorv1994/datamex1019    False   \n",
       "1  Sviliesid13/datamex1019    False   \n",
       "2    diegodg78/datamex1019    False   \n",
       "3     oscarifh/datamex1019    False   \n",
       "4     ArturoQR/datamex1019    False   \n",
       "\n",
       "                                     html_url description  fork  \\\n",
       "0  https://github.com/diegorv1994/datamex1019        None  True   \n",
       "1  https://github.com/Sviliesid13/datamex1019        None  True   \n",
       "2    https://github.com/diegodg78/datamex1019        None  True   \n",
       "3     https://github.com/oscarifh/datamex1019        None  True   \n",
       "4     https://github.com/ArturoQR/datamex1019        None  True   \n",
       "\n",
       "                                                 url  \\\n",
       "0  https://api.github.com/repos/diegorv1994/datam...   \n",
       "1  https://api.github.com/repos/Sviliesid13/datam...   \n",
       "2  https://api.github.com/repos/diegodg78/datamex...   \n",
       "3  https://api.github.com/repos/oscarifh/datamex1019   \n",
       "4  https://api.github.com/repos/ArturoQR/datamex1019   \n",
       "\n",
       "                                           forks_url  ... owner.type  \\\n",
       "0  https://api.github.com/repos/diegorv1994/datam...  ...       User   \n",
       "1  https://api.github.com/repos/Sviliesid13/datam...  ...       User   \n",
       "2  https://api.github.com/repos/diegodg78/datamex...  ...       User   \n",
       "3  https://api.github.com/repos/oscarifh/datamex1...  ...       User   \n",
       "4  https://api.github.com/repos/ArturoQR/datamex1...  ...       User   \n",
       "\n",
       "  owner.site_admin license.key                            license.name  \\\n",
       "0            False    agpl-3.0  GNU Affero General Public License v3.0   \n",
       "1            False    agpl-3.0  GNU Affero General Public License v3.0   \n",
       "2            False    agpl-3.0  GNU Affero General Public License v3.0   \n",
       "3            False    agpl-3.0  GNU Affero General Public License v3.0   \n",
       "4            False    agpl-3.0  GNU Affero General Public License v3.0   \n",
       "\n",
       "  license.spdx_id                               license.url   license.node_id  \\\n",
       "0        AGPL-3.0  https://api.github.com/licenses/agpl-3.0  MDc6TGljZW5zZTE=   \n",
       "1        AGPL-3.0  https://api.github.com/licenses/agpl-3.0  MDc6TGljZW5zZTE=   \n",
       "2        AGPL-3.0  https://api.github.com/licenses/agpl-3.0  MDc6TGljZW5zZTE=   \n",
       "3        AGPL-3.0  https://api.github.com/licenses/agpl-3.0  MDc6TGljZW5zZTE=   \n",
       "4        AGPL-3.0  https://api.github.com/licenses/agpl-3.0  MDc6TGljZW5zZTE=   \n",
       "\n",
       "  permissions.admin permissions.push permissions.pull  \n",
       "0             False            False             True  \n",
       "1             False            False             True  \n",
       "2             False            False             True  \n",
       "3             False            False             True  \n",
       "4             False            False             True  \n",
       "\n",
       "[5 rows x 97 columns]"
      ]
     },
     "execution_count": 34,
     "metadata": {},
     "output_type": "execute_result"
    }
   ],
   "source": [
    "from pandas.io.json import json_normalize\n",
    "\n",
    "flattened=json_normalize(resp.json())\n",
    "flattened.head()"
   ]
  },
  {
   "cell_type": "code",
   "execution_count": 39,
   "metadata": {},
   "outputs": [],
   "source": [
    "language = set(flattened['language'])"
   ]
  },
  {
   "cell_type": "code",
   "execution_count": 44,
   "metadata": {},
   "outputs": [
    {
     "data": {
      "text/plain": [
       "['Jupyter Notebook', None]"
      ]
     },
     "execution_count": 44,
     "metadata": {},
     "output_type": "execute_result"
    }
   ],
   "source": [
    "language = list(language)\n",
    "language"
   ]
  },
  {
   "cell_type": "code",
   "execution_count": null,
   "metadata": {},
   "outputs": [],
   "source": []
  },
  {
   "cell_type": "code",
   "execution_count": null,
   "metadata": {},
   "outputs": [],
   "source": []
  },
  {
   "cell_type": "code",
   "execution_count": 45,
   "metadata": {},
   "outputs": [],
   "source": [
    "## Challlenge 2"
   ]
  },
  {
   "cell_type": "code",
   "execution_count": 52,
   "metadata": {},
   "outputs": [
    {
     "data": {
      "text/plain": [
       "<Response [200]>"
      ]
     },
     "execution_count": 52,
     "metadata": {},
     "output_type": "execute_result"
    }
   ],
   "source": [
    "URL=\"https://api.github.com/repos/ironhack-datalabs/datamex1019/commits\"\n",
    "#\"https://api.github.com/repos/{owner}/{repo}\"\n",
    "resp=requests.get(URL, auth = ('javier171188', t))\n",
    "resp"
   ]
  },
  {
   "cell_type": "code",
   "execution_count": 54,
   "metadata": {},
   "outputs": [
    {
     "data": {
      "text/html": [
       "<div>\n",
       "<style scoped>\n",
       "    .dataframe tbody tr th:only-of-type {\n",
       "        vertical-align: middle;\n",
       "    }\n",
       "\n",
       "    .dataframe tbody tr th {\n",
       "        vertical-align: top;\n",
       "    }\n",
       "\n",
       "    .dataframe thead th {\n",
       "        text-align: right;\n",
       "    }\n",
       "</style>\n",
       "<table border=\"1\" class=\"dataframe\">\n",
       "  <thead>\n",
       "    <tr style=\"text-align: right;\">\n",
       "      <th></th>\n",
       "      <th>sha</th>\n",
       "      <th>node_id</th>\n",
       "      <th>commit</th>\n",
       "      <th>url</th>\n",
       "      <th>html_url</th>\n",
       "      <th>comments_url</th>\n",
       "      <th>author</th>\n",
       "      <th>committer</th>\n",
       "      <th>parents</th>\n",
       "    </tr>\n",
       "  </thead>\n",
       "  <tbody>\n",
       "    <tr>\n",
       "      <th>0</th>\n",
       "      <td>242d427ccbf3d7b26bcd1a7c7ed78db7d3a85336</td>\n",
       "      <td>MDY6Q29tbWl0MjE2NDA3MjQ0OjI0MmQ0MjdjY2JmM2Q3Yj...</td>\n",
       "      <td>{'author': {'name': 'YonatanRA', 'email': 'yeh...</td>\n",
       "      <td>https://api.github.com/repos/ironhack-datalabs...</td>\n",
       "      <td>https://github.com/ironhack-datalabs/datamex10...</td>\n",
       "      <td>https://api.github.com/repos/ironhack-datalabs...</td>\n",
       "      <td>{'login': 'YonatanRA', 'id': 47545401, 'node_i...</td>\n",
       "      <td>{'login': 'YonatanRA', 'id': 47545401, 'node_i...</td>\n",
       "      <td>[]</td>\n",
       "    </tr>\n",
       "  </tbody>\n",
       "</table>\n",
       "</div>"
      ],
      "text/plain": [
       "                                        sha  \\\n",
       "0  242d427ccbf3d7b26bcd1a7c7ed78db7d3a85336   \n",
       "\n",
       "                                             node_id  \\\n",
       "0  MDY6Q29tbWl0MjE2NDA3MjQ0OjI0MmQ0MjdjY2JmM2Q3Yj...   \n",
       "\n",
       "                                              commit  \\\n",
       "0  {'author': {'name': 'YonatanRA', 'email': 'yeh...   \n",
       "\n",
       "                                                 url  \\\n",
       "0  https://api.github.com/repos/ironhack-datalabs...   \n",
       "\n",
       "                                            html_url  \\\n",
       "0  https://github.com/ironhack-datalabs/datamex10...   \n",
       "\n",
       "                                        comments_url  \\\n",
       "0  https://api.github.com/repos/ironhack-datalabs...   \n",
       "\n",
       "                                              author  \\\n",
       "0  {'login': 'YonatanRA', 'id': 47545401, 'node_i...   \n",
       "\n",
       "                                           committer parents  \n",
       "0  {'login': 'YonatanRA', 'id': 47545401, 'node_i...      []  "
      ]
     },
     "execution_count": 54,
     "metadata": {},
     "output_type": "execute_result"
    }
   ],
   "source": [
    "data=pd.DataFrame(resp.json())\n",
    "data.head()"
   ]
  },
  {
   "cell_type": "code",
   "execution_count": 55,
   "metadata": {},
   "outputs": [
    {
     "data": {
      "text/html": [
       "<div>\n",
       "<style scoped>\n",
       "    .dataframe tbody tr th:only-of-type {\n",
       "        vertical-align: middle;\n",
       "    }\n",
       "\n",
       "    .dataframe tbody tr th {\n",
       "        vertical-align: top;\n",
       "    }\n",
       "\n",
       "    .dataframe thead th {\n",
       "        text-align: right;\n",
       "    }\n",
       "</style>\n",
       "<table border=\"1\" class=\"dataframe\">\n",
       "  <thead>\n",
       "    <tr style=\"text-align: right;\">\n",
       "      <th></th>\n",
       "      <th>sha</th>\n",
       "      <th>node_id</th>\n",
       "      <th>url</th>\n",
       "      <th>html_url</th>\n",
       "      <th>comments_url</th>\n",
       "      <th>parents</th>\n",
       "      <th>commit.author.name</th>\n",
       "      <th>commit.author.email</th>\n",
       "      <th>commit.author.date</th>\n",
       "      <th>commit.committer.name</th>\n",
       "      <th>...</th>\n",
       "      <th>committer.following_url</th>\n",
       "      <th>committer.gists_url</th>\n",
       "      <th>committer.starred_url</th>\n",
       "      <th>committer.subscriptions_url</th>\n",
       "      <th>committer.organizations_url</th>\n",
       "      <th>committer.repos_url</th>\n",
       "      <th>committer.events_url</th>\n",
       "      <th>committer.received_events_url</th>\n",
       "      <th>committer.type</th>\n",
       "      <th>committer.site_admin</th>\n",
       "    </tr>\n",
       "  </thead>\n",
       "  <tbody>\n",
       "    <tr>\n",
       "      <th>0</th>\n",
       "      <td>242d427ccbf3d7b26bcd1a7c7ed78db7d3a85336</td>\n",
       "      <td>MDY6Q29tbWl0MjE2NDA3MjQ0OjI0MmQ0MjdjY2JmM2Q3Yj...</td>\n",
       "      <td>https://api.github.com/repos/ironhack-datalabs...</td>\n",
       "      <td>https://github.com/ironhack-datalabs/datamex10...</td>\n",
       "      <td>https://api.github.com/repos/ironhack-datalabs...</td>\n",
       "      <td>[]</td>\n",
       "      <td>YonatanRA</td>\n",
       "      <td>yeho@mail.com</td>\n",
       "      <td>2019-10-20T18:25:00Z</td>\n",
       "      <td>YonatanRA</td>\n",
       "      <td>...</td>\n",
       "      <td>https://api.github.com/users/YonatanRA/followi...</td>\n",
       "      <td>https://api.github.com/users/YonatanRA/gists{/...</td>\n",
       "      <td>https://api.github.com/users/YonatanRA/starred...</td>\n",
       "      <td>https://api.github.com/users/YonatanRA/subscri...</td>\n",
       "      <td>https://api.github.com/users/YonatanRA/orgs</td>\n",
       "      <td>https://api.github.com/users/YonatanRA/repos</td>\n",
       "      <td>https://api.github.com/users/YonatanRA/events{...</td>\n",
       "      <td>https://api.github.com/users/YonatanRA/receive...</td>\n",
       "      <td>User</td>\n",
       "      <td>False</td>\n",
       "    </tr>\n",
       "  </tbody>\n",
       "</table>\n",
       "<p>1 rows × 57 columns</p>\n",
       "</div>"
      ],
      "text/plain": [
       "                                        sha  \\\n",
       "0  242d427ccbf3d7b26bcd1a7c7ed78db7d3a85336   \n",
       "\n",
       "                                             node_id  \\\n",
       "0  MDY6Q29tbWl0MjE2NDA3MjQ0OjI0MmQ0MjdjY2JmM2Q3Yj...   \n",
       "\n",
       "                                                 url  \\\n",
       "0  https://api.github.com/repos/ironhack-datalabs...   \n",
       "\n",
       "                                            html_url  \\\n",
       "0  https://github.com/ironhack-datalabs/datamex10...   \n",
       "\n",
       "                                        comments_url parents  \\\n",
       "0  https://api.github.com/repos/ironhack-datalabs...      []   \n",
       "\n",
       "  commit.author.name commit.author.email    commit.author.date  \\\n",
       "0          YonatanRA       yeho@mail.com  2019-10-20T18:25:00Z   \n",
       "\n",
       "  commit.committer.name  ...  \\\n",
       "0             YonatanRA  ...   \n",
       "\n",
       "                             committer.following_url  \\\n",
       "0  https://api.github.com/users/YonatanRA/followi...   \n",
       "\n",
       "                                 committer.gists_url  \\\n",
       "0  https://api.github.com/users/YonatanRA/gists{/...   \n",
       "\n",
       "                               committer.starred_url  \\\n",
       "0  https://api.github.com/users/YonatanRA/starred...   \n",
       "\n",
       "                         committer.subscriptions_url  \\\n",
       "0  https://api.github.com/users/YonatanRA/subscri...   \n",
       "\n",
       "                   committer.organizations_url  \\\n",
       "0  https://api.github.com/users/YonatanRA/orgs   \n",
       "\n",
       "                            committer.repos_url  \\\n",
       "0  https://api.github.com/users/YonatanRA/repos   \n",
       "\n",
       "                                committer.events_url  \\\n",
       "0  https://api.github.com/users/YonatanRA/events{...   \n",
       "\n",
       "                       committer.received_events_url committer.type  \\\n",
       "0  https://api.github.com/users/YonatanRA/receive...           User   \n",
       "\n",
       "  committer.site_admin  \n",
       "0                False  \n",
       "\n",
       "[1 rows x 57 columns]"
      ]
     },
     "execution_count": 55,
     "metadata": {},
     "output_type": "execute_result"
    }
   ],
   "source": [
    "flattened=json_normalize(resp.json())\n",
    "flattened.head()"
   ]
  },
  {
   "cell_type": "code",
   "execution_count": 57,
   "metadata": {},
   "outputs": [
    {
     "name": "stdout",
     "output_type": "stream",
     "text": [
      "1\n"
     ]
    }
   ],
   "source": [
    "# Número de commits hechos ._.\n",
    "print(len(flattened))"
   ]
  },
  {
   "cell_type": "code",
   "execution_count": 66,
   "metadata": {},
   "outputs": [
    {
     "data": {
      "text/plain": [
       "'2019-10-20T18:25:00Z'"
      ]
     },
     "execution_count": 66,
     "metadata": {},
     "output_type": "execute_result"
    }
   ],
   "source": [
    "flattened['commit.committer.date'][0]"
   ]
  },
  {
   "cell_type": "code",
   "execution_count": 68,
   "metadata": {},
   "outputs": [],
   "source": [
    "def date(s):\n",
    "    n=0\n",
    "    mes = str(s[5]) + str(6)\n",
    "    mes = int(mes)\n",
    "    dia = str(s[9]) + str(9)\n",
    "    dia = int(mes)\n",
    "    if mes == 10 and dia >2 and dia <9 :\n",
    "        n+=1\n",
    "        \n",
    "    return n"
   ]
  },
  {
   "cell_type": "code",
   "execution_count": 71,
   "metadata": {},
   "outputs": [
    {
     "data": {
      "text/plain": [
       "0"
      ]
     },
     "execution_count": 71,
     "metadata": {},
     "output_type": "execute_result"
    }
   ],
   "source": [
    "#total de commits\n",
    "flattened['commit.committer.date'].apply(date).sum()"
   ]
  },
  {
   "cell_type": "code",
   "execution_count": 72,
   "metadata": {},
   "outputs": [],
   "source": [
    "#Challenge 3"
   ]
  },
  {
   "cell_type": "code",
   "execution_count": 73,
   "metadata": {},
   "outputs": [
    {
     "data": {
      "text/plain": [
       "<Response [200]>"
      ]
     },
     "execution_count": 73,
     "metadata": {},
     "output_type": "execute_result"
    }
   ],
   "source": [
    "URL=\"https://github.com/ironhack-datalabs/scavenger\"\n",
    "#\"https://api.github.com/repos/{owner}/{repo}\"\n",
    "resp=requests.get(URL, auth = ('javier171188', t))\n",
    "resp"
   ]
  },
  {
   "cell_type": "code",
   "execution_count": 75,
   "metadata": {},
   "outputs": [
    {
     "ename": "JSONDecodeError",
     "evalue": "Expecting value: line 7 column 1 (char 6)",
     "output_type": "error",
     "traceback": [
      "\u001b[1;31m---------------------------------------------------------------------------\u001b[0m",
      "\u001b[1;31mJSONDecodeError\u001b[0m                           Traceback (most recent call last)",
      "\u001b[1;32m<ipython-input-75-a6bf11a01b9c>\u001b[0m in \u001b[0;36m<module>\u001b[1;34m\u001b[0m\n\u001b[1;32m----> 1\u001b[1;33m \u001b[0mdata\u001b[0m\u001b[1;33m=\u001b[0m\u001b[0mpd\u001b[0m\u001b[1;33m.\u001b[0m\u001b[0mDataFrame\u001b[0m\u001b[1;33m(\u001b[0m\u001b[0mresp\u001b[0m\u001b[1;33m.\u001b[0m\u001b[0mjson\u001b[0m\u001b[1;33m(\u001b[0m\u001b[1;33m)\u001b[0m\u001b[1;33m)\u001b[0m\u001b[1;33m\u001b[0m\u001b[1;33m\u001b[0m\u001b[0m\n\u001b[0m\u001b[0;32m      2\u001b[0m \u001b[0mdata\u001b[0m\u001b[1;33m.\u001b[0m\u001b[0mhead\u001b[0m\u001b[1;33m(\u001b[0m\u001b[1;33m)\u001b[0m\u001b[1;33m\u001b[0m\u001b[1;33m\u001b[0m\u001b[0m\n",
      "\u001b[1;32m~\\AppData\\Roaming\\Python\\Python37\\site-packages\\requests\\models.py\u001b[0m in \u001b[0;36mjson\u001b[1;34m(self, **kwargs)\u001b[0m\n\u001b[0;32m    895\u001b[0m                     \u001b[1;31m# used.\u001b[0m\u001b[1;33m\u001b[0m\u001b[1;33m\u001b[0m\u001b[1;33m\u001b[0m\u001b[0m\n\u001b[0;32m    896\u001b[0m                     \u001b[1;32mpass\u001b[0m\u001b[1;33m\u001b[0m\u001b[1;33m\u001b[0m\u001b[0m\n\u001b[1;32m--> 897\u001b[1;33m         \u001b[1;32mreturn\u001b[0m \u001b[0mcomplexjson\u001b[0m\u001b[1;33m.\u001b[0m\u001b[0mloads\u001b[0m\u001b[1;33m(\u001b[0m\u001b[0mself\u001b[0m\u001b[1;33m.\u001b[0m\u001b[0mtext\u001b[0m\u001b[1;33m,\u001b[0m \u001b[1;33m**\u001b[0m\u001b[0mkwargs\u001b[0m\u001b[1;33m)\u001b[0m\u001b[1;33m\u001b[0m\u001b[1;33m\u001b[0m\u001b[0m\n\u001b[0m\u001b[0;32m    898\u001b[0m \u001b[1;33m\u001b[0m\u001b[0m\n\u001b[0;32m    899\u001b[0m     \u001b[1;33m@\u001b[0m\u001b[0mproperty\u001b[0m\u001b[1;33m\u001b[0m\u001b[1;33m\u001b[0m\u001b[0m\n",
      "\u001b[1;32m~\\Anaconda3\\lib\\json\\__init__.py\u001b[0m in \u001b[0;36mloads\u001b[1;34m(s, encoding, cls, object_hook, parse_float, parse_int, parse_constant, object_pairs_hook, **kw)\u001b[0m\n\u001b[0;32m    346\u001b[0m             \u001b[0mparse_int\u001b[0m \u001b[1;32mis\u001b[0m \u001b[1;32mNone\u001b[0m \u001b[1;32mand\u001b[0m \u001b[0mparse_float\u001b[0m \u001b[1;32mis\u001b[0m \u001b[1;32mNone\u001b[0m \u001b[1;32mand\u001b[0m\u001b[1;33m\u001b[0m\u001b[1;33m\u001b[0m\u001b[0m\n\u001b[0;32m    347\u001b[0m             parse_constant is None and object_pairs_hook is None and not kw):\n\u001b[1;32m--> 348\u001b[1;33m         \u001b[1;32mreturn\u001b[0m \u001b[0m_default_decoder\u001b[0m\u001b[1;33m.\u001b[0m\u001b[0mdecode\u001b[0m\u001b[1;33m(\u001b[0m\u001b[0ms\u001b[0m\u001b[1;33m)\u001b[0m\u001b[1;33m\u001b[0m\u001b[1;33m\u001b[0m\u001b[0m\n\u001b[0m\u001b[0;32m    349\u001b[0m     \u001b[1;32mif\u001b[0m \u001b[0mcls\u001b[0m \u001b[1;32mis\u001b[0m \u001b[1;32mNone\u001b[0m\u001b[1;33m:\u001b[0m\u001b[1;33m\u001b[0m\u001b[1;33m\u001b[0m\u001b[0m\n\u001b[0;32m    350\u001b[0m         \u001b[0mcls\u001b[0m \u001b[1;33m=\u001b[0m \u001b[0mJSONDecoder\u001b[0m\u001b[1;33m\u001b[0m\u001b[1;33m\u001b[0m\u001b[0m\n",
      "\u001b[1;32m~\\Anaconda3\\lib\\json\\decoder.py\u001b[0m in \u001b[0;36mdecode\u001b[1;34m(self, s, _w)\u001b[0m\n\u001b[0;32m    335\u001b[0m \u001b[1;33m\u001b[0m\u001b[0m\n\u001b[0;32m    336\u001b[0m         \"\"\"\n\u001b[1;32m--> 337\u001b[1;33m         \u001b[0mobj\u001b[0m\u001b[1;33m,\u001b[0m \u001b[0mend\u001b[0m \u001b[1;33m=\u001b[0m \u001b[0mself\u001b[0m\u001b[1;33m.\u001b[0m\u001b[0mraw_decode\u001b[0m\u001b[1;33m(\u001b[0m\u001b[0ms\u001b[0m\u001b[1;33m,\u001b[0m \u001b[0midx\u001b[0m\u001b[1;33m=\u001b[0m\u001b[0m_w\u001b[0m\u001b[1;33m(\u001b[0m\u001b[0ms\u001b[0m\u001b[1;33m,\u001b[0m \u001b[1;36m0\u001b[0m\u001b[1;33m)\u001b[0m\u001b[1;33m.\u001b[0m\u001b[0mend\u001b[0m\u001b[1;33m(\u001b[0m\u001b[1;33m)\u001b[0m\u001b[1;33m)\u001b[0m\u001b[1;33m\u001b[0m\u001b[1;33m\u001b[0m\u001b[0m\n\u001b[0m\u001b[0;32m    338\u001b[0m         \u001b[0mend\u001b[0m \u001b[1;33m=\u001b[0m \u001b[0m_w\u001b[0m\u001b[1;33m(\u001b[0m\u001b[0ms\u001b[0m\u001b[1;33m,\u001b[0m \u001b[0mend\u001b[0m\u001b[1;33m)\u001b[0m\u001b[1;33m.\u001b[0m\u001b[0mend\u001b[0m\u001b[1;33m(\u001b[0m\u001b[1;33m)\u001b[0m\u001b[1;33m\u001b[0m\u001b[1;33m\u001b[0m\u001b[0m\n\u001b[0;32m    339\u001b[0m         \u001b[1;32mif\u001b[0m \u001b[0mend\u001b[0m \u001b[1;33m!=\u001b[0m \u001b[0mlen\u001b[0m\u001b[1;33m(\u001b[0m\u001b[0ms\u001b[0m\u001b[1;33m)\u001b[0m\u001b[1;33m:\u001b[0m\u001b[1;33m\u001b[0m\u001b[1;33m\u001b[0m\u001b[0m\n",
      "\u001b[1;32m~\\Anaconda3\\lib\\json\\decoder.py\u001b[0m in \u001b[0;36mraw_decode\u001b[1;34m(self, s, idx)\u001b[0m\n\u001b[0;32m    353\u001b[0m             \u001b[0mobj\u001b[0m\u001b[1;33m,\u001b[0m \u001b[0mend\u001b[0m \u001b[1;33m=\u001b[0m \u001b[0mself\u001b[0m\u001b[1;33m.\u001b[0m\u001b[0mscan_once\u001b[0m\u001b[1;33m(\u001b[0m\u001b[0ms\u001b[0m\u001b[1;33m,\u001b[0m \u001b[0midx\u001b[0m\u001b[1;33m)\u001b[0m\u001b[1;33m\u001b[0m\u001b[1;33m\u001b[0m\u001b[0m\n\u001b[0;32m    354\u001b[0m         \u001b[1;32mexcept\u001b[0m \u001b[0mStopIteration\u001b[0m \u001b[1;32mas\u001b[0m \u001b[0merr\u001b[0m\u001b[1;33m:\u001b[0m\u001b[1;33m\u001b[0m\u001b[1;33m\u001b[0m\u001b[0m\n\u001b[1;32m--> 355\u001b[1;33m             \u001b[1;32mraise\u001b[0m \u001b[0mJSONDecodeError\u001b[0m\u001b[1;33m(\u001b[0m\u001b[1;34m\"Expecting value\"\u001b[0m\u001b[1;33m,\u001b[0m \u001b[0ms\u001b[0m\u001b[1;33m,\u001b[0m \u001b[0merr\u001b[0m\u001b[1;33m.\u001b[0m\u001b[0mvalue\u001b[0m\u001b[1;33m)\u001b[0m \u001b[1;32mfrom\u001b[0m \u001b[1;32mNone\u001b[0m\u001b[1;33m\u001b[0m\u001b[1;33m\u001b[0m\u001b[0m\n\u001b[0m\u001b[0;32m    356\u001b[0m         \u001b[1;32mreturn\u001b[0m \u001b[0mobj\u001b[0m\u001b[1;33m,\u001b[0m \u001b[0mend\u001b[0m\u001b[1;33m\u001b[0m\u001b[1;33m\u001b[0m\u001b[0m\n",
      "\u001b[1;31mJSONDecodeError\u001b[0m: Expecting value: line 7 column 1 (char 6)"
     ]
    }
   ],
   "source": [
    "data=pd.DataFrame(resp.json())\n",
    "data.head()"
   ]
  },
  {
   "cell_type": "code",
   "execution_count": null,
   "metadata": {},
   "outputs": [],
   "source": []
  }
 ],
 "metadata": {
  "kernelspec": {
   "display_name": "Python 3",
   "language": "python",
   "name": "python3"
  },
  "language_info": {
   "codemirror_mode": {
    "name": "ipython",
    "version": 3
   },
   "file_extension": ".py",
   "mimetype": "text/x-python",
   "name": "python",
   "nbconvert_exporter": "python",
   "pygments_lexer": "ipython3",
   "version": "3.7.1"
  }
 },
 "nbformat": 4,
 "nbformat_minor": 2
}

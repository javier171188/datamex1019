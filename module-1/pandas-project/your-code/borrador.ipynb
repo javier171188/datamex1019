{
 "cells": [
  {
   "cell_type": "code",
   "execution_count": 99,
   "metadata": {},
   "outputs": [],
   "source": [
    "# importar las bibliotecas necesarias\n",
    "import pandas as pd\n",
    "import re"
   ]
  },
  {
   "cell_type": "code",
   "execution_count": 100,
   "metadata": {},
   "outputs": [],
   "source": [
    "#leer el archivo\n",
    "df = pd.read_csv(\"attacksu.csv\")"
   ]
  },
  {
   "cell_type": "code",
   "execution_count": 101,
   "metadata": {},
   "outputs": [
    {
     "name": "stderr",
     "output_type": "stream",
     "text": [
      "C:\\Users\\Javier\\Anaconda3\\lib\\site-packages\\ipykernel_launcher.py:2: SettingWithCopyWarning: \n",
      "A value is trying to be set on a copy of a slice from a DataFrame\n",
      "\n",
      "See the caveats in the documentation: http://pandas.pydata.org/pandas-docs/stable/indexing.html#indexing-view-versus-copy\n",
      "  \n"
     ]
    }
   ],
   "source": [
    "#voy a atacar la columna type\n",
    "df.Type[df.Type.str.startswith('Bo')]='Boating'\n"
   ]
  },
  {
   "cell_type": "code",
   "execution_count": 102,
   "metadata": {},
   "outputs": [],
   "source": [
    "#Ahora la columna Countries\n",
    "df.Country = df.Country.apply(lambda x: str(x).upper())\n",
    "#df.Country[df.Country.str.startswith('Usa')]='USA'"
   ]
  },
  {
   "cell_type": "code",
   "execution_count": 103,
   "metadata": {},
   "outputs": [],
   "source": [
    "def interr(s):\n",
    "    if '?' in str(s):\n",
    "        s = 'No information'\n",
    "    return s"
   ]
  },
  {
   "cell_type": "code",
   "execution_count": 104,
   "metadata": {},
   "outputs": [],
   "source": [
    "df.Country = df.Country.apply(interr)"
   ]
  },
  {
   "cell_type": "code",
   "execution_count": 105,
   "metadata": {},
   "outputs": [],
   "source": [
    "def amp(s):\n",
    "    s = s.replace('&', 'Y')\n",
    "    return s"
   ]
  },
  {
   "cell_type": "code",
   "execution_count": 106,
   "metadata": {},
   "outputs": [],
   "source": [
    "df.Country = df.Country.apply(amp)"
   ]
  },
  {
   "cell_type": "code",
   "execution_count": 107,
   "metadata": {},
   "outputs": [],
   "source": [
    "def spec(s):\n",
    "    if r'/' in s:\n",
    "        s = 'NO INFORMATION'\n",
    "    return s"
   ]
  },
  {
   "cell_type": "code",
   "execution_count": 108,
   "metadata": {},
   "outputs": [],
   "source": [
    "df.Country = df.Country.apply(spec)"
   ]
  },
  {
   "cell_type": "code",
   "execution_count": 109,
   "metadata": {},
   "outputs": [],
   "source": [
    "def ocean(s):\n",
    "    if 'OCEAN' in s or 'SEA' in s or 'BETWEEN' in s or 'GULF' in s or 'DIEGO GARCIA' in s:\n",
    "        s = 'NO INFORMATION'\n",
    "    elif 'ST. MAARTIN' in s:\n",
    "        s = 'ST. MAARTIN'\n",
    "    return s"
   ]
  },
  {
   "cell_type": "code",
   "execution_count": 110,
   "metadata": {},
   "outputs": [],
   "source": [
    "df.Country = df.Country.apply(ocean)"
   ]
  },
  {
   "cell_type": "code",
   "execution_count": 111,
   "metadata": {},
   "outputs": [],
   "source": [
    "esp_1 = lambda x: re.sub('^\\s', \"\", x)\n",
    "esp_2 = lambda x: re.sub('\\s$', \"\", x)\n",
    "df['Country'] = df['Country'].apply(esp_1)\n",
    "df['Country'] = df['Country'].apply(esp_2)"
   ]
  },
  {
   "cell_type": "code",
   "execution_count": 112,
   "metadata": {},
   "outputs": [],
   "source": [
    "#Columna Sex"
   ]
  },
  {
   "cell_type": "code",
   "execution_count": 183,
   "metadata": {},
   "outputs": [
    {
     "data": {
      "text/plain": [
       "Index(['Case Number', 'Date', 'Year', 'Type', 'Country', 'Area', 'Location',\n",
       "       'Activity', 'Name', 'Sex', 'Age', 'Injury', 'Fatal (Y/N)', 'Time',\n",
       "       'Species ', 'Investigator or Source', 'pdf', 'href formula', 'href',\n",
       "       'Case Number.1', 'Case Number.2', 'original order', 'Unnamed: 22',\n",
       "       'Unnamed: 23'],\n",
       "      dtype='object')"
      ]
     },
     "execution_count": 183,
     "metadata": {},
     "output_type": "execute_result"
    }
   ],
   "source": [
    "dfc = df.rename(columns = {'Sex ':'Sex'})\n",
    "dfc.columns"
   ]
  },
  {
   "cell_type": "code",
   "execution_count": null,
   "metadata": {},
   "outputs": [],
   "source": []
  },
  {
   "cell_type": "code",
   "execution_count": 184,
   "metadata": {},
   "outputs": [],
   "source": [
    "def cleans(s):\n",
    "    if 'N' in str(s) or 'lli' in str(s) or r'.' in str(s):\n",
    "        s = 'No information'\n",
    "    return s"
   ]
  },
  {
   "cell_type": "code",
   "execution_count": 185,
   "metadata": {},
   "outputs": [],
   "source": [
    "dfc.Sex = dfc.Sex.apply(cleans)\n",
    "#"
   ]
  },
  {
   "cell_type": "code",
   "execution_count": 186,
   "metadata": {},
   "outputs": [
    {
     "data": {
      "text/plain": [
       "M                 4835\n",
       "F                  585\n",
       "No information       3\n",
       "M                    2\n",
       "Name: Sex, dtype: int64"
      ]
     },
     "execution_count": 186,
     "metadata": {},
     "output_type": "execute_result"
    }
   ],
   "source": [
    "dfc.Sex.value_counts()"
   ]
  },
  {
   "cell_type": "code",
   "execution_count": 187,
   "metadata": {},
   "outputs": [],
   "source": [
    "def male(s):\n",
    "    if 'M' in str(s):\n",
    "        s = 'M'\n",
    "    return s"
   ]
  },
  {
   "cell_type": "code",
   "execution_count": 188,
   "metadata": {},
   "outputs": [
    {
     "data": {
      "text/plain": [
       "M                 4837\n",
       "F                  585\n",
       "No information       3\n",
       "Name: Sex, dtype: int64"
      ]
     },
     "execution_count": 188,
     "metadata": {},
     "output_type": "execute_result"
    }
   ],
   "source": [
    "dfc.Sex = dfc.Sex.apply(male)\n",
    "dfc.Sex.value_counts()"
   ]
  },
  {
   "cell_type": "code",
   "execution_count": 167,
   "metadata": {},
   "outputs": [],
   "source": [
    "#Columna Fatal"
   ]
  },
  {
   "cell_type": "code",
   "execution_count": 189,
   "metadata": {},
   "outputs": [
    {
     "data": {
      "text/plain": [
       "N          4315\n",
       "Y          1552\n",
       "UNKNOWN      94\n",
       " N            8\n",
       "N             1\n",
       "#VALUE!       1\n",
       "F             1\n",
       "n             1\n",
       "Name: Fatal (Y/N), dtype: int64"
      ]
     },
     "execution_count": 189,
     "metadata": {},
     "output_type": "execute_result"
    }
   ],
   "source": [
    "dfc['Fatal (Y/N)'].value_counts()"
   ]
  },
  {
   "cell_type": "code",
   "execution_count": 190,
   "metadata": {},
   "outputs": [],
   "source": [
    "def fatal(s):\n",
    "    if 'UNKNOWN' in str(s):\n",
    "        s = 'No information'\n",
    "    elif 'N' in str(s) or 'n' in str(s) or 'F' in str(s):\n",
    "        s = 'N'\n",
    "    elif 'Y' in str(s):\n",
    "        s = 'Y'\n",
    "    else: \n",
    "        s = 'No information'\n",
    "    \n",
    "    return s"
   ]
  },
  {
   "cell_type": "code",
   "execution_count": 191,
   "metadata": {},
   "outputs": [
    {
     "data": {
      "text/plain": [
       "N                 4345\n",
       "Y                 1552\n",
       "No information      95\n",
       "Name: Fatal (Y/N), dtype: int64"
      ]
     },
     "execution_count": 191,
     "metadata": {},
     "output_type": "execute_result"
    }
   ],
   "source": [
    "dfc['Fatal (Y/N)'] = dfc['Fatal (Y/N)'].apply(fatal)\n",
    "dfc['Fatal (Y/N)'].value_counts()"
   ]
  },
  {
   "cell_type": "code",
   "execution_count": 192,
   "metadata": {},
   "outputs": [],
   "source": [
    "#####Activity"
   ]
  },
  {
   "cell_type": "code",
   "execution_count": 193,
   "metadata": {},
   "outputs": [
    {
     "data": {
      "text/plain": [
       "False    5465\n",
       "True      527\n",
       "Name: Activity, dtype: int64"
      ]
     },
     "execution_count": 193,
     "metadata": {},
     "output_type": "execute_result"
    }
   ],
   "source": [
    "dfc.Activity.isnull().value_counts()"
   ]
  },
  {
   "cell_type": "code",
   "execution_count": 194,
   "metadata": {},
   "outputs": [],
   "source": [
    "dfc.Activity.fillna('No information', inplace = True)"
   ]
  },
  {
   "cell_type": "code",
   "execution_count": 174,
   "metadata": {},
   "outputs": [],
   "source": [
    "##Aquí no sé que más hacer"
   ]
  },
  {
   "cell_type": "code",
   "execution_count": 175,
   "metadata": {},
   "outputs": [],
   "source": [
    "###Age"
   ]
  },
  {
   "cell_type": "code",
   "execution_count": 176,
   "metadata": {},
   "outputs": [],
   "source": [
    "\n",
    "def num(s):\n",
    "    a = re.findall('[\\d][\\d]',str(s))\n",
    "    \n",
    "    if len(a) == 1:\n",
    "        return s\n",
    "    else:\n",
    "        return 'No information'"
   ]
  },
  {
   "cell_type": "code",
   "execution_count": 97,
   "metadata": {},
   "outputs": [],
   "source": [
    "dfc.Age = dfc.Age.apply(num)"
   ]
  },
  {
   "cell_type": "code",
   "execution_count": 157,
   "metadata": {},
   "outputs": [],
   "source": [
    "def num_d(s):\n",
    "    if len(str(s)) > 2:\n",
    "        return 'No information'\n",
    "    else: \n",
    "        return int(s)"
   ]
  },
  {
   "cell_type": "code",
   "execution_count": 198,
   "metadata": {},
   "outputs": [],
   "source": [
    "dfc.Age.fillna('No information', inplace = True)"
   ]
  },
  {
   "cell_type": "code",
   "execution_count": 201,
   "metadata": {},
   "outputs": [],
   "source": [
    "def let(s):\n",
    "    a = re.findall('\\D', str(s))\n",
    "    if len(a) !=0:\n",
    "        return 'No information'\n",
    "    else:\n",
    "        return int(s)"
   ]
  },
  {
   "cell_type": "code",
   "execution_count": 202,
   "metadata": {},
   "outputs": [],
   "source": [
    "dfc.Age = dfc.Age.apply(let)"
   ]
  },
  {
   "cell_type": "code",
   "execution_count": 195,
   "metadata": {},
   "outputs": [
    {
     "data": {
      "text/plain": [
       "17                 148\n",
       "18                 145\n",
       "19                 138\n",
       "20                 136\n",
       "15                 135\n",
       "16                 134\n",
       "21                 115\n",
       "22                 113\n",
       "24                 103\n",
       "25                 101\n",
       "14                  97\n",
       "13                  91\n",
       "23                  80\n",
       "26                  80\n",
       "27                  78\n",
       "28                  77\n",
       "29                  75\n",
       "30                  74\n",
       "12                  70\n",
       "32                  64\n",
       "35                  64\n",
       "10                  51\n",
       "31                  50\n",
       "40                  50\n",
       "38                  47\n",
       "34                  45\n",
       "43                  43\n",
       "36                  41\n",
       "33                  40\n",
       "37                  37\n",
       "                  ... \n",
       "33 & 37              1\n",
       "? & 19               1\n",
       "36 & 23              1\n",
       "87                   1\n",
       "18 to 22             1\n",
       "\"middle-age\"         1\n",
       "?    &   14          1\n",
       "18 or 20             1\n",
       "17 & 35              1\n",
       "46 & 34              1\n",
       "Ca. 33               1\n",
       "72                   1\n",
       "\"young\"              1\n",
       "32 & 30              1\n",
       "21 & ?               1\n",
       "50 & 30              1\n",
       "mid-30s              1\n",
       "A.M.                 1\n",
       "Teens                1\n",
       "23 & 20              1\n",
       "21, 34,24 & 35       1\n",
       "28 & 26              1\n",
       "23 & 26              1\n",
       "9 or 10              1\n",
       "(adult)              1\n",
       "18 months            1\n",
       "7      &    31       1\n",
       "30 or 36             1\n",
       "6Ω                   1\n",
       "MAKE LINE GREEN      1\n",
       "Name: Age, Length: 151, dtype: int64"
      ]
     },
     "execution_count": 195,
     "metadata": {},
     "output_type": "execute_result"
    }
   ],
   "source": [
    "dfc.Age.value_counts()"
   ]
  },
  {
   "cell_type": "code",
   "execution_count": 128,
   "metadata": {},
   "outputs": [
    {
     "data": {
      "text/plain": [
       "17                 148\n",
       "18                 145\n",
       "19                 138\n",
       "20                 136\n",
       "15                 135\n",
       "16                 134\n",
       "21                 115\n",
       "22                 113\n",
       "24                 103\n",
       "25                 101\n",
       "14                  97\n",
       "13                  91\n",
       "23                  80\n",
       "26                  80\n",
       "27                  78\n",
       "28                  77\n",
       "29                  75\n",
       "30                  74\n",
       "12                  70\n",
       "32                  64\n",
       "35                  64\n",
       "10                  51\n",
       "31                  50\n",
       "40                  50\n",
       "38                  47\n",
       "34                  45\n",
       "43                  43\n",
       "36                  41\n",
       "33                  40\n",
       "37                  37\n",
       "                  ... \n",
       "33 & 37              1\n",
       "? & 19               1\n",
       "36 & 23              1\n",
       "87                   1\n",
       "18 to 22             1\n",
       "\"middle-age\"         1\n",
       "?    &   14          1\n",
       "18 or 20             1\n",
       "17 & 35              1\n",
       "46 & 34              1\n",
       "Ca. 33               1\n",
       "72                   1\n",
       "\"young\"              1\n",
       "32 & 30              1\n",
       "21 & ?               1\n",
       "50 & 30              1\n",
       "mid-30s              1\n",
       "A.M.                 1\n",
       "Teens                1\n",
       "23 & 20              1\n",
       "21, 34,24 & 35       1\n",
       "28 & 26              1\n",
       "23 & 26              1\n",
       "9 or 10              1\n",
       "(adult)              1\n",
       "18 months            1\n",
       "7      &    31       1\n",
       "30 or 36             1\n",
       "6Ω                   1\n",
       "MAKE LINE GREEN      1\n",
       "Name: Age, Length: 151, dtype: int64"
      ]
     },
     "execution_count": 128,
     "metadata": {},
     "output_type": "execute_result"
    }
   ],
   "source": [
    "dfc.Age.value_counts()"
   ]
  },
  {
   "cell_type": "code",
   "execution_count": null,
   "metadata": {},
   "outputs": [],
   "source": [
    "\n",
    "############################################################################"
   ]
  },
  {
   "cell_type": "code",
   "execution_count": null,
   "metadata": {},
   "outputs": [],
   "source": [
    "#dfc.Sex.value_counts()"
   ]
  },
  {
   "cell_type": "code",
   "execution_count": null,
   "metadata": {},
   "outputs": [],
   "source": [
    "#for e in df.Country:\n",
    " #   if r'/' in str(e):\n",
    "  #      pass\n",
    "   #     print(e)"
   ]
  },
  {
   "cell_type": "code",
   "execution_count": null,
   "metadata": {},
   "outputs": [],
   "source": [
    "#countries_count = df[\"Country\"].value_counts()\n",
    "#countries_count\n"
   ]
  },
  {
   "cell_type": "code",
   "execution_count": null,
   "metadata": {},
   "outputs": [],
   "source": []
  },
  {
   "cell_type": "code",
   "execution_count": null,
   "metadata": {},
   "outputs": [],
   "source": [
    "#df.Country.value_counts()"
   ]
  },
  {
   "cell_type": "code",
   "execution_count": 160,
   "metadata": {},
   "outputs": [
    {
     "data": {
      "text/plain": [
       "0"
      ]
     },
     "execution_count": 160,
     "metadata": {},
     "output_type": "execute_result"
    }
   ],
   "source": [
    "len([])"
   ]
  },
  {
   "cell_type": "code",
   "execution_count": null,
   "metadata": {},
   "outputs": [],
   "source": []
  }
 ],
 "metadata": {
  "kernelspec": {
   "display_name": "Python 3",
   "language": "python",
   "name": "python3"
  },
  "language_info": {
   "codemirror_mode": {
    "name": "ipython",
    "version": 3
   },
   "file_extension": ".py",
   "mimetype": "text/x-python",
   "name": "python",
   "nbconvert_exporter": "python",
   "pygments_lexer": "ipython3",
   "version": "3.7.1"
  }
 },
 "nbformat": 4,
 "nbformat_minor": 2
}

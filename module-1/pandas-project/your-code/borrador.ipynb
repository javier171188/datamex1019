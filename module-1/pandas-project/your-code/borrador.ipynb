{
 "cells": [
  {
   "cell_type": "code",
   "execution_count": 1,
   "metadata": {},
   "outputs": [],
   "source": [
    "# importar las bibliotecas necesarias\n",
    "import pandas as pd\n",
    "import re"
   ]
  },
  {
   "cell_type": "code",
   "execution_count": 2,
   "metadata": {},
   "outputs": [],
   "source": [
    "#leer el archivo\n",
    "df = pd.read_csv(\"attacksu.csv\")"
   ]
  },
  {
   "cell_type": "code",
   "execution_count": 8,
   "metadata": {},
   "outputs": [
    {
     "name": "stderr",
     "output_type": "stream",
     "text": [
      "C:\\Users\\Javier\\Anaconda3\\lib\\site-packages\\ipykernel_launcher.py:2: SettingWithCopyWarning: \n",
      "A value is trying to be set on a copy of a slice from a DataFrame\n",
      "\n",
      "See the caveats in the documentation: http://pandas.pydata.org/pandas-docs/stable/indexing.html#indexing-view-versus-copy\n",
      "  \n",
      "C:\\Users\\Javier\\Anaconda3\\lib\\site-packages\\ipykernel_launcher.py:3: SettingWithCopyWarning: \n",
      "A value is trying to be set on a copy of a slice from a DataFrame\n",
      "\n",
      "See the caveats in the documentation: http://pandas.pydata.org/pandas-docs/stable/indexing.html#indexing-view-versus-copy\n",
      "  This is separate from the ipykernel package so we can avoid doing imports until\n"
     ]
    }
   ],
   "source": [
    "#voy a atacar la columna type\n",
    "df.Type[df.Type.str.startswith('Bo')]='Boating'\n",
    "df.Type[df.Type.str.startswith('Inv')]='No information'"
   ]
  },
  {
   "cell_type": "code",
   "execution_count": 38,
   "metadata": {},
   "outputs": [],
   "source": [
    "#Ahora la columna Countries\n",
    "df.Country.fillna('No information', inplace = True)\n",
    "df.Country = df.Country.apply(lambda x: str(x).upper())\n",
    "#df.Country[df.Country.str.startswith('Usa')]='USA'"
   ]
  },
  {
   "cell_type": "code",
   "execution_count": 11,
   "metadata": {},
   "outputs": [],
   "source": [
    "def interr(s):\n",
    "    if '?' in str(s):\n",
    "        s = 'No information'\n",
    "    return s"
   ]
  },
  {
   "cell_type": "code",
   "execution_count": 12,
   "metadata": {},
   "outputs": [],
   "source": [
    "df.Country = df.Country.apply(interr)"
   ]
  },
  {
   "cell_type": "code",
   "execution_count": 16,
   "metadata": {},
   "outputs": [],
   "source": [
    "def amp(s):\n",
    "    s = s.replace('&', 'Y')\n",
    "    return s"
   ]
  },
  {
   "cell_type": "code",
   "execution_count": 17,
   "metadata": {},
   "outputs": [],
   "source": [
    "df.Country = df.Country.apply(amp)"
   ]
  },
  {
   "cell_type": "code",
   "execution_count": 19,
   "metadata": {},
   "outputs": [],
   "source": [
    "def spec(s):\n",
    "    if r'/' in s:\n",
    "        s = 'NO INFORMATION'\n",
    "    return s"
   ]
  },
  {
   "cell_type": "code",
   "execution_count": 20,
   "metadata": {},
   "outputs": [],
   "source": [
    "df.Country = df.Country.apply(spec)"
   ]
  },
  {
   "cell_type": "code",
   "execution_count": 21,
   "metadata": {},
   "outputs": [],
   "source": [
    "def ocean(s):\n",
    "    if 'OCEAN' in s or 'SEA' in s or 'BETWEEN' in s or 'GULF' in s or 'DIEGO GARCIA' in s:\n",
    "        s = 'NO INFORMATION'\n",
    "    elif 'ST. MAARTIN' in s:\n",
    "        s = 'ST. MAARTIN'\n",
    "    return s"
   ]
  },
  {
   "cell_type": "code",
   "execution_count": 22,
   "metadata": {},
   "outputs": [],
   "source": [
    "df.Country = df.Country.apply(ocean)"
   ]
  },
  {
   "cell_type": "code",
   "execution_count": 72,
   "metadata": {},
   "outputs": [],
   "source": [
    "esp_1 = lambda x: re.sub('^\\s', \"\", str(x))\n",
    "esp_2 = lambda x: re.sub('\\s$', \"\", str(x))\n",
    "df['Country'] = df['Country'].apply(esp_1)\n",
    "df['Country'] = df['Country'].apply(esp_2)"
   ]
  },
  {
   "cell_type": "code",
   "execution_count": null,
   "metadata": {},
   "outputs": [],
   "source": [
    "#Columna Sex"
   ]
  },
  {
   "cell_type": "code",
   "execution_count": 96,
   "metadata": {},
   "outputs": [
    {
     "data": {
      "text/plain": [
       "Index(['Case Number', 'Date', 'Year', 'Type', 'Country', 'Area', 'Location',\n",
       "       'Activity', 'Name', 'Sex', 'Age', 'Injury', 'Fatal (Y/N)', 'Time',\n",
       "       'Species ', 'Investigator or Source', 'pdf', 'href formula', 'href',\n",
       "       'Case Number.1', 'Case Number.2', 'original order', 'Unnamed: 22',\n",
       "       'Unnamed: 23'],\n",
       "      dtype='object')"
      ]
     },
     "execution_count": 96,
     "metadata": {},
     "output_type": "execute_result"
    }
   ],
   "source": [
    "dfc = df.rename(columns = {'Sex ':'Sex'})\n",
    "dfc.columns"
   ]
  },
  {
   "cell_type": "code",
   "execution_count": null,
   "metadata": {},
   "outputs": [],
   "source": []
  },
  {
   "cell_type": "code",
   "execution_count": 97,
   "metadata": {},
   "outputs": [],
   "source": [
    "def cleans(s):\n",
    "    if 'N' in str(s) or 'lli' in str(s) or r'.' in str(s):\n",
    "        s = 'No information'\n",
    "    return s"
   ]
  },
  {
   "cell_type": "code",
   "execution_count": 98,
   "metadata": {},
   "outputs": [],
   "source": [
    "dfc.Sex = dfc.Sex.apply(cleans)\n",
    "#"
   ]
  },
  {
   "cell_type": "code",
   "execution_count": 99,
   "metadata": {},
   "outputs": [
    {
     "data": {
      "text/plain": [
       "M                 4835\n",
       "F                  585\n",
       "No information       3\n",
       "M                    2\n",
       "Name: Sex, dtype: int64"
      ]
     },
     "execution_count": 99,
     "metadata": {},
     "output_type": "execute_result"
    }
   ],
   "source": [
    "dfc.Sex.value_counts()"
   ]
  },
  {
   "cell_type": "code",
   "execution_count": 100,
   "metadata": {},
   "outputs": [],
   "source": [
    "def male(s):\n",
    "    if 'M' in str(s):\n",
    "        s = 'M'\n",
    "    return s"
   ]
  },
  {
   "cell_type": "code",
   "execution_count": 101,
   "metadata": {},
   "outputs": [
    {
     "data": {
      "text/plain": [
       "M                 4837\n",
       "F                  585\n",
       "No information       3\n",
       "Name: Sex, dtype: int64"
      ]
     },
     "execution_count": 101,
     "metadata": {},
     "output_type": "execute_result"
    }
   ],
   "source": [
    "dfc.Sex = dfc.Sex.apply(male)\n",
    "dfc.Sex.value_counts()"
   ]
  },
  {
   "cell_type": "code",
   "execution_count": 102,
   "metadata": {},
   "outputs": [],
   "source": [
    "#Columna Fatal"
   ]
  },
  {
   "cell_type": "code",
   "execution_count": 103,
   "metadata": {},
   "outputs": [
    {
     "data": {
      "text/plain": [
       "N          4315\n",
       "Y          1552\n",
       "UNKNOWN      94\n",
       " N            8\n",
       "#VALUE!       1\n",
       "n             1\n",
       "F             1\n",
       "N             1\n",
       "Name: Fatal (Y/N), dtype: int64"
      ]
     },
     "execution_count": 103,
     "metadata": {},
     "output_type": "execute_result"
    }
   ],
   "source": [
    "dfc['Fatal (Y/N)'].value_counts()"
   ]
  },
  {
   "cell_type": "code",
   "execution_count": 104,
   "metadata": {},
   "outputs": [],
   "source": [
    "def fatal(s):\n",
    "    if 'UNKNOWN' in str(s):\n",
    "        s = 'No information'\n",
    "    elif 'N' in str(s) or 'n' in str(s) or 'F' in str(s):\n",
    "        s = 'N'\n",
    "    elif 'Y' in str(s):\n",
    "        s = 'Y'\n",
    "    else: \n",
    "        s = 'No information'\n",
    "    \n",
    "    return s"
   ]
  },
  {
   "cell_type": "code",
   "execution_count": 105,
   "metadata": {},
   "outputs": [
    {
     "data": {
      "text/plain": [
       "N                 4345\n",
       "Y                 1552\n",
       "No information      95\n",
       "Name: Fatal (Y/N), dtype: int64"
      ]
     },
     "execution_count": 105,
     "metadata": {},
     "output_type": "execute_result"
    }
   ],
   "source": [
    "dfc['Fatal (Y/N)'] = dfc['Fatal (Y/N)'].apply(fatal)\n",
    "dfc['Fatal (Y/N)'].value_counts()"
   ]
  },
  {
   "cell_type": "code",
   "execution_count": 106,
   "metadata": {},
   "outputs": [],
   "source": [
    "#####Activity"
   ]
  },
  {
   "cell_type": "code",
   "execution_count": 107,
   "metadata": {},
   "outputs": [
    {
     "data": {
      "text/plain": [
       "False    5465\n",
       "True      527\n",
       "Name: Activity, dtype: int64"
      ]
     },
     "execution_count": 107,
     "metadata": {},
     "output_type": "execute_result"
    }
   ],
   "source": [
    "dfc.Activity.isnull().value_counts()"
   ]
  },
  {
   "cell_type": "code",
   "execution_count": 108,
   "metadata": {},
   "outputs": [],
   "source": [
    "dfc.Activity.fillna('No information', inplace = True)"
   ]
  },
  {
   "cell_type": "code",
   "execution_count": 109,
   "metadata": {},
   "outputs": [],
   "source": [
    "##Aquí no sé que más hacer"
   ]
  },
  {
   "cell_type": "code",
   "execution_count": 110,
   "metadata": {},
   "outputs": [],
   "source": [
    "##Age"
   ]
  },
  {
   "cell_type": "code",
   "execution_count": 111,
   "metadata": {},
   "outputs": [],
   "source": [
    "dfc.Age = dfc.Age.apply(esp_1)\n",
    "dfc.Age = dfc.Age.apply(esp_2)"
   ]
  },
  {
   "cell_type": "code",
   "execution_count": 112,
   "metadata": {},
   "outputs": [],
   "source": [
    "\n",
    "def num(s):\n",
    "    a = re.findall('[\\d][\\d]',str(s))\n",
    "    \n",
    "    if len(a) == 1:\n",
    "        return s\n",
    "    else:\n",
    "        return 'No information'"
   ]
  },
  {
   "cell_type": "code",
   "execution_count": 114,
   "metadata": {},
   "outputs": [],
   "source": [
    "def num_d(s):\n",
    "    if len(str(s)) > 2:\n",
    "        return 'No information'\n",
    "    else: \n",
    "        return s"
   ]
  },
  {
   "cell_type": "code",
   "execution_count": 113,
   "metadata": {},
   "outputs": [],
   "source": [
    "dfc.Age = dfc.Age.apply(num_d)"
   ]
  },
  {
   "cell_type": "code",
   "execution_count": 116,
   "metadata": {},
   "outputs": [],
   "source": [
    "dfc.Age.fillna('No information', inplace = True)"
   ]
  },
  {
   "cell_type": "code",
   "execution_count": 117,
   "metadata": {},
   "outputs": [],
   "source": [
    "def let(s):\n",
    "    a = re.findall('\\D', str(s))\n",
    "    if len(a) !=0:\n",
    "        return 'No information'\n",
    "    else:\n",
    "        return s"
   ]
  },
  {
   "cell_type": "code",
   "execution_count": 120,
   "metadata": {},
   "outputs": [],
   "source": [
    "dfc.Age = dfc.Age.apply(let)"
   ]
  },
  {
   "cell_type": "code",
   "execution_count": 121,
   "metadata": {},
   "outputs": [],
   "source": [
    "def noesp(s):\n",
    "    if ' ' in s or '' == s:\n",
    "        return 'No information'\n",
    "    else:\n",
    "        return int(s)"
   ]
  },
  {
   "cell_type": "code",
   "execution_count": 122,
   "metadata": {},
   "outputs": [],
   "source": [
    "dfc.Age = dfc.Age.apply(noesp)"
   ]
  },
  {
   "cell_type": "code",
   "execution_count": null,
   "metadata": {},
   "outputs": [],
   "source": [
    "######  Species"
   ]
  },
  {
   "cell_type": "code",
   "execution_count": 196,
   "metadata": {},
   "outputs": [],
   "source": [
    "dfs = dfc.rename(columns = {'Species ':'Species'})\n"
   ]
  },
  {
   "cell_type": "code",
   "execution_count": 197,
   "metadata": {},
   "outputs": [],
   "source": [
    "dfs.Species.fillna('no information', inplace = True)"
   ]
  },
  {
   "cell_type": "code",
   "execution_count": 198,
   "metadata": {},
   "outputs": [],
   "source": [
    "dfs.Species = dfs.Species.apply(lambda x: str(x).lower())"
   ]
  },
  {
   "cell_type": "code",
   "execution_count": 199,
   "metadata": {},
   "outputs": [],
   "source": [
    "def nulsh(s):\n",
    "    if '?' in str(s) or 'not' in str(s):\n",
    "        s = 'no information'\n",
    "    return s"
   ]
  },
  {
   "cell_type": "code",
   "execution_count": 200,
   "metadata": {},
   "outputs": [],
   "source": [
    "dfs.Species = dfs.Species.apply(nulsh)"
   ]
  },
  {
   "cell_type": "code",
   "execution_count": 201,
   "metadata": {},
   "outputs": [],
   "source": [
    "dfs.Species = dfs.Species.apply(esp_1)\n",
    "dfs.Species = dfs.Species.apply(esp_2)"
   ]
  },
  {
   "cell_type": "code",
   "execution_count": 202,
   "metadata": {},
   "outputs": [],
   "source": [
    "def comsp(s):\n",
    "    if 'white' in s:\n",
    "        s = 'white'\n",
    "    elif 'mako' in s:\n",
    "            s= 'mako'\n",
    "    elif 'blue' in s:\n",
    "            s= 'blue'\n",
    "    elif 'blacktip' in s:\n",
    "            s = 'blacktip'\n",
    "    elif 'wobbegong' in s or 'wobegong' in s:\n",
    "            s = 'wobbegong'\n",
    "    elif 'No shark involvement' in s:\n",
    "            s = 'no information'\n",
    "    elif 'bull' in s:\n",
    "            s = 'bull'\n",
    "    elif 'tiger' in s:\n",
    "            s = 'tiger'\n",
    "    \n",
    "    return s"
   ]
  },
  {
   "cell_type": "code",
   "execution_count": 203,
   "metadata": {},
   "outputs": [],
   "source": [
    "dfs.Species = dfs.Species.apply(comsp)"
   ]
  },
  {
   "cell_type": "code",
   "execution_count": 194,
   "metadata": {},
   "outputs": [],
   "source": [
    "dfs.Species = dfs.Species.apply(lambda s: re.sub('[0-9]', '', s) )"
   ]
  },
  {
   "cell_type": "code",
   "execution_count": 204,
   "metadata": {},
   "outputs": [
    {
     "data": {
      "text/plain": [
       "no information                                                                                                                                                   3089\n",
       "white                                                                                                                                                             638\n",
       "tiger                                                                                                                                                             264\n",
       "bull                                                                                                                                                              172\n",
       "blacktip                                                                                                                                                           98\n",
       "blue                                                                                                                                                               56\n",
       "mako                                                                                                                                                               56\n",
       "wobbegong                                                                                                                                                          43\n",
       "6' shark                                                                                                                                                           40\n",
       "4' shark                                                                                                                                                           39\n",
       "1.8 m [6'] shark                                                                                                                                                   37\n",
       "1.5 m [5'] shark                                                                                                                                                   32\n",
       "1.2 m [4'] shark                                                                                                                                                   27\n",
       "3' shark                                                                                                                                                           25\n",
       "5' shark                                                                                                                                                           25\n",
       "4' to 5' shark                                                                                                                                                     23\n",
       "2 m shark                                                                                                                                                          22\n",
       "3 m [10'] shark                                                                                                                                                    22\n",
       "no shark involvement                                                                                                                                               21\n",
       "3' to 4' shark                                                                                                                                                     18\n",
       "3.7 m [12'] shark                                                                                                                                                  16\n",
       "3 m shark                                                                                                                                                          16\n",
       "2.4 m [8'] shark                                                                                                                                                   16\n",
       "\"a small shark\"                                                                                                                                                    15\n",
       "1.2 m to 1.5 m [4' to 5'] shark                                                                                                                                    14\n",
       "raggedtooth shark                                                                                                                                                  14\n",
       "12' shark                                                                                                                                                          14\n",
       "7' shark                                                                                                                                                           14\n",
       "1.5 m shark                                                                                                                                                        13\n",
       "10' shark                                                                                                                                                          13\n",
       "                                                                                                                                                                 ... \n",
       "whaler shark                                                                                                                                                        1\n",
       "c. macrurus captured 48 hours after attack with tissue removed from man in its gut; species identified by g.p. whitley,  reported as c. obscurus by  r. steel       1\n",
       "\"dog shark\"                                                                                                                                                         1\n",
       "3 m [10'], 270- kg [595-lb] shark                                                                                                                                   1\n",
       "local authorities speculated that the water was too cold for sharks, but a 2.1 m [7'], 200-lb pregnant sandbar shark was caught next day                            1\n",
       "caribbean reef sharks                                                                                                                                               1\n",
       "1' to 2' shark                                                                                                                                                      1\n",
       "440-lb shark                                                                                                                                                        1\n",
       "2.7 m [9'] shark later captured by mitchell-hedges                                                                                                                  1\n",
       "port jackson shark, 1m                                                                                                                                              1\n",
       "1.2 m [4'], possibly  larger shark                                                                                                                                  1\n",
       "nurse shark, 1.5 m [5']  identified by dr. e. clark on description of shark                                                                                         1\n",
       "salmon shark suspected, but unlikely                                                                                                                                1\n",
       "1.8 m to 2.4 m [6' to 8'] \"black finned shark\"                                                                                                                      1\n",
       "a small hammerhead shark                                                                                                                                            1\n",
       "3 m [10'] sharks                                                                                                                                                    1\n",
       "1' to 4' shark                                                                                                                                                      1\n",
       "said to involve a 2.4 m [8'] hammerhead shark                                                                                                                       1\n",
       "1.2 m [4'] \"grey-colored shark\"                                                                                                                                     1\n",
       "\"a pack of sharks\"                                                                                                                                                  1\n",
       "grey nurse shark, 2.7 m [9']                                                                                                                                        1\n",
       "nurse shark, 60 cm [24\"], identified by dr. l.p. l. schultz on photograph                                                                                           1\n",
       "15* to 24\" dog shark                                                                                                                                                1\n",
       "possibly a  1.8 m [6'] zambezi shark                                                                                                                                1\n",
       "1.2 m to 1.8 m [4' to 6'] shark                                                                                                                                     1\n",
       "2.1 m [7'] shark, a shark's serrated tooth recovered from toe                                                                                                       1\n",
       "grey reef shark, 1.5 m                                                                                                                                              1\n",
       "1.8 m [6'] dogfish                                                                                                                                                  1\n",
       "2.1 m [7'], 140-lb reef shark                                                                                                                                       1\n",
       "lemon shark, 1.8 m [6'] male, n. breviostris, identified by w.a. stark ii, later the same day a 6'8\" pregnant female lemon shark bit the bow of the boat            1\n",
       "Name: Species, Length: 751, dtype: int64"
      ]
     },
     "execution_count": 204,
     "metadata": {},
     "output_type": "execute_result"
    }
   ],
   "source": [
    "dfs.Species.value_counts()"
   ]
  },
  {
   "cell_type": "code",
   "execution_count": null,
   "metadata": {},
   "outputs": [],
   "source": []
  },
  {
   "cell_type": "code",
   "execution_count": null,
   "metadata": {},
   "outputs": [],
   "source": [
    "\n",
    "############################################################################"
   ]
  },
  {
   "cell_type": "code",
   "execution_count": null,
   "metadata": {},
   "outputs": [],
   "source": [
    "dfc.Sex.value_counts()"
   ]
  },
  {
   "cell_type": "code",
   "execution_count": null,
   "metadata": {},
   "outputs": [],
   "source": [
    "#for e in df.Country:\n",
    " #   if r'/' in str(e):\n",
    "  #      pass\n",
    "   #     print(e)"
   ]
  },
  {
   "cell_type": "code",
   "execution_count": null,
   "metadata": {},
   "outputs": [],
   "source": [
    "#countries_count = df[\"Country\"].value_counts()\n",
    "#countries_count\n"
   ]
  },
  {
   "cell_type": "code",
   "execution_count": null,
   "metadata": {},
   "outputs": [],
   "source": []
  },
  {
   "cell_type": "code",
   "execution_count": null,
   "metadata": {},
   "outputs": [],
   "source": [
    "#df.Country.value_counts()"
   ]
  },
  {
   "cell_type": "code",
   "execution_count": null,
   "metadata": {},
   "outputs": [],
   "source": [
    "len([])"
   ]
  },
  {
   "cell_type": "code",
   "execution_count": 81,
   "metadata": {},
   "outputs": [
    {
     "data": {
      "text/plain": [
       "No information    2772\n",
       "17                 148\n",
       "18                 145\n",
       "19                 138\n",
       "20                 136\n",
       "15                 135\n",
       "16                 134\n",
       "21                 115\n",
       "22                 113\n",
       "24                 103\n",
       "25                 101\n",
       "14                  97\n",
       "13                  91\n",
       "23                  80\n",
       "26                  80\n",
       "27                  78\n",
       "28                  77\n",
       "29                  75\n",
       "30                  74\n",
       "12                  70\n",
       "35                  64\n",
       "32                  64\n",
       "10                  51\n",
       "31                  50\n",
       "40                  50\n",
       "38                  47\n",
       "34                  45\n",
       "43                  43\n",
       "36                  41\n",
       "33                  40\n",
       "                  ... \n",
       "56                   9\n",
       "69                   8\n",
       "62                   8\n",
       "5                    7\n",
       "70                   6\n",
       "68                   6\n",
       "3                    4\n",
       "65                   4\n",
       "64                   4\n",
       "71                   3\n",
       "77                   3\n",
       "                     3\n",
       "66                   3\n",
       "78                   2\n",
       "74                   2\n",
       "1                    2\n",
       "75                   2\n",
       "F                    2\n",
       "2Ω                   1\n",
       "87                   1\n",
       "86                   1\n",
       "72                   1\n",
       "X                    1\n",
       "67                   1\n",
       "84                   1\n",
       "M                    1\n",
       "73                   1\n",
       "†                    1\n",
       "6Ω                   1\n",
       "81                   1\n",
       "Name: Age, Length: 87, dtype: int64"
      ]
     },
     "execution_count": 81,
     "metadata": {},
     "output_type": "execute_result"
    }
   ],
   "source": [
    "dfc.Age.value_counts()"
   ]
  },
  {
   "cell_type": "code",
   "execution_count": null,
   "metadata": {},
   "outputs": [],
   "source": []
  }
 ],
 "metadata": {
  "kernelspec": {
   "display_name": "Python 3",
   "language": "python",
   "name": "python3"
  },
  "language_info": {
   "codemirror_mode": {
    "name": "ipython",
    "version": 3
   },
   "file_extension": ".py",
   "mimetype": "text/x-python",
   "name": "python",
   "nbconvert_exporter": "python",
   "pygments_lexer": "ipython3",
   "version": "3.7.1"
  }
 },
 "nbformat": 4,
 "nbformat_minor": 2
}

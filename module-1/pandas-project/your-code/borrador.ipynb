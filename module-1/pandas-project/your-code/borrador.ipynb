{
 "cells": [
  {
   "cell_type": "code",
   "execution_count": 4,
   "metadata": {},
   "outputs": [],
   "source": [
    "# importar las bibliotecas necesarias\n",
    "import pandas as pd\n",
    "import re"
   ]
  },
  {
   "cell_type": "code",
   "execution_count": 41,
   "metadata": {},
   "outputs": [],
   "source": [
    "#leer el archivo\n",
    "df = pd.read_csv(\"attacksu.csv\")"
   ]
  },
  {
   "cell_type": "code",
   "execution_count": 42,
   "metadata": {},
   "outputs": [
    {
     "name": "stderr",
     "output_type": "stream",
     "text": [
      "C:\\Users\\Javier\\Anaconda3\\lib\\site-packages\\ipykernel_launcher.py:2: SettingWithCopyWarning: \n",
      "A value is trying to be set on a copy of a slice from a DataFrame\n",
      "\n",
      "See the caveats in the documentation: http://pandas.pydata.org/pandas-docs/stable/indexing.html#indexing-view-versus-copy\n",
      "  \n"
     ]
    }
   ],
   "source": [
    "#voy a atacar la columna type\n",
    "df.Type[df.Type.str.startswith('Bo')]='Boating'\n"
   ]
  },
  {
   "cell_type": "code",
   "execution_count": 49,
   "metadata": {},
   "outputs": [],
   "source": [
    "#Ahora la columna Countries\n",
    "df.Country = df.Country.apply(lambda x: str(x).upper())\n",
    "#df.Country[df.Country.str.startswith('Usa')]='USA'"
   ]
  },
  {
   "cell_type": "code",
   "execution_count": 50,
   "metadata": {},
   "outputs": [],
   "source": [
    "def interr(s):\n",
    "    if '?' in str(s):\n",
    "        s = 'No information'\n",
    "    return s"
   ]
  },
  {
   "cell_type": "code",
   "execution_count": 51,
   "metadata": {},
   "outputs": [],
   "source": [
    "df.Country = df.Country.apply(interr)"
   ]
  },
  {
   "cell_type": "code",
   "execution_count": 52,
   "metadata": {},
   "outputs": [],
   "source": [
    "def amp(s):\n",
    "    s = s.replace('&', 'Y')\n",
    "    return s"
   ]
  },
  {
   "cell_type": "code",
   "execution_count": 53,
   "metadata": {},
   "outputs": [],
   "source": [
    "df.Country = df.Country.apply(amp)"
   ]
  },
  {
   "cell_type": "code",
   "execution_count": 111,
   "metadata": {},
   "outputs": [],
   "source": [
    "def spec(s):\n",
    "    if r'/' in s:\n",
    "        s = 'NO INFORMATION'\n",
    "    return s"
   ]
  },
  {
   "cell_type": "code",
   "execution_count": 112,
   "metadata": {},
   "outputs": [],
   "source": [
    "df.Country = df.Country.apply(spec)"
   ]
  },
  {
   "cell_type": "code",
   "execution_count": 123,
   "metadata": {},
   "outputs": [],
   "source": [
    "def ocean(s):\n",
    "    if 'OCEAN' in s or 'SEA' in s or 'BETWEEN' in s:\n",
    "        s = 'NO INFORMATION'\n",
    "    return s"
   ]
  },
  {
   "cell_type": "code",
   "execution_count": 165,
   "metadata": {},
   "outputs": [],
   "source": [
    "df.Country = df.Country.apply(ocean)"
   ]
  },
  {
   "cell_type": "code",
   "execution_count": 178,
   "metadata": {},
   "outputs": [
    {
     "data": {
      "text/plain": [
       "Index(['Case Number', 'Date', 'Year', 'Type', 'Country', 'Area', 'Location',\n",
       "       'Activity', 'Name', 'Sex ', 'Age', 'Injury', 'Fatal (Y/N)', 'Time',\n",
       "       'Species ', 'Investigator or Source', 'pdf', 'href formula', 'href',\n",
       "       'Case Number.1', 'Case Number.2', 'original order', 'Unnamed: 22',\n",
       "       'Unnamed: 23'],\n",
       "      dtype='object')"
      ]
     },
     "execution_count": 178,
     "metadata": {},
     "output_type": "execute_result"
    }
   ],
   "source": []
  },
  {
   "cell_type": "code",
   "execution_count": 120,
   "metadata": {},
   "outputs": [],
   "source": [
    "#Columna Sex"
   ]
  },
  {
   "cell_type": "code",
   "execution_count": 184,
   "metadata": {},
   "outputs": [
    {
     "data": {
      "text/plain": [
       "Index(['Case Number', 'Date', 'Year', 'Type', 'Country', 'Area', 'Location',\n",
       "       'Activity', 'Name', 'Sex', 'Age', 'Injury', 'Fatal (Y/N)', 'Time',\n",
       "       'Species ', 'Investigator or Source', 'pdf', 'href formula', 'href',\n",
       "       'Case Number.1', 'Case Number.2', 'original order', 'Unnamed: 22',\n",
       "       'Unnamed: 23'],\n",
       "      dtype='object')"
      ]
     },
     "execution_count": 184,
     "metadata": {},
     "output_type": "execute_result"
    }
   ],
   "source": [
    "dfc = df.rename(columns = {'Sex ':'Sex'})\n",
    "dfc.columns"
   ]
  },
  {
   "cell_type": "code",
   "execution_count": 188,
   "metadata": {},
   "outputs": [
    {
     "data": {
      "text/plain": [
       "M      4835\n",
       "F       585\n",
       "M         2\n",
       "N         1\n",
       "lli       1\n",
       ".         1\n",
       "Name: Sex , dtype: int64"
      ]
     },
     "execution_count": 188,
     "metadata": {},
     "output_type": "execute_result"
    }
   ],
   "source": []
  },
  {
   "cell_type": "code",
   "execution_count": 192,
   "metadata": {},
   "outputs": [],
   "source": [
    "def cleans(s):\n",
    "    if 'N' in str(s) or 'lli' in str(s) or r'.' in str(s):\n",
    "        s = 'No information'\n",
    "    return s"
   ]
  },
  {
   "cell_type": "code",
   "execution_count": 193,
   "metadata": {},
   "outputs": [],
   "source": [
    "dfc.Sex = dfc.Sex.apply(cleans)\n",
    "#"
   ]
  },
  {
   "cell_type": "code",
   "execution_count": 195,
   "metadata": {},
   "outputs": [
    {
     "data": {
      "text/plain": [
       "M                 4835\n",
       "F                  585\n",
       "No information       3\n",
       "M                    2\n",
       "Name: Sex, dtype: int64"
      ]
     },
     "execution_count": 195,
     "metadata": {},
     "output_type": "execute_result"
    }
   ],
   "source": [
    "dfc.Sex.value_counts()"
   ]
  },
  {
   "cell_type": "code",
   "execution_count": 199,
   "metadata": {},
   "outputs": [],
   "source": [
    "def male(s):\n",
    "    if 'M' in str(s):\n",
    "        s = 'M'\n",
    "    return s"
   ]
  },
  {
   "cell_type": "code",
   "execution_count": 202,
   "metadata": {},
   "outputs": [
    {
     "data": {
      "text/plain": [
       "M                 4837\n",
       "F                  585\n",
       "No information       3\n",
       "Name: Sex, dtype: int64"
      ]
     },
     "execution_count": 202,
     "metadata": {},
     "output_type": "execute_result"
    }
   ],
   "source": [
    "dfc.Sex = dfc.Sex.apply(male)\n",
    "dfc.Sex.value_counts()"
   ]
  },
  {
   "cell_type": "code",
   "execution_count": null,
   "metadata": {},
   "outputs": [],
   "source": [
    "######"
   ]
  },
  {
   "cell_type": "code",
   "execution_count": 54,
   "metadata": {},
   "outputs": [],
   "source": [
    "############################################################################"
   ]
  },
  {
   "cell_type": "code",
   "execution_count": 151,
   "metadata": {},
   "outputs": [
    {
     "data": {
      "text/plain": [
       "M      4835\n",
       "F       585\n",
       "M         2\n",
       "N         1\n",
       "lli       1\n",
       ".         1\n",
       "Name: Sex, dtype: int64"
      ]
     },
     "execution_count": 151,
     "metadata": {},
     "output_type": "execute_result"
    }
   ],
   "source": [
    "dfc.Sex.value_counts()"
   ]
  },
  {
   "cell_type": "code",
   "execution_count": 110,
   "metadata": {},
   "outputs": [
    {
     "name": "stdout",
     "output_type": "stream",
     "text": [
      "EGYPT / ISRAEL\n",
      "RED SEA / INDIAN OCEAN\n",
      "ANDAMAN / NICOBAR ISLANDAS\n",
      "IRAN / IRAQ\n",
      "SOLOMON ISLANDS / VANUATU\n",
      "ITALY / CROATIA\n",
      "EQUATORIAL GUINEA / CAMEROON\n"
     ]
    }
   ],
   "source": [
    "for e in df.Country:\n",
    "    if r'/' in str(e):\n",
    "        pass\n",
    "        print(e)"
   ]
  },
  {
   "cell_type": "code",
   "execution_count": 98,
   "metadata": {},
   "outputs": [],
   "source": [
    "countries_count = df[\"Country\"].value_counts()\n",
    "#countries_count\n"
   ]
  },
  {
   "cell_type": "code",
   "execution_count": null,
   "metadata": {},
   "outputs": [],
   "source": []
  },
  {
   "cell_type": "code",
   "execution_count": 113,
   "metadata": {},
   "outputs": [
    {
     "data": {
      "text/plain": [
       "USA                         2116\n",
       "AUSTRALIA                   1279\n",
       "SOUTH AFRICA                 565\n",
       "PAPUA NEW GUINEA             133\n",
       "NEW ZEALAND                  125\n",
       "BRAZIL                       102\n",
       "BAHAMAS                       98\n",
       "MEXICO                        81\n",
       "ITALY                         71\n",
       "FIJI                          65\n",
       "PHILIPPINES                   59\n",
       "REUNION                       57\n",
       "NEW CALEDONIA                 51\n",
       "MOZAMBIQUE                    44\n",
       "NAN                           43\n",
       "CUBA                          42\n",
       "SPAIN                         40\n",
       "INDIA                         37\n",
       "EGYPT                         36\n",
       "CROATIA                       34\n",
       "JAPAN                         32\n",
       "PANAMA                        32\n",
       "IRAN                          29\n",
       "SOLOMON ISLANDS               29\n",
       "GREECE                        25\n",
       "HONG KONG                     24\n",
       "JAMAICA                       23\n",
       "FRENCH POLYNESIA              22\n",
       "INDONESIA                     20\n",
       "ENGLAND                       19\n",
       "                            ... \n",
       "GRAND CAYMAN                   1\n",
       "ICELAND                        1\n",
       "TUVALU                         1\n",
       "ARUBA                          1\n",
       "GEORGIA                        1\n",
       "NETHERLANDS ANTILLES           1\n",
       "GULF OF ADEN                   1\n",
       "CURACAO                        1\n",
       "COOK ISLANDS                   1\n",
       "SYRIA                          1\n",
       "ADMIRALTY ISLANDS              1\n",
       "MONACO                         1\n",
       "MID-PACIFC OCEAN               1\n",
       "NORTHERN MARIANA ISLANDS       1\n",
       "NORTHERN ARABIAN SEA           1\n",
       "ST. MARTIN                     1\n",
       "GHANA                          1\n",
       "PALESTINIAN TERRITORIES        1\n",
       "BAHREIN                        1\n",
       "NORTH ATLANTIC OCEAN           1\n",
       "ALGERIA                        1\n",
       "BRITISH ISLES                  1\n",
       "ARGENTINA                      1\n",
       "SOUTH CHINA SEA                1\n",
       "NORTH SEA                      1\n",
       "UNITED ARAB EMIRATES           1\n",
       "BRITISH NEW GUINEA             1\n",
       "PARAGUAY                       1\n",
       "GUATEMALA                      1\n",
       "KUWAIT                         1\n",
       "Name: Country, Length: 190, dtype: int64"
      ]
     },
     "execution_count": 113,
     "metadata": {},
     "output_type": "execute_result"
    }
   ],
   "source": [
    "df.Country.value_counts()"
   ]
  },
  {
   "cell_type": "code",
   "execution_count": null,
   "metadata": {},
   "outputs": [],
   "source": []
  }
 ],
 "metadata": {
  "kernelspec": {
   "display_name": "Python 3",
   "language": "python",
   "name": "python3"
  },
  "language_info": {
   "codemirror_mode": {
    "name": "ipython",
    "version": 3
   },
   "file_extension": ".py",
   "mimetype": "text/x-python",
   "name": "python",
   "nbconvert_exporter": "python",
   "pygments_lexer": "ipython3",
   "version": "3.7.1"
  }
 },
 "nbformat": 4,
 "nbformat_minor": 2
}

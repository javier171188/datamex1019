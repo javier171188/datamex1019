{
 "cells": [
  {
   "cell_type": "code",
   "execution_count": 3,
   "metadata": {},
   "outputs": [],
   "source": [
    "class Animal:\n",
    "    def __init__(self, name='Bob', sonido='sin'):\n",
    "        self.name=name\n",
    "        self.sonido=sonido\n",
    "        \n",
    "    def say_my_name(self):\n",
    "        print ('Mi nombre es {}'.format(self.name))\n",
    "        \n",
    "    def __str__(self):\n",
    "        return 'Hola soy: '+self.name+'!'\n",
    "    \n",
    "\n",
    "    \n",
    "class Perro(Animal):\n",
    "    def __init__(self, name='Chucho', raza='Nisu'):\n",
    "        Animal.__init__(self, name+'🐶')\n",
    "        self.raza=raza"
   ]
  },
  {
   "cell_type": "code",
   "execution_count": null,
   "metadata": {},
   "outputs": [],
   "source": []
  },
  {
   "cell_type": "code",
   "execution_count": null,
   "metadata": {},
   "outputs": [],
   "source": []
  }
 ],
 "metadata": {
  "kernelspec": {
   "display_name": "Python 3",
   "language": "python",
   "name": "python3"
  },
  "language_info": {
   "codemirror_mode": {
    "name": "ipython",
    "version": 3
   },
   "file_extension": ".py",
   "mimetype": "text/x-python",
   "name": "python",
   "nbconvert_exporter": "python",
   "pygments_lexer": "ipython3",
   "version": "3.7.1"
  }
 },
 "nbformat": 4,
 "nbformat_minor": 2
}

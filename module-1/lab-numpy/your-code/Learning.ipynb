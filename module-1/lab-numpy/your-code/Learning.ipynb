{
 "cells": [
  {
   "cell_type": "markdown",
   "metadata": {},
   "source": [
    "# Introduction to Numpy\n",
    "\n",
    "Lesson Goals\n",
    "\n",
    "    Learn about Numpy data structures.\n",
    "    Extract data from Numpy arrays.\n",
    "    Convert other Python data structures to Numpy arrays.\n",
    "    Perform basic mathematical functions on arrays and elements.\n",
    "\n",
    "Introduction\n",
    "\n",
    "Many of the libraries you will use to perform data analysis in Python, as well as many of the mathematical functions you'll use, will involve working with Numpy. Numpy (short for Numerical Python) is used for numeric computing and includes support for multi-dimensional arrays and matrices along with a variety of mathematical functions to apply to them. In this lesson, we will learn about Numpy's primary data structures and how to apply some basic math functions to them.\n",
    "Importing Numpy\n",
    "\n",
    "In order to use Numpy, you must first import it. It is common to also alias it to np using the as keyword so that you don't have to spell out \"numpy\" every time you want to call one of its methods. "
   ]
  },
  {
   "cell_type": "code",
   "execution_count": 1,
   "metadata": {},
   "outputs": [],
   "source": [
    "import numpy as np"
   ]
  },
  {
   "cell_type": "markdown",
   "metadata": {},
   "source": [
    "Once the library has been imported, it is ready to use.\n",
    "Numpy Arrays\n",
    "\n",
    "The basic data structures in Numpy are arrays, which can be used to represent tabular data. You can think of arrays as lists of lists, where all the elements of a list are of the same type (typically numeric since the reason you use Numpy is to do numeric computing). A matrix is just a two-dimensional array.\n",
    "\n",
    "The size of an array is the total number of elements in every list. The shape of an array is the size of the array along each dimension (e.g. number of rows and number of columns for a two-dimensional array). Let's create a two dimensional 10 x 4 array containing random numbers and calculate the shape and size of the array using the shape and size methods. "
   ]
  },
  {
   "cell_type": "code",
   "execution_count": 2,
   "metadata": {},
   "outputs": [
    {
     "name": "stdout",
     "output_type": "stream",
     "text": [
      "[[0.98114342 0.37493065 0.29490947 0.83523605]\n",
      " [0.15688171 0.92341616 0.34675759 0.00528301]\n",
      " [0.44633707 0.68078407 0.43018183 0.59239011]\n",
      " [0.25999655 0.11552823 0.94971857 0.77357234]\n",
      " [0.94995617 0.25291384 0.03885503 0.99315703]\n",
      " [0.79363725 0.22387529 0.43382687 0.94865087]\n",
      " [0.52159077 0.86805582 0.58212385 0.08437744]\n",
      " [0.42636504 0.38742146 0.56490488 0.81193702]\n",
      " [0.27529451 0.95611266 0.33757149 0.80061921]\n",
      " [0.88396984 0.05703623 0.98957671 0.07590528]]\n"
     ]
    }
   ],
   "source": [
    "a = np.random.random((10,4))\n",
    "print(a)"
   ]
  },
  {
   "cell_type": "code",
   "execution_count": 3,
   "metadata": {},
   "outputs": [
    {
     "name": "stdout",
     "output_type": "stream",
     "text": [
      "(10, 4)\n",
      "40\n"
     ]
    }
   ],
   "source": [
    "print(a.shape)\n",
    "print(a.size)"
   ]
  },
  {
   "cell_type": "markdown",
   "metadata": {},
   "source": [
    "As you can see, the array has a shape of 10 x 4 (just as we specified) and the total number of elements in the array is 40.\n",
    "\n",
    "Now that we have seen an example of a basic two-dimensional array (a matrix), let's learn about how creating arrays with more dimensions than two works in Numpy. Let's build a three-dimensional array of random numbers and see what that looks like."
   ]
  },
  {
   "cell_type": "code",
   "execution_count": 4,
   "metadata": {},
   "outputs": [
    {
     "name": "stdout",
     "output_type": "stream",
     "text": [
      "[[[0.3267356  0.32026305 0.82904988]\n",
      "  [0.87759247 0.10725724 0.62482011]]\n",
      "\n",
      " [[0.9021219  0.41452302 0.30904702]\n",
      "  [0.59955549 0.53740305 0.34347581]]\n",
      "\n",
      " [[0.36205737 0.02228466 0.65430101]\n",
      "  [0.69812701 0.65977974 0.31924834]]\n",
      "\n",
      " [[0.98935535 0.44481101 0.05622104]\n",
      "  [0.16465626 0.32114707 0.04573807]]\n",
      "\n",
      " [[0.79666414 0.03392663 0.19780083]\n",
      "  [0.51966966 0.81698569 0.80626581]]]\n"
     ]
    }
   ],
   "source": [
    "b = np.random.random((5,2,3))\n",
    "print(b)"
   ]
  },
  {
   "cell_type": "markdown",
   "metadata": {},
   "source": [
    "This created an array with five groups of 2 x 3 matrices. Let's see what happens if we pass four dimensions."
   ]
  },
  {
   "cell_type": "code",
   "execution_count": 5,
   "metadata": {},
   "outputs": [
    {
     "name": "stdout",
     "output_type": "stream",
     "text": [
      "[[[[0.99272033 0.04456831 0.26268715 0.14209479 0.68451506]\n",
      "   [0.61555284 0.3967229  0.53301792 0.95603718 0.36249466]\n",
      "   [0.5259538  0.72108927 0.55246411 0.03500329 0.24401701]\n",
      "   [0.81453828 0.84575786 0.39453212 0.74035051 0.67775551]]\n",
      "\n",
      "  [[0.74616469 0.23836887 0.67732386 0.98405554 0.27110452]\n",
      "   [0.30240821 0.62453297 0.30007127 0.79845493 0.67672837]\n",
      "   [0.73874678 0.45346956 0.88346343 0.58798586 0.65821473]\n",
      "   [0.64733909 0.06936304 0.50324249 0.26083157 0.99433447]]\n",
      "\n",
      "  [[0.00981721 0.63630588 0.01889124 0.12029413 0.57115538]\n",
      "   [0.39318184 0.45835923 0.03165264 0.46800581 0.15735012]\n",
      "   [0.61518452 0.34089877 0.37796696 0.64530181 0.62139463]\n",
      "   [0.45577481 0.30421948 0.47586335 0.33532424 0.52698328]]]\n",
      "\n",
      "\n",
      " [[[0.48283297 0.0269863  0.15255012 0.60102018 0.54363026]\n",
      "   [0.76355924 0.850354   0.27046271 0.63141605 0.47407866]\n",
      "   [0.05936148 0.59645977 0.10554204 0.17082214 0.10372089]\n",
      "   [0.95725213 0.85860462 0.79998862 0.02085165 0.02576095]]\n",
      "\n",
      "  [[0.33519162 0.05166682 0.66125051 0.41528515 0.26400869]\n",
      "   [0.74811681 0.45491097 0.05885635 0.5524774  0.20346101]\n",
      "   [0.75661313 0.96110931 0.56165939 0.72411863 0.2887207 ]\n",
      "   [0.33339057 0.23940467 0.83457475 0.652749   0.69608454]]\n",
      "\n",
      "  [[0.51240838 0.11602082 0.45438716 0.80269937 0.12814413]\n",
      "   [0.82119168 0.32905648 0.78884046 0.05623489 0.20547762]\n",
      "   [0.89498377 0.21458111 0.32534659 0.91605994 0.37291494]\n",
      "   [0.41510566 0.61948177 0.4600056  0.49973635 0.72529147]]]]\n"
     ]
    }
   ],
   "source": [
    "c = np.random.random((2,3,4,5))\n",
    "print(c)"
   ]
  },
  {
   "cell_type": "markdown",
   "metadata": {},
   "source": [
    "This time, we got two groups of three 4 x 5 matrices.\n",
    "\n",
    "\n",
    "# Extracting Data from Arrays\n",
    "\n",
    "Extracting elements from arrays works just like it does for other Python data structures. We just need to reference the indexes of the values we want to extract. Below are some examples of how to reference specific rows, columns, and values in a two dimensional array."
   ]
  },
  {
   "cell_type": "code",
   "execution_count": 6,
   "metadata": {},
   "outputs": [
    {
     "name": "stdout",
     "output_type": "stream",
     "text": [
      "[0.98114342 0.37493065 0.29490947 0.83523605]\n"
     ]
    }
   ],
   "source": [
    "# First row of matrix a\n",
    "print(a[0])"
   ]
  },
  {
   "cell_type": "code",
   "execution_count": 7,
   "metadata": {},
   "outputs": [
    {
     "name": "stdout",
     "output_type": "stream",
     "text": [
      "[0.98114342 0.15688171 0.44633707 0.25999655 0.94995617 0.79363725\n",
      " 0.52159077 0.42636504 0.27529451 0.88396984]\n"
     ]
    }
   ],
   "source": [
    "# First column of matrix a\n",
    "print(a[:,0])"
   ]
  },
  {
   "cell_type": "code",
   "execution_count": 8,
   "metadata": {},
   "outputs": [
    {
     "name": "stdout",
     "output_type": "stream",
     "text": [
      "0.03885502566204646\n"
     ]
    }
   ],
   "source": [
    "# Value in the fifth row and third column of matrix a\n",
    "print(a[4,2])"
   ]
  },
  {
   "cell_type": "markdown",
   "metadata": {},
   "source": [
    "What about arrays that have more than two dimensions? You just pass a list of indexes for the values you want, and it will return the corresponding dimensions or values."
   ]
  },
  {
   "cell_type": "code",
   "execution_count": 9,
   "metadata": {},
   "outputs": [
    {
     "name": "stdout",
     "output_type": "stream",
     "text": [
      "[[[0.99272033 0.04456831 0.26268715 0.14209479 0.68451506]\n",
      "  [0.61555284 0.3967229  0.53301792 0.95603718 0.36249466]\n",
      "  [0.5259538  0.72108927 0.55246411 0.03500329 0.24401701]\n",
      "  [0.81453828 0.84575786 0.39453212 0.74035051 0.67775551]]\n",
      "\n",
      " [[0.74616469 0.23836887 0.67732386 0.98405554 0.27110452]\n",
      "  [0.30240821 0.62453297 0.30007127 0.79845493 0.67672837]\n",
      "  [0.73874678 0.45346956 0.88346343 0.58798586 0.65821473]\n",
      "  [0.64733909 0.06936304 0.50324249 0.26083157 0.99433447]]\n",
      "\n",
      " [[0.00981721 0.63630588 0.01889124 0.12029413 0.57115538]\n",
      "  [0.39318184 0.45835923 0.03165264 0.46800581 0.15735012]\n",
      "  [0.61518452 0.34089877 0.37796696 0.64530181 0.62139463]\n",
      "  [0.45577481 0.30421948 0.47586335 0.33532424 0.52698328]]]\n"
     ]
    }
   ],
   "source": [
    "# First group of array c\n",
    "print(c[0])"
   ]
  },
  {
   "cell_type": "code",
   "execution_count": 10,
   "metadata": {},
   "outputs": [
    {
     "name": "stdout",
     "output_type": "stream",
     "text": [
      "[[0.74616469 0.23836887 0.67732386 0.98405554 0.27110452]\n",
      " [0.30240821 0.62453297 0.30007127 0.79845493 0.67672837]\n",
      " [0.73874678 0.45346956 0.88346343 0.58798586 0.65821473]\n",
      " [0.64733909 0.06936304 0.50324249 0.26083157 0.99433447]]\n"
     ]
    }
   ],
   "source": [
    "# Second subgroup of the first group\n",
    "print(c[0,1])"
   ]
  },
  {
   "cell_type": "code",
   "execution_count": 11,
   "metadata": {},
   "outputs": [
    {
     "name": "stdout",
     "output_type": "stream",
     "text": [
      "[0.73874678 0.45346956 0.88346343 0.58798586 0.65821473]\n"
     ]
    }
   ],
   "source": [
    "# Third row of the second subgroup\n",
    "print(c[0,1,2])"
   ]
  },
  {
   "cell_type": "code",
   "execution_count": 12,
   "metadata": {},
   "outputs": [
    {
     "name": "stdout",
     "output_type": "stream",
     "text": [
      "[0.70165421 0.40798406 0.00312349 0.62270584]\n"
     ]
    }
   ],
   "source": [
    "# Fourth column of the second subgroup\n",
    "print(c[0,1,:,3])"
   ]
  },
  {
   "cell_type": "code",
   "execution_count": 12,
   "metadata": {},
   "outputs": [
    {
     "name": "stdout",
     "output_type": "stream",
     "text": [
      "0.5879858589902041\n"
     ]
    }
   ],
   "source": [
    "# Value in the third row and fourth column of the second subgroup\n",
    "print(c[0,1,2,3])"
   ]
  },
  {
   "cell_type": "markdown",
   "metadata": {},
   "source": [
    "# Converting Other Data Structures to Arrays\n",
    "\n",
    "If you have data in another type of data structure and you would like to convert it to an array so that you can take advantage of Numpy's mathematical functions, you can convert them using the array() method as follows. "
   ]
  },
  {
   "cell_type": "code",
   "execution_count": 13,
   "metadata": {},
   "outputs": [
    {
     "name": "stdout",
     "output_type": "stream",
     "text": [
      "[[1 2 3]\n",
      " [4 5 6]\n",
      " [7 8 9]]\n"
     ]
    }
   ],
   "source": [
    "lst_lst = [[1,2,3],[4,5,6],[7,8,9]]\n",
    "d = np.array(lst_lst)\n",
    "print(d)"
   ]
  },
  {
   "cell_type": "markdown",
   "metadata": {},
   "source": [
    "This works the same way whether you have a list of lists, a list of tuples, a tuple of lists, or a tuple of tuples.\n",
    "\n",
    "\n",
    "\n",
    "\n",
    "# Numpy Math Functions\n",
    "\n",
    "Now that we know how to create and navigate arrays, let's take a look at how to perform mathematical calculations on them.\n",
    "\n",
    "One of the most common (and useful) functions is np.sum, which lets you obtain the sum of any elements you select from an array. "
   ]
  },
  {
   "cell_type": "code",
   "execution_count": 14,
   "metadata": {},
   "outputs": [
    {
     "name": "stdout",
     "output_type": "stream",
     "text": [
      "21.424801388087637\n"
     ]
    }
   ],
   "source": [
    "# Sum of all elements in matrix a\n",
    "print(np.sum(a))"
   ]
  },
  {
   "cell_type": "code",
   "execution_count": 15,
   "metadata": {},
   "outputs": [
    {
     "name": "stdout",
     "output_type": "stream",
     "text": [
      "[5.69517233 4.84007441 4.96842629 5.92112835]\n"
     ]
    }
   ],
   "source": [
    "# Sum of each column in matrix a\n",
    "print(np.sum(a, axis=0))"
   ]
  },
  {
   "cell_type": "code",
   "execution_count": 16,
   "metadata": {},
   "outputs": [
    {
     "name": "stdout",
     "output_type": "stream",
     "text": [
      "[2.48621959 1.43233847 2.14969308 2.09881569 2.23488207 2.39999028\n",
      " 2.05614788 2.19062841 2.36959787 2.00648805]\n"
     ]
    }
   ],
   "source": [
    "# Sum of each row in matrix a\n",
    "print(np.sum(a, axis=1))"
   ]
  },
  {
   "cell_type": "code",
   "execution_count": 17,
   "metadata": {},
   "outputs": [
    {
     "data": {
      "text/plain": [
       "6.191844643527795"
      ]
     },
     "execution_count": 17,
     "metadata": {},
     "output_type": "execute_result"
    }
   ],
   "source": [
    "# Sum of all the elements in the first two groups of array b\n",
    "np.sum(b[:2])"
   ]
  },
  {
   "cell_type": "markdown",
   "metadata": {},
   "source": [
    "The np.mean function works the same way and is also very useful. "
   ]
  },
  {
   "cell_type": "code",
   "execution_count": 18,
   "metadata": {},
   "outputs": [
    {
     "name": "stdout",
     "output_type": "stream",
     "text": [
      "0.5356200347021909\n"
     ]
    }
   ],
   "source": [
    "# Mean of all elements in matrix a\n",
    "print(np.mean(a))"
   ]
  },
  {
   "cell_type": "code",
   "execution_count": 19,
   "metadata": {},
   "outputs": [
    {
     "name": "stdout",
     "output_type": "stream",
     "text": [
      "[0.56951723 0.48400744 0.49684263 0.59211284]\n"
     ]
    }
   ],
   "source": [
    "# Mean of each column in matrix a\n",
    "print(np.mean(a, axis=0))"
   ]
  },
  {
   "cell_type": "code",
   "execution_count": 20,
   "metadata": {},
   "outputs": [
    {
     "name": "stdout",
     "output_type": "stream",
     "text": [
      "[0.6215549  0.35808462 0.53742327 0.52470392 0.55872052 0.59999757\n",
      " 0.51403697 0.5476571  0.59239947 0.50162201]\n"
     ]
    }
   ],
   "source": [
    "# Mean of each row in matrix a\n",
    "print(np.mean(a, axis=1))"
   ]
  },
  {
   "cell_type": "code",
   "execution_count": 21,
   "metadata": {},
   "outputs": [
    {
     "data": {
      "text/plain": [
       "0.5159870536273162"
      ]
     },
     "execution_count": 21,
     "metadata": {},
     "output_type": "execute_result"
    }
   ],
   "source": [
    "# Mean of all the elements in the first two groups of array b\n",
    "np.mean(b[:2])"
   ]
  },
  {
   "cell_type": "markdown",
   "metadata": {},
   "source": [
    "In addition to letting you perform calculations on individual arrays, Numpy also lets you perform calculations between arrays. For example, let's select two of the subarrays from array c to illustrate how this works."
   ]
  },
  {
   "cell_type": "code",
   "execution_count": 22,
   "metadata": {},
   "outputs": [
    {
     "name": "stdout",
     "output_type": "stream",
     "text": [
      "[[0.99272033 0.04456831 0.26268715 0.14209479 0.68451506]\n",
      " [0.61555284 0.3967229  0.53301792 0.95603718 0.36249466]\n",
      " [0.5259538  0.72108927 0.55246411 0.03500329 0.24401701]\n",
      " [0.81453828 0.84575786 0.39453212 0.74035051 0.67775551]]\n"
     ]
    }
   ],
   "source": [
    "x = c[0,0]\n",
    "print(x)"
   ]
  },
  {
   "cell_type": "code",
   "execution_count": 23,
   "metadata": {},
   "outputs": [
    {
     "name": "stdout",
     "output_type": "stream",
     "text": [
      "[[0.74616469 0.23836887 0.67732386 0.98405554 0.27110452]\n",
      " [0.30240821 0.62453297 0.30007127 0.79845493 0.67672837]\n",
      " [0.73874678 0.45346956 0.88346343 0.58798586 0.65821473]\n",
      " [0.64733909 0.06936304 0.50324249 0.26083157 0.99433447]]\n"
     ]
    }
   ],
   "source": [
    "y = c[0,1]\n",
    "print(y)"
   ]
  },
  {
   "cell_type": "markdown",
   "metadata": {},
   "source": [
    "We can now add, subtract, multiply, and divide the two arrays."
   ]
  },
  {
   "cell_type": "code",
   "execution_count": 24,
   "metadata": {},
   "outputs": [
    {
     "name": "stdout",
     "output_type": "stream",
     "text": [
      "[[1.73888502 0.28293718 0.94001101 1.12615033 0.95561958]\n",
      " [0.91796105 1.02125588 0.83308919 1.75449211 1.03922303]\n",
      " [1.26470057 1.17455883 1.43592754 0.62298915 0.90223174]\n",
      " [1.46187737 0.9151209  0.89777461 1.00118208 1.67208997]]\n"
     ]
    }
   ],
   "source": [
    "# Add elements of x and y together\n",
    "print(np.add(x, y))"
   ]
  },
  {
   "cell_type": "code",
   "execution_count": 25,
   "metadata": {},
   "outputs": [
    {
     "name": "stdout",
     "output_type": "stream",
     "text": [
      "[[-0.24655564  0.19380056  0.4146367   0.84196075 -0.41341054]\n",
      " [-0.31314463  0.22781007 -0.23294665 -0.15758225  0.31423371]\n",
      " [ 0.21279298 -0.26761972  0.33099933  0.55298256  0.41419772]\n",
      " [-0.16719919 -0.77639483  0.10871036 -0.47951894  0.31657896]]\n"
     ]
    }
   ],
   "source": [
    "# Subtract elements of x from elements of y\n",
    "print(np.subtract(y, x))"
   ]
  },
  {
   "cell_type": "code",
   "execution_count": 26,
   "metadata": {},
   "outputs": [
    {
     "name": "stdout",
     "output_type": "stream",
     "text": [
      "[[0.74073286 0.0106237  0.17792428 0.13982917 0.18557513]\n",
      " [0.18614823 0.24776653 0.15994337 0.7633526  0.24531042]\n",
      " [0.38854667 0.32699203 0.48808184 0.02058144 0.16061559]\n",
      " [0.52728247 0.05866433 0.19854533 0.19310679 0.67391566]]\n"
     ]
    }
   ],
   "source": [
    "# Multiply elements of x and y together\n",
    "print(np.multiply(x, y))"
   ]
  },
  {
   "cell_type": "code",
   "execution_count": 27,
   "metadata": {},
   "outputs": [
    {
     "name": "stdout",
     "output_type": "stream",
     "text": [
      "[[ 0.75163636  5.34839368  2.57844302  6.92534569  0.39605341]\n",
      " [ 0.49127905  1.57422968  0.56296657  0.83517142  1.86686438]\n",
      " [ 1.40458494  0.62886743  1.59913273 16.79801462  2.6974133 ]\n",
      " [ 0.79473133  0.08201288  1.27554249  0.35230822  1.46709906]]\n"
     ]
    }
   ],
   "source": [
    "# Divide elements of y by elements of x\n",
    "print(np.divide(y, x))"
   ]
  },
  {
   "cell_type": "markdown",
   "metadata": {},
   "source": [
    "This is only the tip of the iceberg. Numpy has many more functions, which you can and should explore. You can read more about them in the [Numpy documentation](https://docs.scipy.org/doc/numpy-1.13.0/reference/routines.math.html). "
   ]
  },
  {
   "cell_type": "code",
   "execution_count": null,
   "metadata": {},
   "outputs": [],
   "source": []
  }
 ],
 "metadata": {
  "kernelspec": {
   "display_name": "Python 3",
   "language": "python",
   "name": "python3"
  },
  "language_info": {
   "codemirror_mode": {
    "name": "ipython",
    "version": 3
   },
   "file_extension": ".py",
   "mimetype": "text/x-python",
   "name": "python",
   "nbconvert_exporter": "python",
   "pygments_lexer": "ipython3",
   "version": "3.7.1"
  }
 },
 "nbformat": 4,
 "nbformat_minor": 2
}

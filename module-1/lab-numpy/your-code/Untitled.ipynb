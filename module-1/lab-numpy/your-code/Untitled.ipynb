{
 "cells": [
  {
   "cell_type": "code",
   "execution_count": 50,
   "metadata": {},
   "outputs": [
    {
     "name": "stdout",
     "output_type": "stream",
     "text": [
      "1.15.4\n",
      "[[[0.39426536 0.49612643 0.61284829 0.1148676  0.08489896]\n",
      "  [0.38830282 0.73474702 0.98753263 0.42938691 0.77847781]\n",
      "  [0.82731678 0.76893865 0.84202493 0.09426616 0.81465434]]\n",
      "\n",
      " [[0.08479635 0.66131272 0.54662328 0.06704385 0.9941095 ]\n",
      "  [0.97957045 0.25756274 0.32545342 0.48175384 0.72159417]\n",
      "  [0.78686856 0.12165102 0.54535404 0.82999973 0.93981367]]]\n",
      "[[[1. 1. 1.]\n",
      "  [1. 1. 1.]]\n",
      "\n",
      " [[1. 1. 1.]\n",
      "  [1. 1. 1.]]\n",
      "\n",
      " [[1. 1. 1.]\n",
      "  [1. 1. 1.]]\n",
      "\n",
      " [[1. 1. 1.]\n",
      "  [1. 1. 1.]]\n",
      "\n",
      " [[1. 1. 1.]\n",
      "  [1. 1. 1.]]]\n",
      "True\n",
      "(2, 3, 5)\n",
      "[[[0.39426536 0.49612643 0.61284829 0.1148676  0.08489896]\n",
      "  [0.38830282 0.73474702 0.98753263 0.42938691 0.77847781]\n",
      "  [0.82731678 0.76893865 0.84202493 0.09426616 0.81465434]]\n",
      "\n",
      " [[0.08479635 0.66131272 0.54662328 0.06704385 0.9941095 ]\n",
      "  [0.97957045 0.25756274 0.32545342 0.48175384 0.72159417]\n",
      "  [0.78686856 0.12165102 0.54535404 0.82999973 0.93981367]]]\n",
      "[[[1.39426536 1.49612643 1.61284829 1.1148676  1.08489896]\n",
      "  [1.38830282 1.73474702 1.98753263 1.42938691 1.77847781]\n",
      "  [1.82731678 1.76893865 1.84202493 1.09426616 1.81465434]]\n",
      "\n",
      " [[1.08479635 1.66131272 1.54662328 1.06704385 1.9941095 ]\n",
      "  [1.97957045 1.25756274 1.32545342 1.48175384 1.72159417]\n",
      "  [1.78686856 1.12165102 1.54535404 1.82999973 1.93981367]]]\n",
      "[[[0.39426536 0.49612643 0.61284829 0.1148676  0.08489896]\n",
      "  [0.38830282 0.73474702 0.98753263 0.42938691 0.77847781]\n",
      "  [0.82731678 0.76893865 0.84202493 0.09426616 0.81465434]]\n",
      "\n",
      " [[0.08479635 0.66131272 0.54662328 0.06704385 0.9941095 ]\n",
      "  [0.97957045 0.25756274 0.32545342 0.48175384 0.72159417]\n",
      "  [0.78686856 0.12165102 0.54535404 0.82999973 0.93981367]]]\n",
      "[[[0.39426536 0.49612643 0.61284829 0.1148676  0.08489896]\n",
      "  [0.38830282 0.73474702 0.98753263 0.42938691 0.77847781]\n",
      "  [0.82731678 0.76893865 0.84202493 0.09426616 0.81465434]]\n",
      "\n",
      " [[0.08479635 0.66131272 0.54662328 0.06704385 0.9941095 ]\n",
      "  [0.97957045 0.25756274 0.32545342 0.48175384 0.72159417]\n",
      "  [0.78686856 0.12165102 0.54535404 0.82999973 0.93981367]]]\n",
      "Max=1.994109500351903, Min=1.06704384646853, Mean=1.5570720668775415\n"
     ]
    }
   ],
   "source": [
    "#1. Import the NUMPY package under the name np.\n",
    "import numpy as np\n",
    "\n",
    "\n",
    "#2. Print the NUMPY version and the configuration.}\n",
    "print(np.version.version)\n",
    "\n",
    "\n",
    "\n",
    "\n",
    "#3. Generate a 2x3x5 3-dimensional array with random values. Assign the array to variable \"a\"\n",
    "# Challenge: there are at least three easy ways that use numpy to generate random arrays. How many ways can you find?\n",
    "a = np.random.random((2,3,5))\n",
    "\n",
    "\n",
    "#4. Print a.\n",
    "print(a)\n",
    "\n",
    "\n",
    "#5. Create a 5x2x3 3-dimensional array with all values equaling 1.\n",
    "#Assign the array to variable \"b\"\n",
    "b= np.ones((5,2,3))\n",
    "\n",
    "\n",
    "#6. Print b.\n",
    "print(b)\n",
    "\n",
    "\n",
    "#7. Do a and b have the same size? How do you prove that in Python code?\n",
    "\n",
    "print(a.size == b.size)\n",
    "\n",
    "\n",
    "#8. Are you able to add a and b? Why or why not?\n",
    "\n",
    "\n",
    "#No se pudo porque no tienen la misma \"shape\"\n",
    "\n",
    "#9. Transpose b so that it has the same structure of a (i.e. become a 2x3x5 array). Assign the transposed array to varialbe \"c\".\n",
    "\n",
    "c = b.reshape(2,3,5)\n",
    "print(c.shape)\n",
    "\n",
    "#10. Try to add a and c. Now it should work. Assign the sum to varialbe \"d\". But why does it work now?\n",
    "\n",
    "d = np.add(a,c)\n",
    "#  funcionó.\n",
    "\n",
    "#11. Print a and d. Notice the difference and relation of the two array in terms of the values? Explain.\n",
    "print(a)\n",
    "print(d)\n",
    "\n",
    "\n",
    "\n",
    "#12. Multiply a and c. Assign the result to e.\n",
    "\n",
    "e = np.multiply(a,c)\n",
    "\n",
    "#13. Does e equal to a? Why or why not?\n",
    "\n",
    "print(a)\n",
    "print(e)\n",
    "#Sí fueron iguales\n",
    "\n",
    "#14. Identify the max, min, and mean values in d. Assign those values to variables \"d_max\", \"d_min\", and \"d_mean\"\n",
    "d_max = np.max(d)\n",
    "d_min = np.min(d)\n",
    "d_mean = np.mean(d)\n",
    "\n",
    "print('Max={}, Min={}, Mean={}'.format(d_max,d_min,d_mean))\n",
    "\n",
    "#15. Now we want to label the values in d. First create an empty array \"f\" with the same shape (i.e. 2x3x5) as d using `np.empty`.\n",
    "\n",
    "\n",
    "f = np.empty([2,3,5])\n",
    "\n"
   ]
  },
  {
   "cell_type": "code",
   "execution_count": 52,
   "metadata": {},
   "outputs": [
    {
     "name": "stdout",
     "output_type": "stream",
     "text": [
      "[[[1.39426536 1.49612643 1.61284829 1.1148676  1.08489896]\n",
      "  [1.38830282 1.73474702 1.98753263 1.42938691 1.77847781]\n",
      "  [1.82731678 1.76893865 1.84202493 1.09426616 1.81465434]]\n",
      "\n",
      " [[1.08479635 1.66131272 1.54662328 1.06704385 1.9941095 ]\n",
      "  [1.97957045 1.25756274 1.32545342 1.48175384 1.72159417]\n",
      "  [1.78686856 1.12165102 1.54535404 1.82999973 1.93981367]]]\n",
      "[[[25. 25. 75. 25. 25.]\n",
      "  [25. 75. 75. 25. 75.]\n",
      "  [75. 75. 75. 25. 75.]]\n",
      "\n",
      " [[25. 75. 25.  0.  1.]\n",
      "  [75. 25. 25. 25. 75.]\n",
      "  [75. 25. 25. 75. 75.]]]\n"
     ]
    }
   ],
   "source": [
    "\"\"\"\n",
    "#16. Populate the values in f. For each value in d, if it's larger than d_min but smaller than d_mean, assign 25 to the corresponding value in f.\n",
    "If a value in d is larger than d_mean but smaller than d_max, assign 75 to the corresponding value in f.\n",
    "If a value equals to d_mean, assign 50 to the corresponding value in f.\n",
    "Assign 0 to the corresponding value(s) in f for d_min in d.\n",
    "Assign 100 to the corresponding value(s) in f for d_max in d.\n",
    "In the end, f should have only the following values: 0, 25, 50, 75, and 100.\n",
    "Note: you don't have to use Numpy in this question.\n",
    "\"\"\"\n",
    "\n",
    "for i in range(len(d)):\n",
    "    for j in range(len(d[0])):\n",
    "        for k in range(len(d[0,0])):\n",
    "            if d[i,j,k] > d_min and d[i,j,k] < d_mean:\n",
    "                f[i,j,k] = 25\n",
    "            elif d[i,j,k] > d_mean and d[i,j,k] < d_max:\n",
    "                f[i,j,k] = 75\n",
    "            elif d[i,j,k] == d_mean:\n",
    "                f[i,j,k] = 50\n",
    "            elif d[i,j,k] <= d_min:\n",
    "                f[i,j,k] = 0\n",
    "            elif d[i,j,k] > d_mean and d[i,j,k] <= d_max:\n",
    "                f[i,j,k] = 100\n"
   ]
  },
  {
   "cell_type": "code",
   "execution_count": 53,
   "metadata": {},
   "outputs": [
    {
     "name": "stdout",
     "output_type": "stream",
     "text": [
      "[[[1.39426536 1.49612643 1.61284829 1.1148676  1.08489896]\n",
      "  [1.38830282 1.73474702 1.98753263 1.42938691 1.77847781]\n",
      "  [1.82731678 1.76893865 1.84202493 1.09426616 1.81465434]]\n",
      "\n",
      " [[1.08479635 1.66131272 1.54662328 1.06704385 1.9941095 ]\n",
      "  [1.97957045 1.25756274 1.32545342 1.48175384 1.72159417]\n",
      "  [1.78686856 1.12165102 1.54535404 1.82999973 1.93981367]]]\n",
      "[[[25. 25. 75. 25. 25.]\n",
      "  [25. 75. 75. 25. 75.]\n",
      "  [75. 75. 75. 25. 75.]]\n",
      "\n",
      " [[25. 75. 25.  0.  1.]\n",
      "  [75. 25. 25. 25. 75.]\n",
      "  [75. 25. 25. 75. 75.]]]\n"
     ]
    }
   ],
   "source": [
    "\"\"\"\n",
    "#17. Print d and f. Do you have your expected f?\n",
    "For instance, if your d is:\n",
    "array([[[1.85836099, 1.67064465, 1.62576044, 1.40243961, 1.88454931],\n",
    "        [1.75354326, 1.69403643, 1.36729252, 1.61415071, 1.12104981],\n",
    "        [1.72201435, 1.1862918 , 1.87078449, 1.7726778 , 1.88180042]],\n",
    "\n",
    "       [[1.44747908, 1.31673383, 1.02000951, 1.52218947, 1.97066381],\n",
    "        [1.79129243, 1.74983003, 1.96028037, 1.85166831, 1.65450881],\n",
    "        [1.18068344, 1.9587381 , 1.00656599, 1.93402165, 1.73514584]]])\n",
    "\n",
    "Your f should be:\n",
    "array([[[ 75.,  75.,  75.,  25.,  75.],\n",
    "        [ 75.,  75.,  25.,  25.,  25.],\n",
    "        [ 75.,  25.,  75.,  75.,  75.]],\n",
    "\n",
    "       [[ 25.,  25.,  25.,  25., 100.],\n",
    "        [ 75.,  75.,  75.,  75.,  75.],\n",
    "        [ 25.,  75.,   0.,  75.,  75.]]])\n",
    "\"\"\"\n",
    "print(d)\n",
    "\n",
    "print(f)\n",
    "#Sí, obtuvé lo que esperaba."
   ]
  },
  {
   "cell_type": "code",
   "execution_count": 58,
   "metadata": {},
   "outputs": [
    {
     "name": "stdout",
     "output_type": "stream",
     "text": [
      "[[['B' 'B' 'D' 'B' 'B']\n",
      "  ['B' 'D' 'D' 'B' 'D']\n",
      "  ['D' 'D' 'D' 'B' 'D']]\n",
      "\n",
      " [['B' 'D' 'B' 'A' 'E']\n",
      "  ['D' 'B' 'B' 'B' 'D']\n",
      "  ['D' 'B' 'B' 'D' 'D']]]\n"
     ]
    }
   ],
   "source": [
    "\"\"\"\n",
    "#18. Bonus question: instead of using numbers (i.e. 0, 25, 50, 75, and 100), how to use string values \n",
    "(\"A\", \"B\", \"C\", \"D\", and \"E\") to label the array elements? You are expecting the result to be:\n",
    "array([[[ 'D',  'D',  'D',  'B',  'D'],\n",
    "        [ 'D',  'D',  'B',  'B',  'B'],\n",
    "        [ 'D',  'B',  'D',  'D',  'D']],\n",
    "\n",
    "       [[ 'B',  'B',  'B',  'B',  'E'],\n",
    "        [ 'D',  'D',  'D',  'D',  'D'],\n",
    "        [ 'B',  'D',   'A',  'D', 'D']]])\n",
    "Again, you don't need Numpy in this question.\n",
    "\"\"\"\n",
    "g = np.empty([2,3,5], dtype=str)\n",
    "\n",
    "for i in range(len(d)):\n",
    "    for j in range(len(d[0])):\n",
    "        for k in range(len(d[0,0])):\n",
    "            if d[i,j,k] > d_min and d[i,j,k] < d_mean:\n",
    "                g[i,j,k] = 'B'\n",
    "            elif d[i,j,k] > d_mean and d[i,j,k] < d_max:\n",
    "                g[i,j,k] = 'D'\n",
    "            elif d[i,j,k] == d_mean:\n",
    "                g[i,j,k] = 'C'\n",
    "            elif d[i,j,k] <= d_min:\n",
    "                g[i,j,k] = 'A'\n",
    "            elif d[i,j,k] > d_mean and d[i,j,k] <= d_max:\n",
    "                g[i,j,k] = 'E'\n",
    "print(g)"
   ]
  },
  {
   "cell_type": "code",
   "execution_count": 57,
   "metadata": {},
   "outputs": [
    {
     "name": "stdout",
     "output_type": "stream",
     "text": [
      "[[['B' 'B' 'D' 'B' 'B']\n",
      "  ['B' 'D' 'D' 'B' 'D']\n",
      "  ['D' 'D' 'D' 'B' 'D']]\n",
      "\n",
      " [['B' 'D' 'B' 'A' 'E']\n",
      "  ['D' 'B' 'B' 'B' 'D']\n",
      "  ['D' 'B' 'B' 'D' 'D']]]\n"
     ]
    }
   ],
   "source": []
  },
  {
   "cell_type": "code",
   "execution_count": null,
   "metadata": {},
   "outputs": [],
   "source": []
  },
  {
   "cell_type": "code",
   "execution_count": null,
   "metadata": {},
   "outputs": [],
   "source": []
  },
  {
   "cell_type": "code",
   "execution_count": null,
   "metadata": {},
   "outputs": [],
   "source": []
  },
  {
   "cell_type": "code",
   "execution_count": null,
   "metadata": {},
   "outputs": [],
   "source": []
  },
  {
   "cell_type": "code",
   "execution_count": null,
   "metadata": {},
   "outputs": [],
   "source": []
  },
  {
   "cell_type": "code",
   "execution_count": null,
   "metadata": {},
   "outputs": [],
   "source": []
  },
  {
   "cell_type": "code",
   "execution_count": null,
   "metadata": {},
   "outputs": [],
   "source": []
  },
  {
   "cell_type": "code",
   "execution_count": 55,
   "metadata": {},
   "outputs": [
    {
     "data": {
      "text/plain": [
       "str"
      ]
     },
     "execution_count": 55,
     "metadata": {},
     "output_type": "execute_result"
    }
   ],
   "source": [
    "type('h')"
   ]
  },
  {
   "cell_type": "code",
   "execution_count": null,
   "metadata": {},
   "outputs": [],
   "source": [
    "\n",
    "\n",
    "\n",
    "\n",
    "\n",
    "\n",
    "\n",
    "\n",
    "\n"
   ]
  },
  {
   "cell_type": "code",
   "execution_count": null,
   "metadata": {},
   "outputs": [],
   "source": []
  }
 ],
 "metadata": {
  "kernelspec": {
   "display_name": "Python 3",
   "language": "python",
   "name": "python3"
  },
  "language_info": {
   "codemirror_mode": {
    "name": "ipython",
    "version": 3
   },
   "file_extension": ".py",
   "mimetype": "text/x-python",
   "name": "python",
   "nbconvert_exporter": "python",
   "pygments_lexer": "ipython3",
   "version": "3.7.1"
  }
 },
 "nbformat": 4,
 "nbformat_minor": 2
}

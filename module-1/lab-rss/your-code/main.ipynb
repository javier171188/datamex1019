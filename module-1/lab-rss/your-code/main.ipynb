{
 "cells": [
  {
   "cell_type": "markdown",
   "metadata": {},
   "source": [
    "# Working with RSS Feeds Lab\n",
    "\n",
    "Complete the following set of exercises to solidify your knowledge of parsing RSS feeds and extracting information from them."
   ]
  },
  {
   "cell_type": "code",
   "execution_count": 1,
   "metadata": {},
   "outputs": [],
   "source": [
    "import feedparser"
   ]
  },
  {
   "cell_type": "markdown",
   "metadata": {},
   "source": [
    "### 1. Use feedparser to parse the following RSS feed URL."
   ]
  },
  {
   "cell_type": "code",
   "execution_count": 2,
   "metadata": {},
   "outputs": [],
   "source": [
    "url = 'http://feeds.feedburner.com/oreilly/radar/atom'"
   ]
  },
  {
   "cell_type": "code",
   "execution_count": 4,
   "metadata": {},
   "outputs": [],
   "source": [
    "radar = feedparser.parse(url)"
   ]
  },
  {
   "cell_type": "markdown",
   "metadata": {},
   "source": [
    "### 2. Obtain a list of components (keys) that are available for this feed."
   ]
  },
  {
   "cell_type": "code",
   "execution_count": 5,
   "metadata": {},
   "outputs": [
    {
     "data": {
      "text/plain": [
       "dict_keys(['feed', 'entries', 'bozo', 'headers', 'etag', 'updated', 'updated_parsed', 'href', 'status', 'encoding', 'version', 'namespaces'])"
      ]
     },
     "execution_count": 5,
     "metadata": {},
     "output_type": "execute_result"
    }
   ],
   "source": [
    "radar.keys()"
   ]
  },
  {
   "cell_type": "markdown",
   "metadata": {},
   "source": [
    "### 3. Obtain a list of components (keys) that are available for the *feed* component of this RSS feed."
   ]
  },
  {
   "cell_type": "code",
   "execution_count": 6,
   "metadata": {},
   "outputs": [
    {
     "data": {
      "text/plain": [
       "dict_keys(['title', 'title_detail', 'links', 'link', 'subtitle', 'subtitle_detail', 'updated', 'updated_parsed', 'language', 'sy_updateperiod', 'sy_updatefrequency', 'generator_detail', 'generator', 'feedburner_info', 'geo_lat', 'geo_long', 'feedburner_emailserviceid', 'feedburner_feedburnerhostname'])"
      ]
     },
     "execution_count": 6,
     "metadata": {},
     "output_type": "execute_result"
    }
   ],
   "source": [
    "radar.feed.keys()"
   ]
  },
  {
   "cell_type": "markdown",
   "metadata": {},
   "source": [
    "### 4. Extract and print the feed title, subtitle, author, and link."
   ]
  },
  {
   "cell_type": "code",
   "execution_count": 86,
   "metadata": {},
   "outputs": [
    {
     "name": "stdout",
     "output_type": "stream",
     "text": [
      "Radar Now, next, and beyond: Tracking need-to-know trends at the intersection of business and technology Mac Slocum https://www.oreilly.com/radar\n"
     ]
    }
   ],
   "source": [
    "print(radar.feed['title'], radar.feed['subtitle'], radar.entries[0].author, radar.feed['link'])"
   ]
  },
  {
   "cell_type": "code",
   "execution_count": null,
   "metadata": {},
   "outputs": [],
   "source": []
  },
  {
   "cell_type": "markdown",
   "metadata": {},
   "source": [
    "### 5. Count the number of entries that are contained in this RSS feed."
   ]
  },
  {
   "cell_type": "code",
   "execution_count": 87,
   "metadata": {},
   "outputs": [
    {
     "data": {
      "text/plain": [
       "18"
      ]
     },
     "execution_count": 87,
     "metadata": {},
     "output_type": "execute_result"
    }
   ],
   "source": [
    "len(radar.entries)"
   ]
  },
  {
   "cell_type": "markdown",
   "metadata": {},
   "source": [
    "### 6. Obtain a list of components (keys) available for an entry.\n",
    "\n",
    "*Hint: Remember to index first before requesting the keys*"
   ]
  },
  {
   "cell_type": "code",
   "execution_count": 98,
   "metadata": {},
   "outputs": [
    {
     "name": "stdout",
     "output_type": "stream",
     "text": [
      "dict_keys(['title', 'title_detail', 'links', 'link', 'comments', 'published', 'published_parsed', 'authors', 'author', 'author_detail', 'tags', 'id', 'guidislink', 'summary', 'summary_detail', 'content', 'wfw_commentrss', 'slash_comments', 'feedburner_origlink'])\n"
     ]
    }
   ],
   "source": [
    "print(radar.entries[0].keys())"
   ]
  },
  {
   "cell_type": "markdown",
   "metadata": {},
   "source": [
    "### 7. Extract a list of entry titles."
   ]
  },
  {
   "cell_type": "code",
   "execution_count": 102,
   "metadata": {},
   "outputs": [
    {
     "name": "stdout",
     "output_type": "stream",
     "text": [
      "Highlights from the O’Reilly Velocity Conference in Berlin 2019\n",
      "Highlights from the O’Reilly Software Architecture Conference in Berlin 2019\n",
      "Modern machine learning architectures: Data and hardware and platform, oh my\n",
      "The new norms of cloud native\n",
      "Observability: Understanding production through your customers’ eyes\n",
      "Secure reliable systems\n",
      "My love letter to computer science is very short and I also forgot to mail it\n",
      "Everything is a little bit broken; or, The illusion of control\n",
      "Four short links: 6 November 2019\n",
      "It’s important to cultivate your organization’s collective genius\n",
      "Four short links: 5 November 2019\n",
      "Four short links: 4 November 2019\n",
      "Quantum computing’s potential is still far off, but quantum supremacy shows we’re on the right track\n",
      "Four short links: 1 November 2019\n",
      "Highlights from TensorFlow World in Santa Clara, California 2019\n",
      "Sticker recommendations and AI-driven innovations on the Hike messaging platform\n",
      "“Human error”: How can we help people build models that do what they expect\n",
      "Personalization of Spotify Home and TensorFlow\n"
     ]
    }
   ],
   "source": [
    "for  e in radar.entries:\n",
    "    print(e.title)"
   ]
  },
  {
   "cell_type": "markdown",
   "metadata": {},
   "source": [
    "### 8. Calculate the percentage of \"Four short links\" entry titles."
   ]
  },
  {
   "cell_type": "code",
   "execution_count": 108,
   "metadata": {},
   "outputs": [
    {
     "name": "stdout",
     "output_type": "stream",
     "text": [
      "22.22222222222222%\n"
     ]
    }
   ],
   "source": [
    "n = 0\n",
    "for  e in radar.entries:\n",
    "    if 'Four short links' in str(e):\n",
    "        n+=1\n",
    "\n",
    "\n",
    "p = n/len(radar.entries)*100\n",
    "print('{}%'.format(p))"
   ]
  },
  {
   "cell_type": "markdown",
   "metadata": {},
   "source": [
    "### 9. Create a Pandas data frame from the feed's entries."
   ]
  },
  {
   "cell_type": "code",
   "execution_count": 109,
   "metadata": {},
   "outputs": [],
   "source": [
    "import pandas as pd"
   ]
  },
  {
   "cell_type": "code",
   "execution_count": 123,
   "metadata": {},
   "outputs": [
    {
     "data": {
      "text/html": [
       "<div>\n",
       "<style scoped>\n",
       "    .dataframe tbody tr th:only-of-type {\n",
       "        vertical-align: middle;\n",
       "    }\n",
       "\n",
       "    .dataframe tbody tr th {\n",
       "        vertical-align: top;\n",
       "    }\n",
       "\n",
       "    .dataframe thead th {\n",
       "        text-align: right;\n",
       "    }\n",
       "</style>\n",
       "<table border=\"1\" class=\"dataframe\">\n",
       "  <thead>\n",
       "    <tr style=\"text-align: right;\">\n",
       "      <th></th>\n",
       "      <th>title</th>\n",
       "      <th>title_detail</th>\n",
       "      <th>links</th>\n",
       "      <th>link</th>\n",
       "      <th>comments</th>\n",
       "      <th>published</th>\n",
       "      <th>published_parsed</th>\n",
       "      <th>authors</th>\n",
       "      <th>author</th>\n",
       "      <th>author_detail</th>\n",
       "      <th>tags</th>\n",
       "      <th>id</th>\n",
       "      <th>guidislink</th>\n",
       "      <th>summary</th>\n",
       "      <th>summary_detail</th>\n",
       "      <th>content</th>\n",
       "      <th>wfw_commentrss</th>\n",
       "      <th>slash_comments</th>\n",
       "      <th>feedburner_origlink</th>\n",
       "    </tr>\n",
       "  </thead>\n",
       "  <tbody>\n",
       "    <tr>\n",
       "      <th>0</th>\n",
       "      <td>Highlights from the O’Reilly Velocity Conferen...</td>\n",
       "      <td>{'type': 'text/plain', 'language': None, 'base...</td>\n",
       "      <td>[{'rel': 'alternate', 'type': 'text/html', 'hr...</td>\n",
       "      <td>http://feedproxy.google.com/~r/oreilly/radar/a...</td>\n",
       "      <td>https://www.oreilly.com/radar/highlights-from-...</td>\n",
       "      <td>Wed, 06 Nov 2019 18:45:07 +0000</td>\n",
       "      <td>(2019, 11, 6, 18, 45, 7, 2, 310, 0)</td>\n",
       "      <td>[{'name': 'Mac Slocum'}]</td>\n",
       "      <td>Mac Slocum</td>\n",
       "      <td>{'name': 'Mac Slocum'}</td>\n",
       "      <td>[{'term': 'Next Architecture', 'scheme': None,...</td>\n",
       "      <td>https://www.oreilly.com/radar/?p=10577</td>\n",
       "      <td>False</td>\n",
       "      <td>People from across the cloud native and distri...</td>\n",
       "      <td>{'type': 'text/html', 'language': None, 'base'...</td>\n",
       "      <td>[{'type': 'text/html', 'language': None, 'base...</td>\n",
       "      <td>https://www.oreilly.com/radar/highlights-from-...</td>\n",
       "      <td>0</td>\n",
       "      <td>https://www.oreilly.com/radar/highlights-from-...</td>\n",
       "    </tr>\n",
       "    <tr>\n",
       "      <th>1</th>\n",
       "      <td>Highlights from the O’Reilly Software Architec...</td>\n",
       "      <td>{'type': 'text/plain', 'language': None, 'base...</td>\n",
       "      <td>[{'rel': 'alternate', 'type': 'text/html', 'hr...</td>\n",
       "      <td>http://feedproxy.google.com/~r/oreilly/radar/a...</td>\n",
       "      <td>https://www.oreilly.com/radar/highlights-from-...</td>\n",
       "      <td>Wed, 06 Nov 2019 18:40:44 +0000</td>\n",
       "      <td>(2019, 11, 6, 18, 40, 44, 2, 310, 0)</td>\n",
       "      <td>[{'name': 'Mac Slocum'}]</td>\n",
       "      <td>Mac Slocum</td>\n",
       "      <td>{'name': 'Mac Slocum'}</td>\n",
       "      <td>[{'term': 'Next Architecture', 'scheme': None,...</td>\n",
       "      <td>https://www.oreilly.com/radar/?p=10569</td>\n",
       "      <td>False</td>\n",
       "      <td>Experts from across the software architecture ...</td>\n",
       "      <td>{'type': 'text/html', 'language': None, 'base'...</td>\n",
       "      <td>[{'type': 'text/html', 'language': None, 'base...</td>\n",
       "      <td>https://www.oreilly.com/radar/highlights-from-...</td>\n",
       "      <td>0</td>\n",
       "      <td>https://www.oreilly.com/radar/highlights-from-...</td>\n",
       "    </tr>\n",
       "    <tr>\n",
       "      <th>2</th>\n",
       "      <td>Modern machine learning architectures: Data an...</td>\n",
       "      <td>{'type': 'text/plain', 'language': None, 'base...</td>\n",
       "      <td>[{'rel': 'alternate', 'type': 'text/html', 'hr...</td>\n",
       "      <td>http://feedproxy.google.com/~r/oreilly/radar/a...</td>\n",
       "      <td>https://www.oreilly.com/radar/modern-machine-l...</td>\n",
       "      <td>Wed, 06 Nov 2019 18:40:13 +0000</td>\n",
       "      <td>(2019, 11, 6, 18, 40, 13, 2, 310, 0)</td>\n",
       "      <td>[{'name': 'Brian Sletten'}]</td>\n",
       "      <td>Brian Sletten</td>\n",
       "      <td>{'name': 'Brian Sletten'}</td>\n",
       "      <td>[{'term': 'Next Architecture', 'scheme': None,...</td>\n",
       "      <td>https://www.oreilly.com/radar/?p=10473</td>\n",
       "      <td>False</td>\n",
       "      <td>This is a keynote highlight from the O&amp;#8217;R...</td>\n",
       "      <td>{'type': 'text/html', 'language': None, 'base'...</td>\n",
       "      <td>[{'type': 'text/html', 'language': None, 'base...</td>\n",
       "      <td>https://www.oreilly.com/radar/modern-machine-l...</td>\n",
       "      <td>0</td>\n",
       "      <td>https://www.oreilly.com/radar/modern-machine-l...</td>\n",
       "    </tr>\n",
       "    <tr>\n",
       "      <th>3</th>\n",
       "      <td>The new norms of cloud native</td>\n",
       "      <td>{'type': 'text/plain', 'language': None, 'base...</td>\n",
       "      <td>[{'rel': 'alternate', 'type': 'text/html', 'hr...</td>\n",
       "      <td>http://feedproxy.google.com/~r/oreilly/radar/a...</td>\n",
       "      <td>https://www.oreilly.com/radar/the-new-norms-of...</td>\n",
       "      <td>Wed, 06 Nov 2019 18:40:10 +0000</td>\n",
       "      <td>(2019, 11, 6, 18, 40, 10, 2, 310, 0)</td>\n",
       "      <td>[{'name': 'Cheryl Hung'}]</td>\n",
       "      <td>Cheryl Hung</td>\n",
       "      <td>{'name': 'Cheryl Hung'}</td>\n",
       "      <td>[{'term': 'Next Architecture', 'scheme': None,...</td>\n",
       "      <td>https://www.oreilly.com/radar/?p=10484</td>\n",
       "      <td>False</td>\n",
       "      <td>This is a keynote highlight from the O&amp;#8217;R...</td>\n",
       "      <td>{'type': 'text/html', 'language': None, 'base'...</td>\n",
       "      <td>[{'type': 'text/html', 'language': None, 'base...</td>\n",
       "      <td>https://www.oreilly.com/radar/the-new-norms-of...</td>\n",
       "      <td>0</td>\n",
       "      <td>https://www.oreilly.com/radar/the-new-norms-of...</td>\n",
       "    </tr>\n",
       "    <tr>\n",
       "      <th>4</th>\n",
       "      <td>Observability: Understanding production throug...</td>\n",
       "      <td>{'type': 'text/plain', 'language': None, 'base...</td>\n",
       "      <td>[{'rel': 'alternate', 'type': 'text/html', 'hr...</td>\n",
       "      <td>http://feedproxy.google.com/~r/oreilly/radar/a...</td>\n",
       "      <td>https://www.oreilly.com/radar/observability-un...</td>\n",
       "      <td>Wed, 06 Nov 2019 18:30:32 +0000</td>\n",
       "      <td>(2019, 11, 6, 18, 30, 32, 2, 310, 0)</td>\n",
       "      <td>[{'name': 'Christine Yen'}]</td>\n",
       "      <td>Christine Yen</td>\n",
       "      <td>{'name': 'Christine Yen'}</td>\n",
       "      <td>[{'term': 'Next Architecture', 'scheme': None,...</td>\n",
       "      <td>https://www.oreilly.com/radar/?p=10517</td>\n",
       "      <td>False</td>\n",
       "      <td>This is a keynote highlight from the O&amp;#8217;R...</td>\n",
       "      <td>{'type': 'text/html', 'language': None, 'base'...</td>\n",
       "      <td>[{'type': 'text/html', 'language': None, 'base...</td>\n",
       "      <td>https://www.oreilly.com/radar/observability-un...</td>\n",
       "      <td>0</td>\n",
       "      <td>https://www.oreilly.com/radar/observability-un...</td>\n",
       "    </tr>\n",
       "  </tbody>\n",
       "</table>\n",
       "</div>"
      ],
      "text/plain": [
       "                                               title  \\\n",
       "0  Highlights from the O’Reilly Velocity Conferen...   \n",
       "1  Highlights from the O’Reilly Software Architec...   \n",
       "2  Modern machine learning architectures: Data an...   \n",
       "3                      The new norms of cloud native   \n",
       "4  Observability: Understanding production throug...   \n",
       "\n",
       "                                        title_detail  \\\n",
       "0  {'type': 'text/plain', 'language': None, 'base...   \n",
       "1  {'type': 'text/plain', 'language': None, 'base...   \n",
       "2  {'type': 'text/plain', 'language': None, 'base...   \n",
       "3  {'type': 'text/plain', 'language': None, 'base...   \n",
       "4  {'type': 'text/plain', 'language': None, 'base...   \n",
       "\n",
       "                                               links  \\\n",
       "0  [{'rel': 'alternate', 'type': 'text/html', 'hr...   \n",
       "1  [{'rel': 'alternate', 'type': 'text/html', 'hr...   \n",
       "2  [{'rel': 'alternate', 'type': 'text/html', 'hr...   \n",
       "3  [{'rel': 'alternate', 'type': 'text/html', 'hr...   \n",
       "4  [{'rel': 'alternate', 'type': 'text/html', 'hr...   \n",
       "\n",
       "                                                link  \\\n",
       "0  http://feedproxy.google.com/~r/oreilly/radar/a...   \n",
       "1  http://feedproxy.google.com/~r/oreilly/radar/a...   \n",
       "2  http://feedproxy.google.com/~r/oreilly/radar/a...   \n",
       "3  http://feedproxy.google.com/~r/oreilly/radar/a...   \n",
       "4  http://feedproxy.google.com/~r/oreilly/radar/a...   \n",
       "\n",
       "                                            comments  \\\n",
       "0  https://www.oreilly.com/radar/highlights-from-...   \n",
       "1  https://www.oreilly.com/radar/highlights-from-...   \n",
       "2  https://www.oreilly.com/radar/modern-machine-l...   \n",
       "3  https://www.oreilly.com/radar/the-new-norms-of...   \n",
       "4  https://www.oreilly.com/radar/observability-un...   \n",
       "\n",
       "                         published                      published_parsed  \\\n",
       "0  Wed, 06 Nov 2019 18:45:07 +0000   (2019, 11, 6, 18, 45, 7, 2, 310, 0)   \n",
       "1  Wed, 06 Nov 2019 18:40:44 +0000  (2019, 11, 6, 18, 40, 44, 2, 310, 0)   \n",
       "2  Wed, 06 Nov 2019 18:40:13 +0000  (2019, 11, 6, 18, 40, 13, 2, 310, 0)   \n",
       "3  Wed, 06 Nov 2019 18:40:10 +0000  (2019, 11, 6, 18, 40, 10, 2, 310, 0)   \n",
       "4  Wed, 06 Nov 2019 18:30:32 +0000  (2019, 11, 6, 18, 30, 32, 2, 310, 0)   \n",
       "\n",
       "                       authors         author              author_detail  \\\n",
       "0     [{'name': 'Mac Slocum'}]     Mac Slocum     {'name': 'Mac Slocum'}   \n",
       "1     [{'name': 'Mac Slocum'}]     Mac Slocum     {'name': 'Mac Slocum'}   \n",
       "2  [{'name': 'Brian Sletten'}]  Brian Sletten  {'name': 'Brian Sletten'}   \n",
       "3    [{'name': 'Cheryl Hung'}]    Cheryl Hung    {'name': 'Cheryl Hung'}   \n",
       "4  [{'name': 'Christine Yen'}]  Christine Yen  {'name': 'Christine Yen'}   \n",
       "\n",
       "                                                tags  \\\n",
       "0  [{'term': 'Next Architecture', 'scheme': None,...   \n",
       "1  [{'term': 'Next Architecture', 'scheme': None,...   \n",
       "2  [{'term': 'Next Architecture', 'scheme': None,...   \n",
       "3  [{'term': 'Next Architecture', 'scheme': None,...   \n",
       "4  [{'term': 'Next Architecture', 'scheme': None,...   \n",
       "\n",
       "                                       id  guidislink  \\\n",
       "0  https://www.oreilly.com/radar/?p=10577       False   \n",
       "1  https://www.oreilly.com/radar/?p=10569       False   \n",
       "2  https://www.oreilly.com/radar/?p=10473       False   \n",
       "3  https://www.oreilly.com/radar/?p=10484       False   \n",
       "4  https://www.oreilly.com/radar/?p=10517       False   \n",
       "\n",
       "                                             summary  \\\n",
       "0  People from across the cloud native and distri...   \n",
       "1  Experts from across the software architecture ...   \n",
       "2  This is a keynote highlight from the O&#8217;R...   \n",
       "3  This is a keynote highlight from the O&#8217;R...   \n",
       "4  This is a keynote highlight from the O&#8217;R...   \n",
       "\n",
       "                                      summary_detail  \\\n",
       "0  {'type': 'text/html', 'language': None, 'base'...   \n",
       "1  {'type': 'text/html', 'language': None, 'base'...   \n",
       "2  {'type': 'text/html', 'language': None, 'base'...   \n",
       "3  {'type': 'text/html', 'language': None, 'base'...   \n",
       "4  {'type': 'text/html', 'language': None, 'base'...   \n",
       "\n",
       "                                             content  \\\n",
       "0  [{'type': 'text/html', 'language': None, 'base...   \n",
       "1  [{'type': 'text/html', 'language': None, 'base...   \n",
       "2  [{'type': 'text/html', 'language': None, 'base...   \n",
       "3  [{'type': 'text/html', 'language': None, 'base...   \n",
       "4  [{'type': 'text/html', 'language': None, 'base...   \n",
       "\n",
       "                                      wfw_commentrss slash_comments  \\\n",
       "0  https://www.oreilly.com/radar/highlights-from-...              0   \n",
       "1  https://www.oreilly.com/radar/highlights-from-...              0   \n",
       "2  https://www.oreilly.com/radar/modern-machine-l...              0   \n",
       "3  https://www.oreilly.com/radar/the-new-norms-of...              0   \n",
       "4  https://www.oreilly.com/radar/observability-un...              0   \n",
       "\n",
       "                                 feedburner_origlink  \n",
       "0  https://www.oreilly.com/radar/highlights-from-...  \n",
       "1  https://www.oreilly.com/radar/highlights-from-...  \n",
       "2  https://www.oreilly.com/radar/modern-machine-l...  \n",
       "3  https://www.oreilly.com/radar/the-new-norms-of...  \n",
       "4  https://www.oreilly.com/radar/observability-un...  "
      ]
     },
     "execution_count": 123,
     "metadata": {},
     "output_type": "execute_result"
    }
   ],
   "source": [
    "df = pd.DataFrame(radar.entries)\n",
    "df.head()"
   ]
  },
  {
   "cell_type": "markdown",
   "metadata": {},
   "source": [
    "### 10. Count the number of entries per author and sort them in descending order."
   ]
  },
  {
   "cell_type": "code",
   "execution_count": 130,
   "metadata": {},
   "outputs": [
    {
     "data": {
      "text/html": [
       "<div>\n",
       "<style scoped>\n",
       "    .dataframe tbody tr th:only-of-type {\n",
       "        vertical-align: middle;\n",
       "    }\n",
       "\n",
       "    .dataframe tbody tr th {\n",
       "        vertical-align: top;\n",
       "    }\n",
       "\n",
       "    .dataframe thead th {\n",
       "        text-align: right;\n",
       "    }\n",
       "</style>\n",
       "<table border=\"1\" class=\"dataframe\">\n",
       "  <thead>\n",
       "    <tr style=\"text-align: right;\">\n",
       "      <th></th>\n",
       "      <th>author</th>\n",
       "      <th>entries</th>\n",
       "    </tr>\n",
       "  </thead>\n",
       "  <tbody>\n",
       "    <tr>\n",
       "      <th>11</th>\n",
       "      <td>Nat Torkington</td>\n",
       "      <td>4</td>\n",
       "    </tr>\n",
       "    <tr>\n",
       "      <th>9</th>\n",
       "      <td>Mac Slocum</td>\n",
       "      <td>3</td>\n",
       "    </tr>\n",
       "    <tr>\n",
       "      <th>0</th>\n",
       "      <td>Ana Oprea</td>\n",
       "      <td>1</td>\n",
       "    </tr>\n",
       "    <tr>\n",
       "      <th>1</th>\n",
       "      <td>Ankur Narang</td>\n",
       "      <td>1</td>\n",
       "    </tr>\n",
       "    <tr>\n",
       "      <th>2</th>\n",
       "      <td>Anna Roth</td>\n",
       "      <td>1</td>\n",
       "    </tr>\n",
       "    <tr>\n",
       "      <th>3</th>\n",
       "      <td>Brian Sletten</td>\n",
       "      <td>1</td>\n",
       "    </tr>\n",
       "    <tr>\n",
       "      <th>4</th>\n",
       "      <td>Cheryl Hung</td>\n",
       "      <td>1</td>\n",
       "    </tr>\n",
       "    <tr>\n",
       "      <th>5</th>\n",
       "      <td>Christine Yen</td>\n",
       "      <td>1</td>\n",
       "    </tr>\n",
       "    <tr>\n",
       "      <th>6</th>\n",
       "      <td>Heidi Waterhouse</td>\n",
       "      <td>1</td>\n",
       "    </tr>\n",
       "    <tr>\n",
       "      <th>7</th>\n",
       "      <td>James Mickens</td>\n",
       "      <td>1</td>\n",
       "    </tr>\n",
       "    <tr>\n",
       "      <th>8</th>\n",
       "      <td>Jenn Webb</td>\n",
       "      <td>1</td>\n",
       "    </tr>\n",
       "    <tr>\n",
       "      <th>10</th>\n",
       "      <td>Mike Loukides</td>\n",
       "      <td>1</td>\n",
       "    </tr>\n",
       "    <tr>\n",
       "      <th>12</th>\n",
       "      <td>Tony Jebara</td>\n",
       "      <td>1</td>\n",
       "    </tr>\n",
       "  </tbody>\n",
       "</table>\n",
       "</div>"
      ],
      "text/plain": [
       "              author  entries\n",
       "11    Nat Torkington        4\n",
       "9         Mac Slocum        3\n",
       "0          Ana Oprea        1\n",
       "1       Ankur Narang        1\n",
       "2          Anna Roth        1\n",
       "3      Brian Sletten        1\n",
       "4        Cheryl Hung        1\n",
       "5      Christine Yen        1\n",
       "6   Heidi Waterhouse        1\n",
       "7      James Mickens        1\n",
       "8          Jenn Webb        1\n",
       "10     Mike Loukides        1\n",
       "12       Tony Jebara        1"
      ]
     },
     "execution_count": 130,
     "metadata": {},
     "output_type": "execute_result"
    }
   ],
   "source": [
    "authors = df.groupby('author', as_index=False).agg({'title':'count'})\n",
    "authors.columns = ['author', 'entries']\n",
    "authors.sort_values('entries', ascending=False)\n"
   ]
  },
  {
   "cell_type": "markdown",
   "metadata": {},
   "source": [
    "### 11. Add a new column to the data frame that contains the length (number of characters) of each entry title. Return a data frame that contains the title, author, and title length of each entry in descending order (longest title length at the top)."
   ]
  },
  {
   "cell_type": "code",
   "execution_count": 131,
   "metadata": {},
   "outputs": [
    {
     "data": {
      "text/html": [
       "<div>\n",
       "<style scoped>\n",
       "    .dataframe tbody tr th:only-of-type {\n",
       "        vertical-align: middle;\n",
       "    }\n",
       "\n",
       "    .dataframe tbody tr th {\n",
       "        vertical-align: top;\n",
       "    }\n",
       "\n",
       "    .dataframe thead th {\n",
       "        text-align: right;\n",
       "    }\n",
       "</style>\n",
       "<table border=\"1\" class=\"dataframe\">\n",
       "  <thead>\n",
       "    <tr style=\"text-align: right;\">\n",
       "      <th></th>\n",
       "      <th>title</th>\n",
       "      <th>author</th>\n",
       "      <th>title_length</th>\n",
       "    </tr>\n",
       "  </thead>\n",
       "  <tbody>\n",
       "    <tr>\n",
       "      <th>12</th>\n",
       "      <td>Quantum computing’s potential is still far off...</td>\n",
       "      <td>Mike Loukides</td>\n",
       "      <td>100</td>\n",
       "    </tr>\n",
       "    <tr>\n",
       "      <th>15</th>\n",
       "      <td>Sticker recommendations and AI-driven innovati...</td>\n",
       "      <td>Ankur Narang</td>\n",
       "      <td>80</td>\n",
       "    </tr>\n",
       "    <tr>\n",
       "      <th>6</th>\n",
       "      <td>My love letter to computer science is very sho...</td>\n",
       "      <td>James Mickens</td>\n",
       "      <td>77</td>\n",
       "    </tr>\n",
       "    <tr>\n",
       "      <th>1</th>\n",
       "      <td>Highlights from the O’Reilly Software Architec...</td>\n",
       "      <td>Mac Slocum</td>\n",
       "      <td>76</td>\n",
       "    </tr>\n",
       "    <tr>\n",
       "      <th>2</th>\n",
       "      <td>Modern machine learning architectures: Data an...</td>\n",
       "      <td>Brian Sletten</td>\n",
       "      <td>76</td>\n",
       "    </tr>\n",
       "  </tbody>\n",
       "</table>\n",
       "</div>"
      ],
      "text/plain": [
       "                                                title         author  \\\n",
       "12  Quantum computing’s potential is still far off...  Mike Loukides   \n",
       "15  Sticker recommendations and AI-driven innovati...   Ankur Narang   \n",
       "6   My love letter to computer science is very sho...  James Mickens   \n",
       "1   Highlights from the O’Reilly Software Architec...     Mac Slocum   \n",
       "2   Modern machine learning architectures: Data an...  Brian Sletten   \n",
       "\n",
       "    title_length  \n",
       "12           100  \n",
       "15            80  \n",
       "6             77  \n",
       "1             76  \n",
       "2             76  "
      ]
     },
     "execution_count": 131,
     "metadata": {},
     "output_type": "execute_result"
    }
   ],
   "source": [
    "df['title_length'] = df['title'].apply(len)\n",
    "df[['title', 'author', 'title_length']].sort_values('title_length', ascending=False).head()"
   ]
  },
  {
   "cell_type": "markdown",
   "metadata": {},
   "source": [
    "### 12. Create a list of entry titles whose summary includes the phrase \"machine learning.\""
   ]
  },
  {
   "cell_type": "code",
   "execution_count": 154,
   "metadata": {},
   "outputs": [
    {
     "data": {
      "text/plain": [
       "['Highlights from the O’Reilly Software Architecture Conference in Berlin 2019',\n",
       " 'Highlights from TensorFlow World in Santa Clara, California 2019']"
      ]
     },
     "execution_count": 154,
     "metadata": {},
     "output_type": "execute_result"
    }
   ],
   "source": [
    "lst = []\n",
    "for i in range(len(df)):\n",
    "    #print(df['author'][i])\n",
    "    if 'machine learning' in str(df['summary'][i]):\n",
    "         #print(df['title'][i])\n",
    "         lst.append(df['title'][i])\n",
    "lst "
   ]
  },
  {
   "cell_type": "code",
   "execution_count": null,
   "metadata": {},
   "outputs": [],
   "source": []
  }
 ],
 "metadata": {
  "kernelspec": {
   "display_name": "Python 3",
   "language": "python",
   "name": "python3"
  },
  "language_info": {
   "codemirror_mode": {
    "name": "ipython",
    "version": 3
   },
   "file_extension": ".py",
   "mimetype": "text/x-python",
   "name": "python",
   "nbconvert_exporter": "python",
   "pygments_lexer": "ipython3",
   "version": "3.7.1"
  }
 },
 "nbformat": 4,
 "nbformat_minor": 2
}

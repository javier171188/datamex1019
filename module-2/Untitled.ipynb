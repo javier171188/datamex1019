{
 "cells": [
  {
   "cell_type": "code",
   "execution_count": 15,
   "metadata": {},
   "outputs": [
    {
     "name": "stdout",
     "output_type": "stream",
     "text": [
      "2 [1, 0, 0] 2\n",
      "3 [0, 1, 0] 0\n",
      "4 [1, 0, 1] 1\n",
      "5 [0, 0, 0] 2\n"
     ]
    },
    {
     "data": {
      "text/plain": [
       "(6, [2, 3, 4])"
      ]
     },
     "execution_count": 15,
     "metadata": {},
     "output_type": "execute_result"
    }
   ],
   "source": [
    "def convertFracts(lst):\n",
    "    den =[]\n",
    "    c=[]\n",
    "    for e in lst:\n",
    "        c.append(0)\n",
    "        den.append(e[1])\n",
    "    i = min(den)\n",
    "    t=1\n",
    "    #print(i,den )\n",
    "    while t:\n",
    "        for j in range(len(den)):\n",
    "            if i%den[j] == 0:\n",
    "                c[j] =1\n",
    "        \n",
    "        vi=1\n",
    "        for j in range(len(den)):\n",
    "            if c[j]==0:\n",
    "                vi=vi*1\n",
    "            else:\n",
    "                vi=vi*0\n",
    "        print(i,c,i%den[1]) \n",
    "        c=[]\n",
    "        for e in lst:\n",
    "            c.append(0)\n",
    "           \n",
    "        i=i+1\n",
    "        if vi==1:\n",
    "            t=0\n",
    "        \n",
    "    \n",
    "    return i,den    \n",
    "        \n",
    "        \n",
    "        \n",
    "                \n",
    "            \n",
    "            \n",
    "        \n",
    "        \n",
    "        \n",
    "    \n",
    "    \n",
    "a = [[1, 2], [1, 3], [1, 4]]\n",
    "convertFracts(a)"
   ]
  },
  {
   "cell_type": "code",
   "execution_count": null,
   "metadata": {},
   "outputs": [],
   "source": []
  }
 ],
 "metadata": {
  "kernelspec": {
   "display_name": "Python 3",
   "language": "python",
   "name": "python3"
  },
  "language_info": {
   "codemirror_mode": {
    "name": "ipython",
    "version": 3
   },
   "file_extension": ".py",
   "mimetype": "text/x-python",
   "name": "python",
   "nbconvert_exporter": "python",
   "pygments_lexer": "ipython3",
   "version": "3.7.1"
  }
 },
 "nbformat": 4,
 "nbformat_minor": 2
}

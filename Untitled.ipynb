{
 "cells": [
  {
   "cell_type": "code",
   "execution_count": 19,
   "metadata": {},
   "outputs": [
    {
     "data": {
      "text/plain": [
       "'TAACG'"
      ]
     },
     "execution_count": 19,
     "metadata": {},
     "output_type": "execute_result"
    }
   ],
   "source": [
    "def DNA_strand(dna):\n",
    "    # code here\n",
    "    lst = list(dna)\n",
    "    dna=''\n",
    "    def chec(s):\n",
    "        if s == 'A':\n",
    "            s ='T'\n",
    "        elif s == 'T':\n",
    "            s = 'A'\n",
    "        elif s == 'C':\n",
    "            s = 'G'\n",
    "        elif s == 'G':\n",
    "            s = 'C'\n",
    "        return s\n",
    "    for i in range(len(lst)):\n",
    "        lst[i] = chec(lst[i])\n",
    "        dna = dna + lst[i]\n",
    "    return dna\n",
    "    \n",
    "    \n",
    "DNA_strand('ATTGC')"
   ]
  },
  {
   "cell_type": "code",
   "execution_count": null,
   "metadata": {},
   "outputs": [],
   "source": []
  }
 ],
 "metadata": {
  "kernelspec": {
   "display_name": "Python 3",
   "language": "python",
   "name": "python3"
  },
  "language_info": {
   "codemirror_mode": {
    "name": "ipython",
    "version": 3
   },
   "file_extension": ".py",
   "mimetype": "text/x-python",
   "name": "python",
   "nbconvert_exporter": "python",
   "pygments_lexer": "ipython3",
   "version": "3.7.1"
  }
 },
 "nbformat": 4,
 "nbformat_minor": 2
}
